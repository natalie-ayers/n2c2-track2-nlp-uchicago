{
 "cells": [
  {
   "cell_type": "markdown",
   "metadata": {},
   "source": [
    "### Linear Regression to predict stay length from MIMIC-III"
   ]
  },
  {
   "cell_type": "code",
   "execution_count": 3,
   "metadata": {},
   "outputs": [],
   "source": [
    "import argparse\n",
    "from argparse import ArgumentParser\n",
    "from datetime import datetime\n",
    "import json\n",
    "import logging\n",
    "from pathlib import Path\n",
    "import shutil\n",
    "from typing import Dict, List, Tuple, Type\n",
    "\n",
    "import numpy as np\n",
    "import pytorch_lightning as pl\n",
    "from pytorch_lightning import loggers as pl_loggers\n",
    "from scipy import sparse\n",
    "import torch\n",
    "from torch import nn\n",
    "from torch.utils.data.dataloader import DataLoader\n",
    "from torch.utils.data.dataset import Dataset\n",
    "from torchmetrics import MeanSquaredError, MeanAbsoluteError, MeanAbsolutePercentageError, R2Score\n",
    "\n",
    "\n",
    "class LinearRegressionModel(nn.Module):\n",
    "    \"\"\"\n",
    "    Linear regression model\n",
    "    \"\"\"\n",
    "\n",
    "    def __init__(self, num_features):\n",
    "        \"\"\"\n",
    "        # Parameters\n",
    "        num_features : `int`, required.\n",
    "            Number of the features.\n",
    "        # Returns\n",
    "            `None`\n",
    "        \"\"\"\n",
    "        super().__init__()\n",
    "        # Hw-TODO: Add a linear layer to weight the features.\n",
    "        self.linear = nn.Linear(in_features=num_features, out_features=1, bias=True)\n",
    "        self.dropout = nn.Dropout(0.6)\n",
    "\n",
    "    def forward(self, features):\n",
    "        \"\"\"\n",
    "        Returns the logits of the model given features. \n",
    "        Note that model predictions should be either 0 or 1 based on a threshold.\n",
    "        # Parameters\n",
    "        features : `torch.FloatTensor`, required.\n",
    "            The tensor of features with the shape (batch_size, num_of_features)\n",
    "        # Returns\n",
    "        probs : `torch.FloatTensor`, required.\n",
    "            The tensor of output values with the shape (batch_size, 1) or (batch_size,)\n",
    "        \"\"\"\n",
    "        # Hw-TODO: Use `self.linear` you created in `__init__`\n",
    "        #          and appropriate nonlinearity/activation-function to compute\n",
    "        #          and return the probabilities of belonging to a class in the logistic regression.\n",
    "        out = self.linear(features)\n",
    "        #out = self.dropout(out)\n",
    "        #probs = torch.sigmoid(out)\n",
    "        return out"
   ]
  },
  {
   "cell_type": "code",
   "execution_count": 4,
   "metadata": {},
   "outputs": [],
   "source": [
    "class RegressionModule(pl.LightningModule):\n",
    "\n",
    "    def __init__(self, **kwargs):\n",
    "        super().__init__()\n",
    "\n",
    "        # Save arguments to `hparams` attribute, see the doc [here](https://pytorch-lightning.readthedocs.io/en/latest/common/hyperparameters.html).\n",
    "        self.save_hyperparameters()\n",
    "        data_dir = Path(self.hparams.data_dir)\n",
    "        #self.hparams.vocab = json.load(\n",
    "        #    open(data_dir.joinpath(self.hparams.vocab_filename)))\n",
    "        #self.hparams.vocab_size = len(self.hparams.vocab)\n",
    "\n",
    "        self.model = self.get_model()\n",
    "        self.step_count = 0\n",
    "        #self.accuracy = Accuracy()\n",
    "        #self.pr = Precision(threshold=0.5,average='macro',num_classes=1,multiclass=False)\n",
    "        self.mse = MeanSquaredError()\n",
    "        self.mape = MeanAbsolutePercentageError()\n",
    "        self.mae = MeanAbsoluteError()\n",
    "        self.r2 = R2Score() \n",
    "\n",
    "    def forward(self, *args, **kwargs):\n",
    "        return self.model(*args, **kwargs)\n",
    "\n",
    "    def training_step(self, batch, batch_idx):\n",
    "        input = self.batch2input(batch)\n",
    "        labels = self.batch2labels(batch)\n",
    "        probs = self(**input)\n",
    "        probs = probs.squeeze()\n",
    "        # Hw-TODO: Given probs in shape (batch_size,)\n",
    "        #          and labels of the same shape,\n",
    "        #          compute the binary cross entropy loss.\n",
    "        loss = nn.functional.mse_loss(probs, labels)\n",
    "\n",
    "        self.log('train_loss', loss, prog_bar=True)\n",
    "        self.log('train_mse', self.mse(probs, labels.int()), prog_bar=True)\n",
    "        self.log('train_rmse', self.mape(probs, labels.int()))\n",
    "        self.log('train_mape', self.mape(probs, labels.int()))\n",
    "        self.log('train_mae', self.mae(probs, labels.int()))\n",
    "        self.log('train_r2', self.r2(probs, labels.int()))\n",
    "        output_dict = {'loss': loss}\n",
    "        return output_dict\n",
    "\n",
    "    def validation_step(self, batch, batch_idx):\n",
    "        input = self.batch2input(batch)\n",
    "        labels = self.batch2labels(batch)\n",
    "        probs = self(**input)\n",
    "        probs = probs.squeeze()\n",
    "\n",
    "        # Hw-TODO: Given probs in shape (batch_size,)\n",
    "        #          and labels of the same shape,\n",
    "        #          compute the binary cross entropy loss.\n",
    "        loss = nn.functional.mse_loss(probs, labels)\n",
    "\n",
    "        self.log('val_loss', loss)\n",
    "        self.log('val_mse', self.mse(probs, labels.int()), prog_bar=True)\n",
    "        self.log('val_mape', self.mape(probs, labels.int()))\n",
    "        self.log('val_mae', self.mae(probs, labels.int()))\n",
    "        self.log('val_r2', self.r2(probs, labels.int()))\n",
    "\n",
    "    def test_step(self, batch, batch_idx):\n",
    "        input = self.batch2input(batch)\n",
    "        labels = self.batch2labels(batch)\n",
    "        probs = self(**input)\n",
    "        probs = probs.squeeze()\n",
    "\n",
    "        # Hw-TODO: Given probs in shape (batch_size,)\n",
    "        #          and labels of the same shape,\n",
    "        #          compute the binary cross entropy loss.\n",
    "        loss = nn.functional.mse_loss(probs, labels)\n",
    "\n",
    "        self.log('test_loss', loss)\n",
    "        self.log('test_mse', self.mse(probs, labels.int()), prog_bar=True)\n",
    "        self.log('test_mape', self.mape(probs, labels.int()))\n",
    "        self.log('test_mae', self.mae(probs, labels.int()))\n",
    "        self.log('test_r2', self.r2(probs, labels.int()))\n",
    "\n",
    "    def configure_optimizers(self):\n",
    "        if self.hparams.optimizer == 'sgd':\n",
    "            optimizer = torch.optim.SGD(self.model.parameters(),\n",
    "                                        lr=self.hparams.learning_rate)\n",
    "        elif self.hparams.optimizer == 'adam':\n",
    "            if self.hparams.l2_regularization:\n",
    "                optimizer = torch.optim.Adam(self.model.parameters(),\n",
    "                                         lr=self.hparams.learning_rate,\n",
    "                                         weight_decay=1e-5)\n",
    "            else:\n",
    "                optimizer = torch.optim.Adam(self.model.parameters(),\n",
    "                                         lr=self.hparams.learning_rate)\n",
    "        else:\n",
    "            raise NotImplementedError\n",
    "        return optimizer\n",
    "\n",
    "    def train_dataloader(self):\n",
    "        return self.get_dataloader('train', self.hparams.train_batch_size, shuffle=True)\n",
    "\n",
    "    def val_dataloader(self):\n",
    "        return self.get_dataloader('dev', self.hparams.eval_batch_size, shuffle=False)\n",
    "\n",
    "    def test_dataloader(self):\n",
    "        return self.get_dataloader('test', self.hparams.eval_batch_size, shuffle=False)\n",
    "\n",
    "    def get_model(self) -> nn.Module:\n",
    "        # To be overridden by inherited classes.\n",
    "        raise NotImplementedError\n",
    "\n",
    "    def batch2input(self, batch: Tuple[torch.Tensor]) -> Dict[str, torch.Tensor]:\n",
    "        # To be overridden by inherited classes.\n",
    "        raise NotImplementedError\n",
    "\n",
    "    def batch2labels(self, batch: Tuple[torch.Tensor]) -> torch.Tensor:\n",
    "        # To be overridden by inherited classes.\n",
    "        raise NotImplementedError\n",
    "\n",
    "    def get_dataloader(self,\n",
    "                       split: str,\n",
    "                       batch_size: int,\n",
    "                       shuffle: bool = False) -> DataLoader:\n",
    "        # To be overridden by inherited classes.\n",
    "        raise NotImplementedError\n",
    "\n",
    "    @classmethod\n",
    "    def add_model_specific_args(cls, parser: ArgumentParser) -> ArgumentParser:\n",
    "        \"\"\"\n",
    "        Add arguments to the parser and return the parser.\n",
    "        \"\"\"\n",
    "        # Required arguments:\n",
    "        parser.add_argument('--vocab_filename',\n",
    "                            default=None,\n",
    "                            type=str,\n",
    "                            required=False,  # changing to false since we're not using vocab\n",
    "                            help=\"File name of the feature.\")\n",
    "        # Optional arguments:\n",
    "        parser.add_argument('--optimizer',\n",
    "                            default='adam',\n",
    "                            type=str,\n",
    "                            help=\"The optimizer to use, such as sgd or adam.\")\n",
    "        parser.add_argument('--learning_rate',\n",
    "                            default=1e-3,\n",
    "                            type=float,\n",
    "                            help=\"The initial learning rate for training.\")\n",
    "        parser.add_argument('--l2_regularization',\n",
    "                            default=False,\n",
    "                            help=\"Whether to add L2 regularization.\")\n",
    "        parser.add_argument('--max_epochs',\n",
    "                            default=10,\n",
    "                            type=int,\n",
    "                            help=\"The number of epochs to train your model.\")\n",
    "        parser.add_argument('--train_batch_size', default=32, type=int)\n",
    "        parser.add_argument('--eval_batch_size', default=32, type=int)\n",
    "        parser.add_argument('--seed',\n",
    "                            type=int,\n",
    "                            default=42,\n",
    "                            help=\"The random seed for initialization\")\n",
    "        parser.add_argument('--do_train',\n",
    "                            action=\"store_true\",\n",
    "                            default=True,\n",
    "                            help=\"Whether to run training.\")\n",
    "        parser.add_argument('--do_predict',\n",
    "                            action=\"store_true\",\n",
    "                            help=\"Whether to run predictions on the test set.\")\n",
    "        parser.add_argument('--data_dir',\n",
    "                            default=\"data\",\n",
    "                            type=str,\n",
    "                            help=\"The input data dir. Should contain the training files.\")\n",
    "        parser.add_argument('--output_dir',\n",
    "                            type=str,\n",
    "                            help=(\"The output directory where the model predictions \"\n",
    "                                  \"and checkpoints will be written.\"))\n",
    "        # NOTE: Set --gpus 0 or change the default value to 0 if not using GPUS.\n",
    "        # See this [link](https://pytorch-lightning.readthedocs.io/en/latest/accelerators/gpu.html) for usage of this argument.\n",
    "        parser.add_argument('--gpus',\n",
    "                            default=1,\n",
    "                            type=int,\n",
    "                            help=\"The number of GPUs allocated for this, 0 meaning none\")\n",
    "        parser.add_argument('--num_workers',\n",
    "                            default=8,\n",
    "                            type=int,\n",
    "                            help=\"Config `DataLoader` of pytorch\")\n",
    "        return parser\n",
    "\n",
    "\n",
    "def generic_train(args: argparse.Namespace,\n",
    "                  model_class: Type[pl.LightningModule]) -> Dict:\n",
    "    \"\"\"\n",
    "        Train (and optionally predict) and return dict results.\n",
    "        # Parameters\n",
    "        args : `argparse.Namespace`, required.\n",
    "            Configuration of the training and the model\n",
    "        model_class : `Type[pl.LightningModule]`, required.\n",
    "            Class of the model to be trained.\n",
    "        # Returns\n",
    "        A `dict` object containing the following keys and types.\n",
    "            trainer: `pl.Trainer`\n",
    "            model: `pl.LightningModule`\n",
    "            val_results_best: `list[dict]`\n",
    "                If `args.do_predict==True`\n",
    "            test_results_best: `list[dict]`\n",
    "                If `args.do_predict==True`\n",
    "            best_model_path: `Path`\n",
    "                Path to the checkpoint of the best model.\n",
    "        \"\"\"\n",
    "    pl.seed_everything(args.seed)\n",
    "\n",
    "    tensorboard_log_dir = Path(args.output_dir).joinpath('tensorboard_logs')\n",
    "    tensorboard_log_dir.mkdir(parents=True, exist_ok=True)\n",
    "\n",
    "    # Tensorboard logger\n",
    "    tensorboard_logger = pl_loggers.TensorBoardLogger(\n",
    "        save_dir=tensorboard_log_dir,\n",
    "        version='version_' + datetime.now().strftime('%Y%m%d-%H%M%S'),\n",
    "        name='',\n",
    "        default_hp_metric=True)\n",
    "    # Checkpoint callback\n",
    "    checkpoint_dir = Path(args.output_dir).joinpath(tensorboard_logger.version,\n",
    "                                                    'checkpoints')\n",
    "    checkpoint_callback = pl.callbacks.ModelCheckpoint(dirpath=checkpoint_dir,\n",
    "                                                       filename='{epoch}-{val_mse:.2f}',\n",
    "                                                       monitor='val_mse',\n",
    "                                                       mode='min',   # minimize mse\n",
    "                                                       save_top_k=1,\n",
    "                                                       verbose=True)\n",
    "\n",
    "    dict_args = vars(args)\n",
    "    model = model_class(**dict_args)\n",
    "    trainer = pl.Trainer.from_argparse_args(args,\n",
    "                                            logger=tensorboard_logger,\n",
    "                                            callbacks=[checkpoint_callback])\n",
    "\n",
    "    output_dict = {'trainer': trainer, 'model': model}\n",
    "\n",
    "    if args.do_train:\n",
    "        trainer.fit(model=model)\n",
    "        # Track model performance under differnt hparams settings in \"Hparams\" of TensorBoard\n",
    "        tensorboard_logger.log_hyperparams(\n",
    "            params=model.hparams,\n",
    "            metrics={'hp_metric': checkpoint_callback.best_model_score.item()})\n",
    "        tensorboard_logger.save()\n",
    "\n",
    "        # Save the best model to `best_model.ckpt`\n",
    "        best_model_path = checkpoint_dir.joinpath('best_model.ckpt')\n",
    "        logger.info(f\"Copy best model from {checkpoint_callback.best_model_path} \"\n",
    "                    f\"to {best_model_path}.\")\n",
    "        shutil.copy(checkpoint_callback.best_model_path, best_model_path)\n",
    "\n",
    "        output_dict.update({\n",
    "            'trainer': trainer,\n",
    "            'model': model,\n",
    "            'best_model_path': best_model_path\n",
    "        })\n",
    "\n",
    "    # Optionally, predict on test set.\n",
    "    if args.do_predict:\n",
    "        best_model_path = checkpoint_dir.joinpath('best_model.ckpt')\n",
    "        model = model.load_from_checkpoint(best_model_path)\n",
    "        val_results_best = trainer.validate(model, verbose=True)\n",
    "        test_results_best = trainer.test(model, verbose=True)\n",
    "        print(\"Validation MSE on the best model: {: .4f}\".format(\n",
    "            val_results_best[0]['val_mse']))\n",
    "        print(\"Validation R2 on the best model: {: .4f}\".format(\n",
    "            val_results_best[0]['val_r2']))\n",
    "        #print('val_results_best all',val_results_best[0])\n",
    "        #print('val_results_best_trulyall',val_results_best)\n",
    "        print(\"Test MSE on the best model: {: .4f}\".format(\n",
    "            test_results_best[0]['test_mse']))\n",
    "        print(\"Test R2 on the best model: {: .4f}\".format(\n",
    "            test_results_best[0]['test_r2']))\n",
    "        output_dict.update({\n",
    "            'val_results_best': val_results_best,\n",
    "            'test_results_best': test_results_best,\n",
    "        })\n",
    "\n",
    "    return output_dict\n"
   ]
  },
  {
   "cell_type": "code",
   "execution_count": 15,
   "metadata": {},
   "outputs": [],
   "source": [
    "class FeatureBasedRegressionModule(RegressionModule):\n",
    "\n",
    "    def __init__(self, **kwargs):\n",
    "        super().__init__(**kwargs)\n",
    "\n",
    "    def get_model(self) -> nn.Module:\n",
    "        return LinearRegressionModel(num_features=252) # use 764 for full embeddings, 252 for no bert\n",
    "\n",
    "    def batch2input(self, batch):\n",
    "        return {'features': batch[0]}\n",
    "\n",
    "    def batch2labels(self, batch):\n",
    "        return batch[1]\n",
    "\n",
    "    def get_dataloader(self,\n",
    "                       split: str,\n",
    "                       batch_size: int,\n",
    "                       shuffle: bool = False) -> DataLoader:\n",
    "        # NOTE: In order to use different features, change feature_name by\n",
    "        # passing `--feature_name <feature_name>` in the training loop in\n",
    "        # the cell below, or revise the code here for correct paths if needed.\n",
    "        data_dir = Path(self.hparams.data_dir)\n",
    "        features_filepath = data_dir.joinpath(\n",
    "            f\"{split}_{self.hparams.feature_name}_features.npz\")\n",
    "        labels_filepath = data_dir.joinpath(f\"{split}_{self.hparams.label_name}_labels.npz\")\n",
    "        features = sparse.load_npz(features_filepath).todense()\n",
    "        print('features shape:',features.shape)\n",
    "        #labels = np.load(labels_filepath, allow_pickle=True)[\"arr_0\"]\n",
    "        labels = np.asarray(sparse.load_npz(labels_filepath).todense()).ravel()\n",
    "        print('labels shape:',labels.shape)\n",
    "        dataset = torch.utils.data.TensorDataset(\n",
    "            torch.from_numpy(features).float(),\n",
    "            torch.from_numpy(labels).float())\n",
    "\n",
    "        logger.info(f\"Loading {split} features and labels \"\n",
    "                    f\"from {features_filepath} and {labels_filepath}\")\n",
    "        data_loader = torch.utils.data.DataLoader(dataset=dataset,\n",
    "                                                  batch_size=batch_size,\n",
    "                                                  shuffle=shuffle,\n",
    "                                                  num_workers=self.hparams.num_workers)\n",
    "        return data_loader\n",
    "\n",
    "    @classmethod\n",
    "    def add_model_specific_args(cls, parser: ArgumentParser) -> ArgumentParser:\n",
    "        parser = super().add_model_specific_args(parser)\n",
    "        # Required arguments:\n",
    "        parser.add_argument('--feature_name',\n",
    "                            default=None,\n",
    "                            type=str,\n",
    "                            required=True,\n",
    "                            help=\"Name of the feature\")\n",
    "                            \n",
    "        parser.add_argument('--label_name',\n",
    "                            default=None,\n",
    "                            type=str,\n",
    "                            required=True,\n",
    "                            help=\"Name of the label\")\n",
    "        # Optional arguments:\n",
    "        parser.add_argument('--task',\n",
    "                            default='featurebinarycls',\n",
    "                            type=str,\n",
    "                            help=\"Name of the task.\")\n",
    "        return parser\n"
   ]
  },
  {
   "cell_type": "code",
   "execution_count": 12,
   "metadata": {},
   "outputs": [
    {
     "name": "stderr",
     "output_type": "stream",
     "text": [
      "Global seed set to 42\n",
      "GPU available: True, used: True\n",
      "TPU available: False, using: 0 TPU cores\n",
      "IPU available: False, using: 0 IPUs\n",
      "LOCAL_RANK: 0 - CUDA_VISIBLE_DEVICES: [0]\n"
     ]
    },
    {
     "name": "stdout",
     "output_type": "stream",
     "text": [
      "Parsed arguments: Namespace(vocab_filename=None, optimizer='adam', learning_rate=0.001, l2_regularization=False, max_epochs=10, train_batch_size=32, eval_batch_size=32, seed=42, do_train=True, do_predict=True, data_dir='data', output_dir='output/sl_linear', gpus=1, num_workers=8, feature_name='roberta', label_name='stay_len', task='featurebinarycls')\n"
     ]
    },
    {
     "name": "stderr",
     "output_type": "stream",
     "text": [
      "\n",
      "  | Name  | Type                        | Params\n",
      "------------------------------------------------------\n",
      "0 | model | LinearRegressionModel       | 765   \n",
      "1 | mse   | MeanSquaredError            | 0     \n",
      "2 | mape  | MeanAbsolutePercentageError | 0     \n",
      "3 | mae   | MeanAbsoluteError           | 0     \n",
      "4 | r2    | R2Score                     | 0     \n",
      "------------------------------------------------------\n",
      "765       Trainable params\n",
      "0         Non-trainable params\n",
      "765       Total params\n",
      "0.003     Total estimated model params size (MB)\n"
     ]
    },
    {
     "data": {
      "application/vnd.jupyter.widget-view+json": {
       "model_id": "77aa489b3e6b42cea0f9e6bced72ef90",
       "version_major": 2,
       "version_minor": 0
      },
      "text/plain": [
       "Validation sanity check: 0it [00:00, ?it/s]"
      ]
     },
     "metadata": {},
     "output_type": "display_data"
    },
    {
     "name": "stderr",
     "output_type": "stream",
     "text": [
      "2022-03-15 10:17:17 - INFO - __main__ - Loading dev features and labels from data/dev_roberta_features.npz and data/dev_stay_len_labels.npz\n"
     ]
    },
    {
     "name": "stdout",
     "output_type": "stream",
     "text": [
      "features shape: (11473, 764)\n",
      "labels shape: (11473,)\n"
     ]
    },
    {
     "name": "stderr",
     "output_type": "stream",
     "text": [
      "Global seed set to 42\n",
      "2022-03-15 10:17:19 - INFO - __main__ - Loading train features and labels from data/train_roberta_features.npz and data/train_stay_len_labels.npz\n"
     ]
    },
    {
     "name": "stdout",
     "output_type": "stream",
     "text": [
      "features shape: (34416, 764)\n",
      "labels shape: (34416,)\n"
     ]
    },
    {
     "data": {
      "application/vnd.jupyter.widget-view+json": {
       "model_id": "1ac224e21745494bb252949313daa80a",
       "version_major": 2,
       "version_minor": 0
      },
      "text/plain": [
       "Training: 0it [00:00, ?it/s]"
      ]
     },
     "metadata": {},
     "output_type": "display_data"
    },
    {
     "data": {
      "application/vnd.jupyter.widget-view+json": {
       "model_id": "03d1dcbfdd45428385991e4316fbb13d",
       "version_major": 2,
       "version_minor": 0
      },
      "text/plain": [
       "Validating: 0it [00:00, ?it/s]"
      ]
     },
     "metadata": {},
     "output_type": "display_data"
    },
    {
     "name": "stderr",
     "output_type": "stream",
     "text": [
      "Epoch 0, global step 1075: val_mse reached 1174069968896.00000 (best 1174069968896.00000), saving model to \"/mnt/c/Users/natra/Documents/Education/UChicago/NLP/n2c2-track2-nlp-uchicago/output/sl_linear/version_20220315-101715/checkpoints/epoch=0-val_mse=1174069968896.00.ckpt\" as top 1\n"
     ]
    },
    {
     "data": {
      "application/vnd.jupyter.widget-view+json": {
       "model_id": "699d8084c38e464598f10beb820b71cc",
       "version_major": 2,
       "version_minor": 0
      },
      "text/plain": [
       "Validating: 0it [00:00, ?it/s]"
      ]
     },
     "metadata": {},
     "output_type": "display_data"
    },
    {
     "name": "stderr",
     "output_type": "stream",
     "text": [
      "Epoch 1, global step 2151: val_mse reached 1159325155328.00000 (best 1159325155328.00000), saving model to \"/mnt/c/Users/natra/Documents/Education/UChicago/NLP/n2c2-track2-nlp-uchicago/output/sl_linear/version_20220315-101715/checkpoints/epoch=1-val_mse=1159325155328.00.ckpt\" as top 1\n"
     ]
    },
    {
     "data": {
      "application/vnd.jupyter.widget-view+json": {
       "model_id": "055b52a1eb5c4231973b266504e0b247",
       "version_major": 2,
       "version_minor": 0
      },
      "text/plain": [
       "Validating: 0it [00:00, ?it/s]"
      ]
     },
     "metadata": {},
     "output_type": "display_data"
    },
    {
     "name": "stderr",
     "output_type": "stream",
     "text": [
      "Epoch 2, global step 3227: val_mse reached 1148867182592.00000 (best 1148867182592.00000), saving model to \"/mnt/c/Users/natra/Documents/Education/UChicago/NLP/n2c2-track2-nlp-uchicago/output/sl_linear/version_20220315-101715/checkpoints/epoch=2-val_mse=1148867182592.00.ckpt\" as top 1\n"
     ]
    },
    {
     "data": {
      "application/vnd.jupyter.widget-view+json": {
       "model_id": "f04787950eea4df6abecfe2e3f72aacc",
       "version_major": 2,
       "version_minor": 0
      },
      "text/plain": [
       "Validating: 0it [00:00, ?it/s]"
      ]
     },
     "metadata": {},
     "output_type": "display_data"
    },
    {
     "name": "stderr",
     "output_type": "stream",
     "text": [
      "Epoch 3, global step 4303: val_mse reached 1142567206912.00000 (best 1142567206912.00000), saving model to \"/mnt/c/Users/natra/Documents/Education/UChicago/NLP/n2c2-track2-nlp-uchicago/output/sl_linear/version_20220315-101715/checkpoints/epoch=3-val_mse=1142567206912.00.ckpt\" as top 1\n"
     ]
    },
    {
     "data": {
      "application/vnd.jupyter.widget-view+json": {
       "model_id": "39581b536df1450e90c619d1f98d647c",
       "version_major": 2,
       "version_minor": 0
      },
      "text/plain": [
       "Validating: 0it [00:00, ?it/s]"
      ]
     },
     "metadata": {},
     "output_type": "display_data"
    },
    {
     "name": "stderr",
     "output_type": "stream",
     "text": [
      "Epoch 4, global step 5379: val_mse reached 1138437783552.00000 (best 1138437783552.00000), saving model to \"/mnt/c/Users/natra/Documents/Education/UChicago/NLP/n2c2-track2-nlp-uchicago/output/sl_linear/version_20220315-101715/checkpoints/epoch=4-val_mse=1138437783552.00.ckpt\" as top 1\n"
     ]
    },
    {
     "data": {
      "application/vnd.jupyter.widget-view+json": {
       "model_id": "434122a9971f46158f55ff445d669d87",
       "version_major": 2,
       "version_minor": 0
      },
      "text/plain": [
       "Validating: 0it [00:00, ?it/s]"
      ]
     },
     "metadata": {},
     "output_type": "display_data"
    },
    {
     "name": "stderr",
     "output_type": "stream",
     "text": [
      "Epoch 5, global step 6455: val_mse reached 1135132016640.00000 (best 1135132016640.00000), saving model to \"/mnt/c/Users/natra/Documents/Education/UChicago/NLP/n2c2-track2-nlp-uchicago/output/sl_linear/version_20220315-101715/checkpoints/epoch=5-val_mse=1135132016640.00.ckpt\" as top 1\n"
     ]
    },
    {
     "data": {
      "application/vnd.jupyter.widget-view+json": {
       "model_id": "5823a9948156420f8afb9e627c402b02",
       "version_major": 2,
       "version_minor": 0
      },
      "text/plain": [
       "Validating: 0it [00:00, ?it/s]"
      ]
     },
     "metadata": {},
     "output_type": "display_data"
    },
    {
     "name": "stderr",
     "output_type": "stream",
     "text": [
      "Epoch 6, global step 7531: val_mse reached 1132903268352.00000 (best 1132903268352.00000), saving model to \"/mnt/c/Users/natra/Documents/Education/UChicago/NLP/n2c2-track2-nlp-uchicago/output/sl_linear/version_20220315-101715/checkpoints/epoch=6-val_mse=1132903268352.00.ckpt\" as top 1\n"
     ]
    },
    {
     "data": {
      "application/vnd.jupyter.widget-view+json": {
       "model_id": "9ec86679c924445490b503f0016424ce",
       "version_major": 2,
       "version_minor": 0
      },
      "text/plain": [
       "Validating: 0it [00:00, ?it/s]"
      ]
     },
     "metadata": {},
     "output_type": "display_data"
    },
    {
     "name": "stderr",
     "output_type": "stream",
     "text": [
      "Epoch 7, global step 8607: val_mse reached 1131181768704.00000 (best 1131181768704.00000), saving model to \"/mnt/c/Users/natra/Documents/Education/UChicago/NLP/n2c2-track2-nlp-uchicago/output/sl_linear/version_20220315-101715/checkpoints/epoch=7-val_mse=1131181768704.00.ckpt\" as top 1\n"
     ]
    },
    {
     "data": {
      "application/vnd.jupyter.widget-view+json": {
       "model_id": "2a1708100ead4098ab9795c7e355b8e9",
       "version_major": 2,
       "version_minor": 0
      },
      "text/plain": [
       "Validating: 0it [00:00, ?it/s]"
      ]
     },
     "metadata": {},
     "output_type": "display_data"
    },
    {
     "name": "stderr",
     "output_type": "stream",
     "text": [
      "Epoch 8, global step 9683: val_mse reached 1130150625280.00000 (best 1130150625280.00000), saving model to \"/mnt/c/Users/natra/Documents/Education/UChicago/NLP/n2c2-track2-nlp-uchicago/output/sl_linear/version_20220315-101715/checkpoints/epoch=8-val_mse=1130150625280.00.ckpt\" as top 1\n"
     ]
    },
    {
     "data": {
      "application/vnd.jupyter.widget-view+json": {
       "model_id": "f6ba10721f8146fdbeadcd32e30d7938",
       "version_major": 2,
       "version_minor": 0
      },
      "text/plain": [
       "Validating: 0it [00:00, ?it/s]"
      ]
     },
     "metadata": {},
     "output_type": "display_data"
    },
    {
     "name": "stderr",
     "output_type": "stream",
     "text": [
      "Epoch 9, global step 10759: val_mse reached 1128509734912.00000 (best 1128509734912.00000), saving model to \"/mnt/c/Users/natra/Documents/Education/UChicago/NLP/n2c2-track2-nlp-uchicago/output/sl_linear/version_20220315-101715/checkpoints/epoch=9-val_mse=1128509734912.00.ckpt\" as top 1\n",
      "2022-03-15 10:19:53 - INFO - __main__ - Copy best model from /mnt/c/Users/natra/Documents/Education/UChicago/NLP/n2c2-track2-nlp-uchicago/output/sl_linear/version_20220315-101715/checkpoints/epoch=9-val_mse=1128509734912.00.ckpt to output/sl_linear/version_20220315-101715/checkpoints/best_model.ckpt.\n",
      "LOCAL_RANK: 0 - CUDA_VISIBLE_DEVICES: [0]\n",
      "2022-03-15 10:19:54 - INFO - __main__ - Loading dev features and labels from data/dev_roberta_features.npz and data/dev_stay_len_labels.npz\n"
     ]
    },
    {
     "name": "stdout",
     "output_type": "stream",
     "text": [
      "features shape: (11473, 764)\n",
      "labels shape: (11473,)\n"
     ]
    },
    {
     "data": {
      "application/vnd.jupyter.widget-view+json": {
       "model_id": "07737ae288c14a6b81422e466c0d8a9e",
       "version_major": 2,
       "version_minor": 0
      },
      "text/plain": [
       "Validating: 0it [00:00, ?it/s]"
      ]
     },
     "metadata": {},
     "output_type": "display_data"
    },
    {
     "name": "stderr",
     "output_type": "stream",
     "text": [
      "LOCAL_RANK: 0 - CUDA_VISIBLE_DEVICES: [0]\n"
     ]
    },
    {
     "name": "stdout",
     "output_type": "stream",
     "text": [
      "--------------------------------------------------------------------------------\n",
      "DATALOADER:0 VALIDATE RESULTS\n",
      "{'val_loss': 1128509734912.0,\n",
      " 'val_mae': 599885.6875,\n",
      " 'val_mape': 2.469804048538208,\n",
      " 'val_mse': 1128509734912.0,\n",
      " 'val_r2': 2.2260525226593018}\n",
      "--------------------------------------------------------------------------------\n"
     ]
    },
    {
     "name": "stderr",
     "output_type": "stream",
     "text": [
      "2022-03-15 10:19:56 - INFO - __main__ - Loading test features and labels from data/test_roberta_features.npz and data/test_stay_len_labels.npz\n"
     ]
    },
    {
     "name": "stdout",
     "output_type": "stream",
     "text": [
      "features shape: (11473, 764)\n",
      "labels shape: (11473,)\n"
     ]
    },
    {
     "data": {
      "application/vnd.jupyter.widget-view+json": {
       "model_id": "dc362ecf245848cab1859ec6128adf4b",
       "version_major": 2,
       "version_minor": 0
      },
      "text/plain": [
       "Testing: 0it [00:00, ?it/s]"
      ]
     },
     "metadata": {},
     "output_type": "display_data"
    },
    {
     "name": "stdout",
     "output_type": "stream",
     "text": [
      "--------------------------------------------------------------------------------\n",
      "DATALOADER:0 TEST RESULTS\n",
      "{'test_loss': 1065926262784.0,\n",
      " 'test_mae': 605325.5625,\n",
      " 'test_mape': 2.2779018878936768,\n",
      " 'test_mse': 1065926262784.0,\n",
      " 'test_r2': 2.16449236869812}\n",
      "--------------------------------------------------------------------------------\n",
      "Validation MSE on the best model:  1128509734912.0000\n",
      "Validation R2 on the best model:  2.2261\n",
      "Test MSE on the best model:  1065926262784.0000\n",
      "Test R2 on the best model:  2.1645\n"
     ]
    }
   ],
   "source": [
    "logging.basicConfig(format=\"%(asctime)s - %(levelname)s - %(name)s - %(message)s\",\n",
    "                    datefmt=\"%Y-%m-%d %H:%M:%S\",\n",
    "                    level=logging.INFO)\n",
    "logger = logging.getLogger(__name__)\n",
    "\n",
    "# Load hyperparameters\n",
    "parser = ArgumentParser()\n",
    "parser = FeatureBasedRegressionModule.add_model_specific_args(parser)\n",
    "\n",
    "# NOTE: You should replace `unigram_binary` in the assignment statement of `args_str =...`\n",
    "# with whatever feature that you are experimented with.\n",
    "# You can also configure other options listed in the method of add_model_specific_args of\n",
    "# the pytorch-lightning model `FeatureBasedBinaryClassificationLModule`.\n",
    "args_str = (\"--feature_name roberta --max_epochs 10 --label_name stay_len \"\n",
    "            \"--output_dir output/sl_linear --optimizer adam --do_train --do_predict\")\n",
    "\n",
    "args = parser.parse_args(args_str.split())\n",
    "\n",
    "# If output_dir not provided, a folder is generated\n",
    "if args.output_dir is None:\n",
    "    args.output_dir = str(\n",
    "        Path('output').joinpath(\n",
    "            f\"{args.task}_{datetime.now().strftime('%Y%m%d-%H%M%S')}\"))\n",
    "Path(args.output_dir).mkdir(parents=True, exist_ok=True)\n",
    "\n",
    "print(f\"Parsed arguments: {args}\")\n",
    "\n",
    "training_out_rob_10 = generic_train(args=args,\n",
    "                                model_class=FeatureBasedRegressionModule)"
   ]
  },
  {
   "cell_type": "code",
   "execution_count": 13,
   "metadata": {},
   "outputs": [
    {
     "name": "stderr",
     "output_type": "stream",
     "text": [
      "Global seed set to 42\n",
      "GPU available: True, used: True\n",
      "TPU available: False, using: 0 TPU cores\n",
      "IPU available: False, using: 0 IPUs\n",
      "LOCAL_RANK: 0 - CUDA_VISIBLE_DEVICES: [0]\n",
      "\n",
      "  | Name  | Type                        | Params\n",
      "------------------------------------------------------\n",
      "0 | model | LinearRegressionModel       | 765   \n",
      "1 | mse   | MeanSquaredError            | 0     \n",
      "2 | mape  | MeanAbsolutePercentageError | 0     \n",
      "3 | mae   | MeanAbsoluteError           | 0     \n",
      "4 | r2    | R2Score                     | 0     \n",
      "------------------------------------------------------\n",
      "765       Trainable params\n",
      "0         Non-trainable params\n",
      "765       Total params\n",
      "0.003     Total estimated model params size (MB)\n"
     ]
    },
    {
     "name": "stdout",
     "output_type": "stream",
     "text": [
      "Parsed arguments: Namespace(vocab_filename=None, optimizer='adam', learning_rate=0.001, l2_regularization=False, max_epochs=20, train_batch_size=32, eval_batch_size=32, seed=42, do_train=True, do_predict=True, data_dir='data', output_dir='output/sl_linear', gpus=1, num_workers=8, feature_name='roberta', label_name='stay_len', task='featurebinarycls')\n"
     ]
    },
    {
     "data": {
      "application/vnd.jupyter.widget-view+json": {
       "model_id": "30429bc2e3014100a990446950585a2d",
       "version_major": 2,
       "version_minor": 0
      },
      "text/plain": [
       "Validation sanity check: 0it [00:00, ?it/s]"
      ]
     },
     "metadata": {},
     "output_type": "display_data"
    },
    {
     "name": "stderr",
     "output_type": "stream",
     "text": [
      "2022-03-15 10:22:10 - INFO - __main__ - Loading dev features and labels from data/dev_roberta_features.npz and data/dev_stay_len_labels.npz\n"
     ]
    },
    {
     "name": "stdout",
     "output_type": "stream",
     "text": [
      "features shape: (11473, 764)\n",
      "labels shape: (11473,)\n"
     ]
    },
    {
     "name": "stderr",
     "output_type": "stream",
     "text": [
      "Global seed set to 42\n",
      "2022-03-15 10:22:11 - INFO - __main__ - Loading train features and labels from data/train_roberta_features.npz and data/train_stay_len_labels.npz\n"
     ]
    },
    {
     "name": "stdout",
     "output_type": "stream",
     "text": [
      "features shape: (34416, 764)\n",
      "labels shape: (34416,)\n"
     ]
    },
    {
     "data": {
      "application/vnd.jupyter.widget-view+json": {
       "model_id": "4bdff95b8c12494ca4d1326c15d2c5d2",
       "version_major": 2,
       "version_minor": 0
      },
      "text/plain": [
       "Training: 0it [00:00, ?it/s]"
      ]
     },
     "metadata": {},
     "output_type": "display_data"
    },
    {
     "data": {
      "application/vnd.jupyter.widget-view+json": {
       "model_id": "d1d42f3cae8c412996918ba2f777a493",
       "version_major": 2,
       "version_minor": 0
      },
      "text/plain": [
       "Validating: 0it [00:00, ?it/s]"
      ]
     },
     "metadata": {},
     "output_type": "display_data"
    },
    {
     "name": "stderr",
     "output_type": "stream",
     "text": [
      "Epoch 0, global step 1075: val_mse reached 1174069968896.00000 (best 1174069968896.00000), saving model to \"/mnt/c/Users/natra/Documents/Education/UChicago/NLP/n2c2-track2-nlp-uchicago/output/sl_linear/version_20220315-102209/checkpoints/epoch=0-val_mse=1174069968896.00.ckpt\" as top 1\n"
     ]
    },
    {
     "data": {
      "application/vnd.jupyter.widget-view+json": {
       "model_id": "03500886b2ad44a698f8d6074f080f01",
       "version_major": 2,
       "version_minor": 0
      },
      "text/plain": [
       "Validating: 0it [00:00, ?it/s]"
      ]
     },
     "metadata": {},
     "output_type": "display_data"
    },
    {
     "name": "stderr",
     "output_type": "stream",
     "text": [
      "Epoch 1, global step 2151: val_mse reached 1159325155328.00000 (best 1159325155328.00000), saving model to \"/mnt/c/Users/natra/Documents/Education/UChicago/NLP/n2c2-track2-nlp-uchicago/output/sl_linear/version_20220315-102209/checkpoints/epoch=1-val_mse=1159325155328.00.ckpt\" as top 1\n"
     ]
    },
    {
     "data": {
      "application/vnd.jupyter.widget-view+json": {
       "model_id": "d70e8ce8e53c42bca7ec88fa9fb7d695",
       "version_major": 2,
       "version_minor": 0
      },
      "text/plain": [
       "Validating: 0it [00:00, ?it/s]"
      ]
     },
     "metadata": {},
     "output_type": "display_data"
    },
    {
     "name": "stderr",
     "output_type": "stream",
     "text": [
      "Epoch 2, global step 3227: val_mse reached 1148867182592.00000 (best 1148867182592.00000), saving model to \"/mnt/c/Users/natra/Documents/Education/UChicago/NLP/n2c2-track2-nlp-uchicago/output/sl_linear/version_20220315-102209/checkpoints/epoch=2-val_mse=1148867182592.00.ckpt\" as top 1\n"
     ]
    },
    {
     "data": {
      "application/vnd.jupyter.widget-view+json": {
       "model_id": "ea46c29d7d094c9aa18431dfb2e3037b",
       "version_major": 2,
       "version_minor": 0
      },
      "text/plain": [
       "Validating: 0it [00:00, ?it/s]"
      ]
     },
     "metadata": {},
     "output_type": "display_data"
    },
    {
     "name": "stderr",
     "output_type": "stream",
     "text": [
      "Epoch 3, global step 4303: val_mse reached 1142567206912.00000 (best 1142567206912.00000), saving model to \"/mnt/c/Users/natra/Documents/Education/UChicago/NLP/n2c2-track2-nlp-uchicago/output/sl_linear/version_20220315-102209/checkpoints/epoch=3-val_mse=1142567206912.00.ckpt\" as top 1\n"
     ]
    },
    {
     "data": {
      "application/vnd.jupyter.widget-view+json": {
       "model_id": "3e813adacd444af5b9c56c3454b980c7",
       "version_major": 2,
       "version_minor": 0
      },
      "text/plain": [
       "Validating: 0it [00:00, ?it/s]"
      ]
     },
     "metadata": {},
     "output_type": "display_data"
    },
    {
     "name": "stderr",
     "output_type": "stream",
     "text": [
      "Epoch 4, global step 5379: val_mse reached 1138437783552.00000 (best 1138437783552.00000), saving model to \"/mnt/c/Users/natra/Documents/Education/UChicago/NLP/n2c2-track2-nlp-uchicago/output/sl_linear/version_20220315-102209/checkpoints/epoch=4-val_mse=1138437783552.00.ckpt\" as top 1\n"
     ]
    },
    {
     "data": {
      "application/vnd.jupyter.widget-view+json": {
       "model_id": "cc1b825005d348d3a50b1ab3d014ced7",
       "version_major": 2,
       "version_minor": 0
      },
      "text/plain": [
       "Validating: 0it [00:00, ?it/s]"
      ]
     },
     "metadata": {},
     "output_type": "display_data"
    },
    {
     "name": "stderr",
     "output_type": "stream",
     "text": [
      "Epoch 5, global step 6455: val_mse reached 1135132016640.00000 (best 1135132016640.00000), saving model to \"/mnt/c/Users/natra/Documents/Education/UChicago/NLP/n2c2-track2-nlp-uchicago/output/sl_linear/version_20220315-102209/checkpoints/epoch=5-val_mse=1135132016640.00.ckpt\" as top 1\n"
     ]
    },
    {
     "data": {
      "application/vnd.jupyter.widget-view+json": {
       "model_id": "8b7530d147184d67a9f67fb4b6331fe6",
       "version_major": 2,
       "version_minor": 0
      },
      "text/plain": [
       "Validating: 0it [00:00, ?it/s]"
      ]
     },
     "metadata": {},
     "output_type": "display_data"
    },
    {
     "name": "stderr",
     "output_type": "stream",
     "text": [
      "Epoch 6, global step 7531: val_mse reached 1132903268352.00000 (best 1132903268352.00000), saving model to \"/mnt/c/Users/natra/Documents/Education/UChicago/NLP/n2c2-track2-nlp-uchicago/output/sl_linear/version_20220315-102209/checkpoints/epoch=6-val_mse=1132903268352.00.ckpt\" as top 1\n"
     ]
    },
    {
     "data": {
      "application/vnd.jupyter.widget-view+json": {
       "model_id": "1e81ad7d8dbb464fabc4177cab60da34",
       "version_major": 2,
       "version_minor": 0
      },
      "text/plain": [
       "Validating: 0it [00:00, ?it/s]"
      ]
     },
     "metadata": {},
     "output_type": "display_data"
    },
    {
     "name": "stderr",
     "output_type": "stream",
     "text": [
      "Epoch 7, global step 8607: val_mse reached 1131181768704.00000 (best 1131181768704.00000), saving model to \"/mnt/c/Users/natra/Documents/Education/UChicago/NLP/n2c2-track2-nlp-uchicago/output/sl_linear/version_20220315-102209/checkpoints/epoch=7-val_mse=1131181768704.00.ckpt\" as top 1\n"
     ]
    },
    {
     "data": {
      "application/vnd.jupyter.widget-view+json": {
       "model_id": "c0448c5a02e445a88c4bb66daf846b0b",
       "version_major": 2,
       "version_minor": 0
      },
      "text/plain": [
       "Validating: 0it [00:00, ?it/s]"
      ]
     },
     "metadata": {},
     "output_type": "display_data"
    },
    {
     "name": "stderr",
     "output_type": "stream",
     "text": [
      "Epoch 8, global step 9683: val_mse reached 1130150625280.00000 (best 1130150625280.00000), saving model to \"/mnt/c/Users/natra/Documents/Education/UChicago/NLP/n2c2-track2-nlp-uchicago/output/sl_linear/version_20220315-102209/checkpoints/epoch=8-val_mse=1130150625280.00.ckpt\" as top 1\n"
     ]
    },
    {
     "data": {
      "application/vnd.jupyter.widget-view+json": {
       "model_id": "37b4ade6e8a34fa180a506aeba01cd68",
       "version_major": 2,
       "version_minor": 0
      },
      "text/plain": [
       "Validating: 0it [00:00, ?it/s]"
      ]
     },
     "metadata": {},
     "output_type": "display_data"
    },
    {
     "name": "stderr",
     "output_type": "stream",
     "text": [
      "Epoch 9, global step 10759: val_mse reached 1128509734912.00000 (best 1128509734912.00000), saving model to \"/mnt/c/Users/natra/Documents/Education/UChicago/NLP/n2c2-track2-nlp-uchicago/output/sl_linear/version_20220315-102209/checkpoints/epoch=9-val_mse=1128509734912.00.ckpt\" as top 1\n"
     ]
    },
    {
     "data": {
      "application/vnd.jupyter.widget-view+json": {
       "model_id": "46df6bb8ca3d4af98e7f9cc4085436ce",
       "version_major": 2,
       "version_minor": 0
      },
      "text/plain": [
       "Validating: 0it [00:00, ?it/s]"
      ]
     },
     "metadata": {},
     "output_type": "display_data"
    },
    {
     "name": "stderr",
     "output_type": "stream",
     "text": [
      "Epoch 10, global step 11835: val_mse reached 1128212594688.00000 (best 1128212594688.00000), saving model to \"/mnt/c/Users/natra/Documents/Education/UChicago/NLP/n2c2-track2-nlp-uchicago/output/sl_linear/version_20220315-102209/checkpoints/epoch=10-val_mse=1128212594688.00.ckpt\" as top 1\n"
     ]
    },
    {
     "data": {
      "application/vnd.jupyter.widget-view+json": {
       "model_id": "fcd7981d5a3240509c72d7eba84d0748",
       "version_major": 2,
       "version_minor": 0
      },
      "text/plain": [
       "Validating: 0it [00:00, ?it/s]"
      ]
     },
     "metadata": {},
     "output_type": "display_data"
    },
    {
     "name": "stderr",
     "output_type": "stream",
     "text": [
      "Epoch 11, global step 12911: val_mse reached 1126949978112.00000 (best 1126949978112.00000), saving model to \"/mnt/c/Users/natra/Documents/Education/UChicago/NLP/n2c2-track2-nlp-uchicago/output/sl_linear/version_20220315-102209/checkpoints/epoch=11-val_mse=1126949978112.00.ckpt\" as top 1\n"
     ]
    },
    {
     "data": {
      "application/vnd.jupyter.widget-view+json": {
       "model_id": "62a7c0d637c243988c22aeaf9d765e1f",
       "version_major": 2,
       "version_minor": 0
      },
      "text/plain": [
       "Validating: 0it [00:00, ?it/s]"
      ]
     },
     "metadata": {},
     "output_type": "display_data"
    },
    {
     "name": "stderr",
     "output_type": "stream",
     "text": [
      "Epoch 12, global step 13987: val_mse reached 1126548766720.00000 (best 1126548766720.00000), saving model to \"/mnt/c/Users/natra/Documents/Education/UChicago/NLP/n2c2-track2-nlp-uchicago/output/sl_linear/version_20220315-102209/checkpoints/epoch=12-val_mse=1126548766720.00.ckpt\" as top 1\n"
     ]
    },
    {
     "data": {
      "application/vnd.jupyter.widget-view+json": {
       "model_id": "ac0c655f4dad42e8b7d29575525dc2e9",
       "version_major": 2,
       "version_minor": 0
      },
      "text/plain": [
       "Validating: 0it [00:00, ?it/s]"
      ]
     },
     "metadata": {},
     "output_type": "display_data"
    },
    {
     "name": "stderr",
     "output_type": "stream",
     "text": [
      "Epoch 13, global step 15063: val_mse reached 1125977292800.00000 (best 1125977292800.00000), saving model to \"/mnt/c/Users/natra/Documents/Education/UChicago/NLP/n2c2-track2-nlp-uchicago/output/sl_linear/version_20220315-102209/checkpoints/epoch=13-val_mse=1125977292800.00.ckpt\" as top 1\n"
     ]
    },
    {
     "data": {
      "application/vnd.jupyter.widget-view+json": {
       "model_id": "a0641b8351bb4180ba2112d633209871",
       "version_major": 2,
       "version_minor": 0
      },
      "text/plain": [
       "Validating: 0it [00:00, ?it/s]"
      ]
     },
     "metadata": {},
     "output_type": "display_data"
    },
    {
     "name": "stderr",
     "output_type": "stream",
     "text": [
      "Epoch 14, global step 16139: val_mse was not in top 1\n"
     ]
    },
    {
     "data": {
      "application/vnd.jupyter.widget-view+json": {
       "model_id": "3f3078d4eb1d4fb3aea0c71fd3a3331c",
       "version_major": 2,
       "version_minor": 0
      },
      "text/plain": [
       "Validating: 0it [00:00, ?it/s]"
      ]
     },
     "metadata": {},
     "output_type": "display_data"
    },
    {
     "name": "stderr",
     "output_type": "stream",
     "text": [
      "Epoch 15, global step 17215: val_mse reached 1125297029120.00000 (best 1125297029120.00000), saving model to \"/mnt/c/Users/natra/Documents/Education/UChicago/NLP/n2c2-track2-nlp-uchicago/output/sl_linear/version_20220315-102209/checkpoints/epoch=15-val_mse=1125297029120.00.ckpt\" as top 1\n"
     ]
    },
    {
     "data": {
      "application/vnd.jupyter.widget-view+json": {
       "model_id": "16dbdd3edc644ca4bbe016a1b97d7f54",
       "version_major": 2,
       "version_minor": 0
      },
      "text/plain": [
       "Validating: 0it [00:00, ?it/s]"
      ]
     },
     "metadata": {},
     "output_type": "display_data"
    },
    {
     "name": "stderr",
     "output_type": "stream",
     "text": [
      "Epoch 16, global step 18291: val_mse reached 1125173952512.00000 (best 1125173952512.00000), saving model to \"/mnt/c/Users/natra/Documents/Education/UChicago/NLP/n2c2-track2-nlp-uchicago/output/sl_linear/version_20220315-102209/checkpoints/epoch=16-val_mse=1125173952512.00.ckpt\" as top 1\n"
     ]
    },
    {
     "data": {
      "application/vnd.jupyter.widget-view+json": {
       "model_id": "b102100c83b84699960cd57d83e6e86b",
       "version_major": 2,
       "version_minor": 0
      },
      "text/plain": [
       "Validating: 0it [00:00, ?it/s]"
      ]
     },
     "metadata": {},
     "output_type": "display_data"
    },
    {
     "name": "stderr",
     "output_type": "stream",
     "text": [
      "Epoch 17, global step 19367: val_mse reached 1124833165312.00000 (best 1124833165312.00000), saving model to \"/mnt/c/Users/natra/Documents/Education/UChicago/NLP/n2c2-track2-nlp-uchicago/output/sl_linear/version_20220315-102209/checkpoints/epoch=17-val_mse=1124833165312.00.ckpt\" as top 1\n"
     ]
    },
    {
     "data": {
      "application/vnd.jupyter.widget-view+json": {
       "model_id": "f9986a21896e495496f01e1489493ac1",
       "version_major": 2,
       "version_minor": 0
      },
      "text/plain": [
       "Validating: 0it [00:00, ?it/s]"
      ]
     },
     "metadata": {},
     "output_type": "display_data"
    },
    {
     "name": "stderr",
     "output_type": "stream",
     "text": [
      "Epoch 18, global step 20443: val_mse was not in top 1\n"
     ]
    },
    {
     "data": {
      "application/vnd.jupyter.widget-view+json": {
       "model_id": "69b6e90141cd433b961e0c58de313467",
       "version_major": 2,
       "version_minor": 0
      },
      "text/plain": [
       "Validating: 0it [00:00, ?it/s]"
      ]
     },
     "metadata": {},
     "output_type": "display_data"
    },
    {
     "name": "stderr",
     "output_type": "stream",
     "text": [
      "Epoch 19, global step 21519: val_mse reached 1124531044352.00000 (best 1124531044352.00000), saving model to \"/mnt/c/Users/natra/Documents/Education/UChicago/NLP/n2c2-track2-nlp-uchicago/output/sl_linear/version_20220315-102209/checkpoints/epoch=19-val_mse=1124531044352.00.ckpt\" as top 1\n",
      "2022-03-15 10:27:19 - INFO - __main__ - Copy best model from /mnt/c/Users/natra/Documents/Education/UChicago/NLP/n2c2-track2-nlp-uchicago/output/sl_linear/version_20220315-102209/checkpoints/epoch=19-val_mse=1124531044352.00.ckpt to output/sl_linear/version_20220315-102209/checkpoints/best_model.ckpt.\n",
      "LOCAL_RANK: 0 - CUDA_VISIBLE_DEVICES: [0]\n",
      "2022-03-15 10:27:19 - INFO - __main__ - Loading dev features and labels from data/dev_roberta_features.npz and data/dev_stay_len_labels.npz\n"
     ]
    },
    {
     "name": "stdout",
     "output_type": "stream",
     "text": [
      "features shape: (11473, 764)\n",
      "labels shape: (11473,)\n"
     ]
    },
    {
     "data": {
      "application/vnd.jupyter.widget-view+json": {
       "model_id": "7d65c56642b54fb8b7404f192e10a20b",
       "version_major": 2,
       "version_minor": 0
      },
      "text/plain": [
       "Validating: 0it [00:00, ?it/s]"
      ]
     },
     "metadata": {},
     "output_type": "display_data"
    },
    {
     "name": "stderr",
     "output_type": "stream",
     "text": [
      "LOCAL_RANK: 0 - CUDA_VISIBLE_DEVICES: [0]\n"
     ]
    },
    {
     "name": "stdout",
     "output_type": "stream",
     "text": [
      "--------------------------------------------------------------------------------\n",
      "DATALOADER:0 VALIDATE RESULTS\n",
      "{'val_loss': 1124531044352.0,\n",
      " 'val_mae': 602737.5625,\n",
      " 'val_mape': 2.5077879428863525,\n",
      " 'val_mse': 1124531044352.0,\n",
      " 'val_r2': 2.226785898208618}\n",
      "--------------------------------------------------------------------------------\n"
     ]
    },
    {
     "name": "stderr",
     "output_type": "stream",
     "text": [
      "2022-03-15 10:27:22 - INFO - __main__ - Loading test features and labels from data/test_roberta_features.npz and data/test_stay_len_labels.npz\n"
     ]
    },
    {
     "name": "stdout",
     "output_type": "stream",
     "text": [
      "features shape: (11473, 764)\n",
      "labels shape: (11473,)\n"
     ]
    },
    {
     "data": {
      "application/vnd.jupyter.widget-view+json": {
       "model_id": "ed58b78414524325961ec48a6a25dd9e",
       "version_major": 2,
       "version_minor": 0
      },
      "text/plain": [
       "Testing: 0it [00:00, ?it/s]"
      ]
     },
     "metadata": {},
     "output_type": "display_data"
    },
    {
     "name": "stdout",
     "output_type": "stream",
     "text": [
      "--------------------------------------------------------------------------------\n",
      "DATALOADER:0 TEST RESULTS\n",
      "{'test_loss': 1064722104320.0,\n",
      " 'test_mae': 607866.5625,\n",
      " 'test_mape': 2.314664125442505,\n",
      " 'test_mse': 1064722104320.0,\n",
      " 'test_r2': 2.167832612991333}\n",
      "--------------------------------------------------------------------------------\n",
      "Validation MSE on the best model:  1124531044352.0000\n",
      "Validation R2 on the best model:  2.2268\n",
      "Test MSE on the best model:  1064722104320.0000\n",
      "Test R2 on the best model:  2.1678\n"
     ]
    }
   ],
   "source": [
    "logging.basicConfig(format=\"%(asctime)s - %(levelname)s - %(name)s - %(message)s\",\n",
    "                    datefmt=\"%Y-%m-%d %H:%M:%S\",\n",
    "                    level=logging.INFO)\n",
    "logger = logging.getLogger(__name__)\n",
    "\n",
    "# Load hyperparameters\n",
    "parser = ArgumentParser()\n",
    "parser = FeatureBasedRegressionModule.add_model_specific_args(parser)\n",
    "\n",
    "# NOTE: You should replace `unigram_binary` in the assignment statement of `args_str =...`\n",
    "# with whatever feature that you are experimented with.\n",
    "# You can also configure other options listed in the method of add_model_specific_args of\n",
    "# the pytorch-lightning model `FeatureBasedBinaryClassificationLModule`.\n",
    "args_str = (\"--feature_name roberta --max_epochs 20 --label_name stay_len \"\n",
    "            \"--output_dir output/sl_linear --optimizer adam --do_train --do_predict \"\n",
    "            )\n",
    "\n",
    "args = parser.parse_args(args_str.split())\n",
    "\n",
    "# If output_dir not provided, a folder is generated\n",
    "if args.output_dir is None:\n",
    "    args.output_dir = str(\n",
    "        Path('output').joinpath(\n",
    "            f\"{args.task}_{datetime.now().strftime('%Y%m%d-%H%M%S')}\"))\n",
    "Path(args.output_dir).mkdir(parents=True, exist_ok=True)\n",
    "\n",
    "print(f\"Parsed arguments: {args}\")\n",
    "\n",
    "training_out_rob_20 = generic_train(args=args,\n",
    "                                model_class=FeatureBasedRegressionModule)"
   ]
  },
  {
   "cell_type": "code",
   "execution_count": 14,
   "metadata": {},
   "outputs": [
    {
     "name": "stderr",
     "output_type": "stream",
     "text": [
      "Global seed set to 42\n",
      "GPU available: True, used: True\n",
      "TPU available: False, using: 0 TPU cores\n",
      "IPU available: False, using: 0 IPUs\n",
      "LOCAL_RANK: 0 - CUDA_VISIBLE_DEVICES: [0]\n",
      "\n",
      "  | Name  | Type                        | Params\n",
      "------------------------------------------------------\n",
      "0 | model | LinearRegressionModel       | 765   \n",
      "1 | mse   | MeanSquaredError            | 0     \n",
      "2 | mape  | MeanAbsolutePercentageError | 0     \n",
      "3 | mae   | MeanAbsoluteError           | 0     \n",
      "4 | r2    | R2Score                     | 0     \n",
      "------------------------------------------------------\n",
      "765       Trainable params\n",
      "0         Non-trainable params\n",
      "765       Total params\n",
      "0.003     Total estimated model params size (MB)\n"
     ]
    },
    {
     "name": "stdout",
     "output_type": "stream",
     "text": [
      "Parsed arguments: Namespace(vocab_filename=None, optimizer='adam', learning_rate=0.001, l2_regularization=False, max_epochs=50, train_batch_size=32, eval_batch_size=32, seed=42, do_train=True, do_predict=True, data_dir='data', output_dir='output/sl_linear', gpus=1, num_workers=8, feature_name='roberta', label_name='stay_len', task='featurebinarycls')\n"
     ]
    },
    {
     "data": {
      "application/vnd.jupyter.widget-view+json": {
       "model_id": "bb3622306e614662a9b97bb5087219e0",
       "version_major": 2,
       "version_minor": 0
      },
      "text/plain": [
       "Validation sanity check: 0it [00:00, ?it/s]"
      ]
     },
     "metadata": {},
     "output_type": "display_data"
    },
    {
     "name": "stderr",
     "output_type": "stream",
     "text": [
      "2022-03-15 10:37:46 - INFO - __main__ - Loading dev features and labels from data/dev_roberta_features.npz and data/dev_stay_len_labels.npz\n"
     ]
    },
    {
     "name": "stdout",
     "output_type": "stream",
     "text": [
      "features shape: (11473, 764)\n",
      "labels shape: (11473,)\n"
     ]
    },
    {
     "name": "stderr",
     "output_type": "stream",
     "text": [
      "Global seed set to 42\n",
      "2022-03-15 10:37:48 - INFO - __main__ - Loading train features and labels from data/train_roberta_features.npz and data/train_stay_len_labels.npz\n"
     ]
    },
    {
     "name": "stdout",
     "output_type": "stream",
     "text": [
      "features shape: (34416, 764)\n",
      "labels shape: (34416,)\n"
     ]
    },
    {
     "data": {
      "application/vnd.jupyter.widget-view+json": {
       "model_id": "7e9c53bc443b4b039bf045ac5d2f5c15",
       "version_major": 2,
       "version_minor": 0
      },
      "text/plain": [
       "Training: 0it [00:00, ?it/s]"
      ]
     },
     "metadata": {},
     "output_type": "display_data"
    },
    {
     "data": {
      "application/vnd.jupyter.widget-view+json": {
       "model_id": "d5a9e36ff29240d3bac9e24c7ac152f3",
       "version_major": 2,
       "version_minor": 0
      },
      "text/plain": [
       "Validating: 0it [00:00, ?it/s]"
      ]
     },
     "metadata": {},
     "output_type": "display_data"
    },
    {
     "name": "stderr",
     "output_type": "stream",
     "text": [
      "Epoch 0, global step 1075: val_mse reached 1174069968896.00000 (best 1174069968896.00000), saving model to \"/mnt/c/Users/natra/Documents/Education/UChicago/NLP/n2c2-track2-nlp-uchicago/output/sl_linear/version_20220315-103746/checkpoints/epoch=0-val_mse=1174069968896.00.ckpt\" as top 1\n"
     ]
    },
    {
     "data": {
      "application/vnd.jupyter.widget-view+json": {
       "model_id": "e64cc0c56abf41049e5cffc29d27f96e",
       "version_major": 2,
       "version_minor": 0
      },
      "text/plain": [
       "Validating: 0it [00:00, ?it/s]"
      ]
     },
     "metadata": {},
     "output_type": "display_data"
    },
    {
     "name": "stderr",
     "output_type": "stream",
     "text": [
      "Epoch 1, global step 2151: val_mse reached 1159325155328.00000 (best 1159325155328.00000), saving model to \"/mnt/c/Users/natra/Documents/Education/UChicago/NLP/n2c2-track2-nlp-uchicago/output/sl_linear/version_20220315-103746/checkpoints/epoch=1-val_mse=1159325155328.00.ckpt\" as top 1\n"
     ]
    },
    {
     "data": {
      "application/vnd.jupyter.widget-view+json": {
       "model_id": "58882eeef5624b049549d11636d76bf1",
       "version_major": 2,
       "version_minor": 0
      },
      "text/plain": [
       "Validating: 0it [00:00, ?it/s]"
      ]
     },
     "metadata": {},
     "output_type": "display_data"
    },
    {
     "name": "stderr",
     "output_type": "stream",
     "text": [
      "Epoch 2, global step 3227: val_mse reached 1148867182592.00000 (best 1148867182592.00000), saving model to \"/mnt/c/Users/natra/Documents/Education/UChicago/NLP/n2c2-track2-nlp-uchicago/output/sl_linear/version_20220315-103746/checkpoints/epoch=2-val_mse=1148867182592.00.ckpt\" as top 1\n"
     ]
    },
    {
     "data": {
      "application/vnd.jupyter.widget-view+json": {
       "model_id": "d87c23185bf84deb8ce98a2cf6739b2d",
       "version_major": 2,
       "version_minor": 0
      },
      "text/plain": [
       "Validating: 0it [00:00, ?it/s]"
      ]
     },
     "metadata": {},
     "output_type": "display_data"
    },
    {
     "name": "stderr",
     "output_type": "stream",
     "text": [
      "Epoch 3, global step 4303: val_mse reached 1142567206912.00000 (best 1142567206912.00000), saving model to \"/mnt/c/Users/natra/Documents/Education/UChicago/NLP/n2c2-track2-nlp-uchicago/output/sl_linear/version_20220315-103746/checkpoints/epoch=3-val_mse=1142567206912.00.ckpt\" as top 1\n"
     ]
    },
    {
     "data": {
      "application/vnd.jupyter.widget-view+json": {
       "model_id": "04487b7009ac41ca826f2c47e66740cf",
       "version_major": 2,
       "version_minor": 0
      },
      "text/plain": [
       "Validating: 0it [00:00, ?it/s]"
      ]
     },
     "metadata": {},
     "output_type": "display_data"
    },
    {
     "name": "stderr",
     "output_type": "stream",
     "text": [
      "Epoch 4, global step 5379: val_mse reached 1138437783552.00000 (best 1138437783552.00000), saving model to \"/mnt/c/Users/natra/Documents/Education/UChicago/NLP/n2c2-track2-nlp-uchicago/output/sl_linear/version_20220315-103746/checkpoints/epoch=4-val_mse=1138437783552.00.ckpt\" as top 1\n"
     ]
    },
    {
     "data": {
      "application/vnd.jupyter.widget-view+json": {
       "model_id": "92f089d92b724313823575dc38adc7f3",
       "version_major": 2,
       "version_minor": 0
      },
      "text/plain": [
       "Validating: 0it [00:00, ?it/s]"
      ]
     },
     "metadata": {},
     "output_type": "display_data"
    },
    {
     "name": "stderr",
     "output_type": "stream",
     "text": [
      "Epoch 5, global step 6455: val_mse reached 1135132016640.00000 (best 1135132016640.00000), saving model to \"/mnt/c/Users/natra/Documents/Education/UChicago/NLP/n2c2-track2-nlp-uchicago/output/sl_linear/version_20220315-103746/checkpoints/epoch=5-val_mse=1135132016640.00.ckpt\" as top 1\n"
     ]
    },
    {
     "data": {
      "application/vnd.jupyter.widget-view+json": {
       "model_id": "532402e411ea4f569238414dd177b098",
       "version_major": 2,
       "version_minor": 0
      },
      "text/plain": [
       "Validating: 0it [00:00, ?it/s]"
      ]
     },
     "metadata": {},
     "output_type": "display_data"
    },
    {
     "name": "stderr",
     "output_type": "stream",
     "text": [
      "Epoch 6, global step 7531: val_mse reached 1132903268352.00000 (best 1132903268352.00000), saving model to \"/mnt/c/Users/natra/Documents/Education/UChicago/NLP/n2c2-track2-nlp-uchicago/output/sl_linear/version_20220315-103746/checkpoints/epoch=6-val_mse=1132903268352.00.ckpt\" as top 1\n"
     ]
    },
    {
     "data": {
      "application/vnd.jupyter.widget-view+json": {
       "model_id": "4800c455cf7d45378e9cd1bc2638b0c0",
       "version_major": 2,
       "version_minor": 0
      },
      "text/plain": [
       "Validating: 0it [00:00, ?it/s]"
      ]
     },
     "metadata": {},
     "output_type": "display_data"
    },
    {
     "name": "stderr",
     "output_type": "stream",
     "text": [
      "Epoch 7, global step 8607: val_mse reached 1131181768704.00000 (best 1131181768704.00000), saving model to \"/mnt/c/Users/natra/Documents/Education/UChicago/NLP/n2c2-track2-nlp-uchicago/output/sl_linear/version_20220315-103746/checkpoints/epoch=7-val_mse=1131181768704.00.ckpt\" as top 1\n"
     ]
    },
    {
     "data": {
      "application/vnd.jupyter.widget-view+json": {
       "model_id": "1b1b079c6136462bb3bcd7525eb8ac8f",
       "version_major": 2,
       "version_minor": 0
      },
      "text/plain": [
       "Validating: 0it [00:00, ?it/s]"
      ]
     },
     "metadata": {},
     "output_type": "display_data"
    },
    {
     "name": "stderr",
     "output_type": "stream",
     "text": [
      "Epoch 8, global step 9683: val_mse reached 1130150625280.00000 (best 1130150625280.00000), saving model to \"/mnt/c/Users/natra/Documents/Education/UChicago/NLP/n2c2-track2-nlp-uchicago/output/sl_linear/version_20220315-103746/checkpoints/epoch=8-val_mse=1130150625280.00.ckpt\" as top 1\n"
     ]
    },
    {
     "data": {
      "application/vnd.jupyter.widget-view+json": {
       "model_id": "df09406c771d4c3a835ea8f2fc7b337e",
       "version_major": 2,
       "version_minor": 0
      },
      "text/plain": [
       "Validating: 0it [00:00, ?it/s]"
      ]
     },
     "metadata": {},
     "output_type": "display_data"
    },
    {
     "name": "stderr",
     "output_type": "stream",
     "text": [
      "Epoch 9, global step 10759: val_mse reached 1128509734912.00000 (best 1128509734912.00000), saving model to \"/mnt/c/Users/natra/Documents/Education/UChicago/NLP/n2c2-track2-nlp-uchicago/output/sl_linear/version_20220315-103746/checkpoints/epoch=9-val_mse=1128509734912.00.ckpt\" as top 1\n"
     ]
    },
    {
     "data": {
      "application/vnd.jupyter.widget-view+json": {
       "model_id": "39c35be571b343f288420ce41a47820c",
       "version_major": 2,
       "version_minor": 0
      },
      "text/plain": [
       "Validating: 0it [00:00, ?it/s]"
      ]
     },
     "metadata": {},
     "output_type": "display_data"
    },
    {
     "name": "stderr",
     "output_type": "stream",
     "text": [
      "Epoch 10, global step 11835: val_mse reached 1128212594688.00000 (best 1128212594688.00000), saving model to \"/mnt/c/Users/natra/Documents/Education/UChicago/NLP/n2c2-track2-nlp-uchicago/output/sl_linear/version_20220315-103746/checkpoints/epoch=10-val_mse=1128212594688.00.ckpt\" as top 1\n"
     ]
    },
    {
     "data": {
      "application/vnd.jupyter.widget-view+json": {
       "model_id": "a36cdcf429624fce9ed47fe457911ec9",
       "version_major": 2,
       "version_minor": 0
      },
      "text/plain": [
       "Validating: 0it [00:00, ?it/s]"
      ]
     },
     "metadata": {},
     "output_type": "display_data"
    },
    {
     "name": "stderr",
     "output_type": "stream",
     "text": [
      "Epoch 11, global step 12911: val_mse reached 1126949978112.00000 (best 1126949978112.00000), saving model to \"/mnt/c/Users/natra/Documents/Education/UChicago/NLP/n2c2-track2-nlp-uchicago/output/sl_linear/version_20220315-103746/checkpoints/epoch=11-val_mse=1126949978112.00.ckpt\" as top 1\n"
     ]
    },
    {
     "data": {
      "application/vnd.jupyter.widget-view+json": {
       "model_id": "87c36830c39a457db14b575e4c4479d2",
       "version_major": 2,
       "version_minor": 0
      },
      "text/plain": [
       "Validating: 0it [00:00, ?it/s]"
      ]
     },
     "metadata": {},
     "output_type": "display_data"
    },
    {
     "name": "stderr",
     "output_type": "stream",
     "text": [
      "Epoch 12, global step 13987: val_mse reached 1126548766720.00000 (best 1126548766720.00000), saving model to \"/mnt/c/Users/natra/Documents/Education/UChicago/NLP/n2c2-track2-nlp-uchicago/output/sl_linear/version_20220315-103746/checkpoints/epoch=12-val_mse=1126548766720.00.ckpt\" as top 1\n"
     ]
    },
    {
     "data": {
      "application/vnd.jupyter.widget-view+json": {
       "model_id": "92de3b4b19bf4d98b617e29528816783",
       "version_major": 2,
       "version_minor": 0
      },
      "text/plain": [
       "Validating: 0it [00:00, ?it/s]"
      ]
     },
     "metadata": {},
     "output_type": "display_data"
    },
    {
     "name": "stderr",
     "output_type": "stream",
     "text": [
      "Epoch 13, global step 15063: val_mse reached 1125977292800.00000 (best 1125977292800.00000), saving model to \"/mnt/c/Users/natra/Documents/Education/UChicago/NLP/n2c2-track2-nlp-uchicago/output/sl_linear/version_20220315-103746/checkpoints/epoch=13-val_mse=1125977292800.00.ckpt\" as top 1\n"
     ]
    },
    {
     "data": {
      "application/vnd.jupyter.widget-view+json": {
       "model_id": "782b6f768c0b4db6b2801900f926c18c",
       "version_major": 2,
       "version_minor": 0
      },
      "text/plain": [
       "Validating: 0it [00:00, ?it/s]"
      ]
     },
     "metadata": {},
     "output_type": "display_data"
    },
    {
     "name": "stderr",
     "output_type": "stream",
     "text": [
      "Epoch 14, global step 16139: val_mse was not in top 1\n"
     ]
    },
    {
     "data": {
      "application/vnd.jupyter.widget-view+json": {
       "model_id": "6ae4d5f8e9464a8cba5a56fa7f085535",
       "version_major": 2,
       "version_minor": 0
      },
      "text/plain": [
       "Validating: 0it [00:00, ?it/s]"
      ]
     },
     "metadata": {},
     "output_type": "display_data"
    },
    {
     "name": "stderr",
     "output_type": "stream",
     "text": [
      "Epoch 15, global step 17215: val_mse reached 1125297029120.00000 (best 1125297029120.00000), saving model to \"/mnt/c/Users/natra/Documents/Education/UChicago/NLP/n2c2-track2-nlp-uchicago/output/sl_linear/version_20220315-103746/checkpoints/epoch=15-val_mse=1125297029120.00.ckpt\" as top 1\n"
     ]
    },
    {
     "data": {
      "application/vnd.jupyter.widget-view+json": {
       "model_id": "ccf785b496ee4fa4ab302ff5c61a3e3d",
       "version_major": 2,
       "version_minor": 0
      },
      "text/plain": [
       "Validating: 0it [00:00, ?it/s]"
      ]
     },
     "metadata": {},
     "output_type": "display_data"
    },
    {
     "name": "stderr",
     "output_type": "stream",
     "text": [
      "Epoch 16, global step 18291: val_mse reached 1125173952512.00000 (best 1125173952512.00000), saving model to \"/mnt/c/Users/natra/Documents/Education/UChicago/NLP/n2c2-track2-nlp-uchicago/output/sl_linear/version_20220315-103746/checkpoints/epoch=16-val_mse=1125173952512.00.ckpt\" as top 1\n"
     ]
    },
    {
     "data": {
      "application/vnd.jupyter.widget-view+json": {
       "model_id": "aa5199a1c16f4266ac7f1de672be653c",
       "version_major": 2,
       "version_minor": 0
      },
      "text/plain": [
       "Validating: 0it [00:00, ?it/s]"
      ]
     },
     "metadata": {},
     "output_type": "display_data"
    },
    {
     "name": "stderr",
     "output_type": "stream",
     "text": [
      "Epoch 17, global step 19367: val_mse reached 1124833165312.00000 (best 1124833165312.00000), saving model to \"/mnt/c/Users/natra/Documents/Education/UChicago/NLP/n2c2-track2-nlp-uchicago/output/sl_linear/version_20220315-103746/checkpoints/epoch=17-val_mse=1124833165312.00.ckpt\" as top 1\n"
     ]
    },
    {
     "data": {
      "application/vnd.jupyter.widget-view+json": {
       "model_id": "ba7fbbe4a56a430d999d9cf214c372a9",
       "version_major": 2,
       "version_minor": 0
      },
      "text/plain": [
       "Validating: 0it [00:00, ?it/s]"
      ]
     },
     "metadata": {},
     "output_type": "display_data"
    },
    {
     "name": "stderr",
     "output_type": "stream",
     "text": [
      "Epoch 18, global step 20443: val_mse was not in top 1\n"
     ]
    },
    {
     "data": {
      "application/vnd.jupyter.widget-view+json": {
       "model_id": "536d52a0d1d1461f9ad35aa2b857ab7b",
       "version_major": 2,
       "version_minor": 0
      },
      "text/plain": [
       "Validating: 0it [00:00, ?it/s]"
      ]
     },
     "metadata": {},
     "output_type": "display_data"
    },
    {
     "name": "stderr",
     "output_type": "stream",
     "text": [
      "Epoch 19, global step 21519: val_mse reached 1124531044352.00000 (best 1124531044352.00000), saving model to \"/mnt/c/Users/natra/Documents/Education/UChicago/NLP/n2c2-track2-nlp-uchicago/output/sl_linear/version_20220315-103746/checkpoints/epoch=19-val_mse=1124531044352.00.ckpt\" as top 1\n"
     ]
    },
    {
     "data": {
      "application/vnd.jupyter.widget-view+json": {
       "model_id": "4375276e70c245bc9de959fce582b855",
       "version_major": 2,
       "version_minor": 0
      },
      "text/plain": [
       "Validating: 0it [00:00, ?it/s]"
      ]
     },
     "metadata": {},
     "output_type": "display_data"
    },
    {
     "name": "stderr",
     "output_type": "stream",
     "text": [
      "Epoch 20, global step 22595: val_mse reached 1124462493696.00000 (best 1124462493696.00000), saving model to \"/mnt/c/Users/natra/Documents/Education/UChicago/NLP/n2c2-track2-nlp-uchicago/output/sl_linear/version_20220315-103746/checkpoints/epoch=20-val_mse=1124462493696.00.ckpt\" as top 1\n"
     ]
    },
    {
     "data": {
      "application/vnd.jupyter.widget-view+json": {
       "model_id": "7999b1c060de4c82b83afe5625018131",
       "version_major": 2,
       "version_minor": 0
      },
      "text/plain": [
       "Validating: 0it [00:00, ?it/s]"
      ]
     },
     "metadata": {},
     "output_type": "display_data"
    },
    {
     "name": "stderr",
     "output_type": "stream",
     "text": [
      "Epoch 21, global step 23671: val_mse was not in top 1\n"
     ]
    },
    {
     "data": {
      "application/vnd.jupyter.widget-view+json": {
       "model_id": "a4baf75c3558419fad605c1bd2a4192b",
       "version_major": 2,
       "version_minor": 0
      },
      "text/plain": [
       "Validating: 0it [00:00, ?it/s]"
      ]
     },
     "metadata": {},
     "output_type": "display_data"
    },
    {
     "name": "stderr",
     "output_type": "stream",
     "text": [
      "Epoch 22, global step 24747: val_mse was not in top 1\n"
     ]
    },
    {
     "data": {
      "application/vnd.jupyter.widget-view+json": {
       "model_id": "30f83b2fdde7414eac7a975d0b382d9a",
       "version_major": 2,
       "version_minor": 0
      },
      "text/plain": [
       "Validating: 0it [00:00, ?it/s]"
      ]
     },
     "metadata": {},
     "output_type": "display_data"
    },
    {
     "name": "stderr",
     "output_type": "stream",
     "text": [
      "Epoch 23, global step 25823: val_mse was not in top 1\n"
     ]
    },
    {
     "data": {
      "application/vnd.jupyter.widget-view+json": {
       "model_id": "60330318843e411ca7aa44a044e24fe4",
       "version_major": 2,
       "version_minor": 0
      },
      "text/plain": [
       "Validating: 0it [00:00, ?it/s]"
      ]
     },
     "metadata": {},
     "output_type": "display_data"
    },
    {
     "name": "stderr",
     "output_type": "stream",
     "text": [
      "Epoch 24, global step 26899: val_mse was not in top 1\n"
     ]
    },
    {
     "data": {
      "application/vnd.jupyter.widget-view+json": {
       "model_id": "3f1619a2f7cd4673abda882955112f92",
       "version_major": 2,
       "version_minor": 0
      },
      "text/plain": [
       "Validating: 0it [00:00, ?it/s]"
      ]
     },
     "metadata": {},
     "output_type": "display_data"
    },
    {
     "name": "stderr",
     "output_type": "stream",
     "text": [
      "Epoch 25, global step 27975: val_mse reached 1124361437184.00000 (best 1124361437184.00000), saving model to \"/mnt/c/Users/natra/Documents/Education/UChicago/NLP/n2c2-track2-nlp-uchicago/output/sl_linear/version_20220315-103746/checkpoints/epoch=25-val_mse=1124361437184.00.ckpt\" as top 1\n"
     ]
    },
    {
     "data": {
      "application/vnd.jupyter.widget-view+json": {
       "model_id": "40f629b7a9de416fb5db5e3aaac78e86",
       "version_major": 2,
       "version_minor": 0
      },
      "text/plain": [
       "Validating: 0it [00:00, ?it/s]"
      ]
     },
     "metadata": {},
     "output_type": "display_data"
    },
    {
     "name": "stderr",
     "output_type": "stream",
     "text": [
      "Epoch 26, global step 29051: val_mse reached 1124251729920.00000 (best 1124251729920.00000), saving model to \"/mnt/c/Users/natra/Documents/Education/UChicago/NLP/n2c2-track2-nlp-uchicago/output/sl_linear/version_20220315-103746/checkpoints/epoch=26-val_mse=1124251729920.00.ckpt\" as top 1\n"
     ]
    },
    {
     "data": {
      "application/vnd.jupyter.widget-view+json": {
       "model_id": "d3b93868e0d3499285042924529814a9",
       "version_major": 2,
       "version_minor": 0
      },
      "text/plain": [
       "Validating: 0it [00:00, ?it/s]"
      ]
     },
     "metadata": {},
     "output_type": "display_data"
    },
    {
     "name": "stderr",
     "output_type": "stream",
     "text": [
      "Epoch 27, global step 30127: val_mse was not in top 1\n"
     ]
    },
    {
     "data": {
      "application/vnd.jupyter.widget-view+json": {
       "model_id": "ded456509ac14e1db28eacca198b4fc7",
       "version_major": 2,
       "version_minor": 0
      },
      "text/plain": [
       "Validating: 0it [00:00, ?it/s]"
      ]
     },
     "metadata": {},
     "output_type": "display_data"
    },
    {
     "name": "stderr",
     "output_type": "stream",
     "text": [
      "Epoch 28, global step 31203: val_mse was not in top 1\n"
     ]
    },
    {
     "data": {
      "application/vnd.jupyter.widget-view+json": {
       "model_id": "006092540b714cbca264f58ad7de2f01",
       "version_major": 2,
       "version_minor": 0
      },
      "text/plain": [
       "Validating: 0it [00:00, ?it/s]"
      ]
     },
     "metadata": {},
     "output_type": "display_data"
    },
    {
     "name": "stderr",
     "output_type": "stream",
     "text": [
      "Epoch 29, global step 32279: val_mse reached 1124215029760.00000 (best 1124215029760.00000), saving model to \"/mnt/c/Users/natra/Documents/Education/UChicago/NLP/n2c2-track2-nlp-uchicago/output/sl_linear/version_20220315-103746/checkpoints/epoch=29-val_mse=1124215029760.00.ckpt\" as top 1\n"
     ]
    },
    {
     "data": {
      "application/vnd.jupyter.widget-view+json": {
       "model_id": "295b7ab51c014a56b9f527c46253543b",
       "version_major": 2,
       "version_minor": 0
      },
      "text/plain": [
       "Validating: 0it [00:00, ?it/s]"
      ]
     },
     "metadata": {},
     "output_type": "display_data"
    },
    {
     "name": "stderr",
     "output_type": "stream",
     "text": [
      "Epoch 30, global step 33355: val_mse was not in top 1\n"
     ]
    },
    {
     "data": {
      "application/vnd.jupyter.widget-view+json": {
       "model_id": "95c3c344d0aa413a849148453191c991",
       "version_major": 2,
       "version_minor": 0
      },
      "text/plain": [
       "Validating: 0it [00:00, ?it/s]"
      ]
     },
     "metadata": {},
     "output_type": "display_data"
    },
    {
     "name": "stderr",
     "output_type": "stream",
     "text": [
      "Epoch 31, global step 34431: val_mse was not in top 1\n"
     ]
    },
    {
     "data": {
      "application/vnd.jupyter.widget-view+json": {
       "model_id": "d635d0bf787a4931a5dfcaa043bd2c63",
       "version_major": 2,
       "version_minor": 0
      },
      "text/plain": [
       "Validating: 0it [00:00, ?it/s]"
      ]
     },
     "metadata": {},
     "output_type": "display_data"
    },
    {
     "name": "stderr",
     "output_type": "stream",
     "text": [
      "Epoch 32, global step 35507: val_mse was not in top 1\n"
     ]
    },
    {
     "data": {
      "application/vnd.jupyter.widget-view+json": {
       "model_id": "724633fa66b748b8beeba633ab6f63db",
       "version_major": 2,
       "version_minor": 0
      },
      "text/plain": [
       "Validating: 0it [00:00, ?it/s]"
      ]
     },
     "metadata": {},
     "output_type": "display_data"
    },
    {
     "name": "stderr",
     "output_type": "stream",
     "text": [
      "Epoch 33, global step 36583: val_mse was not in top 1\n"
     ]
    },
    {
     "data": {
      "application/vnd.jupyter.widget-view+json": {
       "model_id": "2017c1fe4821430e842575adedcadaf9",
       "version_major": 2,
       "version_minor": 0
      },
      "text/plain": [
       "Validating: 0it [00:00, ?it/s]"
      ]
     },
     "metadata": {},
     "output_type": "display_data"
    },
    {
     "name": "stderr",
     "output_type": "stream",
     "text": [
      "Epoch 34, global step 37659: val_mse was not in top 1\n"
     ]
    },
    {
     "data": {
      "application/vnd.jupyter.widget-view+json": {
       "model_id": "614054ecb93f4367aa689d124ab3b755",
       "version_major": 2,
       "version_minor": 0
      },
      "text/plain": [
       "Validating: 0it [00:00, ?it/s]"
      ]
     },
     "metadata": {},
     "output_type": "display_data"
    },
    {
     "name": "stderr",
     "output_type": "stream",
     "text": [
      "Epoch 35, global step 38735: val_mse was not in top 1\n"
     ]
    },
    {
     "data": {
      "application/vnd.jupyter.widget-view+json": {
       "model_id": "de1ecdbe03704e49a067a3af933c2409",
       "version_major": 2,
       "version_minor": 0
      },
      "text/plain": [
       "Validating: 0it [00:00, ?it/s]"
      ]
     },
     "metadata": {},
     "output_type": "display_data"
    },
    {
     "name": "stderr",
     "output_type": "stream",
     "text": [
      "Epoch 36, global step 39811: val_mse was not in top 1\n"
     ]
    },
    {
     "data": {
      "application/vnd.jupyter.widget-view+json": {
       "model_id": "97cc92e561bf4a1a818e4ce50ec0a0c3",
       "version_major": 2,
       "version_minor": 0
      },
      "text/plain": [
       "Validating: 0it [00:00, ?it/s]"
      ]
     },
     "metadata": {},
     "output_type": "display_data"
    },
    {
     "name": "stderr",
     "output_type": "stream",
     "text": [
      "Epoch 37, global step 40887: val_mse was not in top 1\n"
     ]
    },
    {
     "data": {
      "application/vnd.jupyter.widget-view+json": {
       "model_id": "cbe7854fad1a4adcaadd0ac601a6001d",
       "version_major": 2,
       "version_minor": 0
      },
      "text/plain": [
       "Validating: 0it [00:00, ?it/s]"
      ]
     },
     "metadata": {},
     "output_type": "display_data"
    },
    {
     "name": "stderr",
     "output_type": "stream",
     "text": [
      "Epoch 38, global step 41963: val_mse was not in top 1\n"
     ]
    },
    {
     "data": {
      "application/vnd.jupyter.widget-view+json": {
       "model_id": "30958ec0a7c244d7bcd089d65a7d4dc4",
       "version_major": 2,
       "version_minor": 0
      },
      "text/plain": [
       "Validating: 0it [00:00, ?it/s]"
      ]
     },
     "metadata": {},
     "output_type": "display_data"
    },
    {
     "name": "stderr",
     "output_type": "stream",
     "text": [
      "Epoch 39, global step 43039: val_mse was not in top 1\n"
     ]
    },
    {
     "data": {
      "application/vnd.jupyter.widget-view+json": {
       "model_id": "651256e6055047c3bd5348946fb11ff7",
       "version_major": 2,
       "version_minor": 0
      },
      "text/plain": [
       "Validating: 0it [00:00, ?it/s]"
      ]
     },
     "metadata": {},
     "output_type": "display_data"
    },
    {
     "name": "stderr",
     "output_type": "stream",
     "text": [
      "Epoch 40, global step 44115: val_mse was not in top 1\n"
     ]
    },
    {
     "data": {
      "application/vnd.jupyter.widget-view+json": {
       "model_id": "43fec7bd848a4d599856f5c44d9557a6",
       "version_major": 2,
       "version_minor": 0
      },
      "text/plain": [
       "Validating: 0it [00:00, ?it/s]"
      ]
     },
     "metadata": {},
     "output_type": "display_data"
    },
    {
     "name": "stderr",
     "output_type": "stream",
     "text": [
      "Epoch 41, global step 45191: val_mse was not in top 1\n"
     ]
    },
    {
     "data": {
      "application/vnd.jupyter.widget-view+json": {
       "model_id": "9bf08ca752e54119b1f3f2059f606d3f",
       "version_major": 2,
       "version_minor": 0
      },
      "text/plain": [
       "Validating: 0it [00:00, ?it/s]"
      ]
     },
     "metadata": {},
     "output_type": "display_data"
    },
    {
     "name": "stderr",
     "output_type": "stream",
     "text": [
      "Epoch 42, global step 46267: val_mse was not in top 1\n"
     ]
    },
    {
     "data": {
      "application/vnd.jupyter.widget-view+json": {
       "model_id": "799e029da5a4427d8cde2ebed1e91665",
       "version_major": 2,
       "version_minor": 0
      },
      "text/plain": [
       "Validating: 0it [00:00, ?it/s]"
      ]
     },
     "metadata": {},
     "output_type": "display_data"
    },
    {
     "name": "stderr",
     "output_type": "stream",
     "text": [
      "Epoch 43, global step 47343: val_mse was not in top 1\n"
     ]
    },
    {
     "data": {
      "application/vnd.jupyter.widget-view+json": {
       "model_id": "932313db6fab4e43b3a33db62eb25f9b",
       "version_major": 2,
       "version_minor": 0
      },
      "text/plain": [
       "Validating: 0it [00:00, ?it/s]"
      ]
     },
     "metadata": {},
     "output_type": "display_data"
    },
    {
     "name": "stderr",
     "output_type": "stream",
     "text": [
      "Epoch 44, global step 48419: val_mse was not in top 1\n"
     ]
    },
    {
     "data": {
      "application/vnd.jupyter.widget-view+json": {
       "model_id": "bf7e8d1c0ebc4306a37c0d923810bc94",
       "version_major": 2,
       "version_minor": 0
      },
      "text/plain": [
       "Validating: 0it [00:00, ?it/s]"
      ]
     },
     "metadata": {},
     "output_type": "display_data"
    },
    {
     "name": "stderr",
     "output_type": "stream",
     "text": [
      "Epoch 45, global step 49495: val_mse was not in top 1\n"
     ]
    },
    {
     "data": {
      "application/vnd.jupyter.widget-view+json": {
       "model_id": "d8d5838f21d04ab1b612820456e8b194",
       "version_major": 2,
       "version_minor": 0
      },
      "text/plain": [
       "Validating: 0it [00:00, ?it/s]"
      ]
     },
     "metadata": {},
     "output_type": "display_data"
    },
    {
     "name": "stderr",
     "output_type": "stream",
     "text": [
      "Epoch 46, global step 50571: val_mse was not in top 1\n"
     ]
    },
    {
     "data": {
      "application/vnd.jupyter.widget-view+json": {
       "model_id": "58b30c383c9e4fc3bb448a2412e0b7ae",
       "version_major": 2,
       "version_minor": 0
      },
      "text/plain": [
       "Validating: 0it [00:00, ?it/s]"
      ]
     },
     "metadata": {},
     "output_type": "display_data"
    },
    {
     "name": "stderr",
     "output_type": "stream",
     "text": [
      "Epoch 47, global step 51647: val_mse was not in top 1\n"
     ]
    },
    {
     "data": {
      "application/vnd.jupyter.widget-view+json": {
       "model_id": "a057e755a76d4151922b46ced131b62f",
       "version_major": 2,
       "version_minor": 0
      },
      "text/plain": [
       "Validating: 0it [00:00, ?it/s]"
      ]
     },
     "metadata": {},
     "output_type": "display_data"
    },
    {
     "name": "stderr",
     "output_type": "stream",
     "text": [
      "Epoch 48, global step 52723: val_mse was not in top 1\n"
     ]
    },
    {
     "data": {
      "application/vnd.jupyter.widget-view+json": {
       "model_id": "a545a3f1ea304e7aa59a4dba7e74137a",
       "version_major": 2,
       "version_minor": 0
      },
      "text/plain": [
       "Validating: 0it [00:00, ?it/s]"
      ]
     },
     "metadata": {},
     "output_type": "display_data"
    },
    {
     "name": "stderr",
     "output_type": "stream",
     "text": [
      "Epoch 49, global step 53799: val_mse was not in top 1\n",
      "2022-03-15 10:50:46 - INFO - __main__ - Copy best model from /mnt/c/Users/natra/Documents/Education/UChicago/NLP/n2c2-track2-nlp-uchicago/output/sl_linear/version_20220315-103746/checkpoints/epoch=29-val_mse=1124215029760.00.ckpt to output/sl_linear/version_20220315-103746/checkpoints/best_model.ckpt.\n",
      "LOCAL_RANK: 0 - CUDA_VISIBLE_DEVICES: [0]\n",
      "2022-03-15 10:50:47 - INFO - __main__ - Loading dev features and labels from data/dev_roberta_features.npz and data/dev_stay_len_labels.npz\n"
     ]
    },
    {
     "name": "stdout",
     "output_type": "stream",
     "text": [
      "features shape: (11473, 764)\n",
      "labels shape: (11473,)\n"
     ]
    },
    {
     "data": {
      "application/vnd.jupyter.widget-view+json": {
       "model_id": "35ad9fd7a1704f8bb9ee86f8eeb001c2",
       "version_major": 2,
       "version_minor": 0
      },
      "text/plain": [
       "Validating: 0it [00:00, ?it/s]"
      ]
     },
     "metadata": {},
     "output_type": "display_data"
    },
    {
     "name": "stderr",
     "output_type": "stream",
     "text": [
      "LOCAL_RANK: 0 - CUDA_VISIBLE_DEVICES: [0]\n"
     ]
    },
    {
     "name": "stdout",
     "output_type": "stream",
     "text": [
      "--------------------------------------------------------------------------------\n",
      "DATALOADER:0 VALIDATE RESULTS\n",
      "{'val_loss': 1124215029760.0,\n",
      " 'val_mae': 601289.875,\n",
      " 'val_mape': 2.4931983947753906,\n",
      " 'val_mse': 1124215029760.0,\n",
      " 'val_r2': 2.2271676063537598}\n",
      "--------------------------------------------------------------------------------\n"
     ]
    },
    {
     "name": "stderr",
     "output_type": "stream",
     "text": [
      "2022-03-15 10:50:50 - INFO - __main__ - Loading test features and labels from data/test_roberta_features.npz and data/test_stay_len_labels.npz\n"
     ]
    },
    {
     "name": "stdout",
     "output_type": "stream",
     "text": [
      "features shape: (11473, 764)\n",
      "labels shape: (11473,)\n"
     ]
    },
    {
     "data": {
      "application/vnd.jupyter.widget-view+json": {
       "model_id": "2b6bf0485e98423eacaf9cb0f9c7ea60",
       "version_major": 2,
       "version_minor": 0
      },
      "text/plain": [
       "Testing: 0it [00:00, ?it/s]"
      ]
     },
     "metadata": {},
     "output_type": "display_data"
    },
    {
     "name": "stdout",
     "output_type": "stream",
     "text": [
      "--------------------------------------------------------------------------------\n",
      "DATALOADER:0 TEST RESULTS\n",
      "{'test_loss': 1065554214912.0,\n",
      " 'test_mae': 606180.3125,\n",
      " 'test_mape': 2.3022756576538086,\n",
      " 'test_mse': 1065554214912.0,\n",
      " 'test_r2': 2.169055223464966}\n",
      "--------------------------------------------------------------------------------\n",
      "Validation MSE on the best model:  1124215029760.0000\n",
      "Validation R2 on the best model:  2.2272\n",
      "Test MSE on the best model:  1065554214912.0000\n",
      "Test R2 on the best model:  2.1691\n"
     ]
    }
   ],
   "source": [
    "logging.basicConfig(format=\"%(asctime)s - %(levelname)s - %(name)s - %(message)s\",\n",
    "                    datefmt=\"%Y-%m-%d %H:%M:%S\",\n",
    "                    level=logging.INFO)\n",
    "logger = logging.getLogger(__name__)\n",
    "\n",
    "# Load hyperparameters\n",
    "parser = ArgumentParser()\n",
    "parser = FeatureBasedRegressionModule.add_model_specific_args(parser)\n",
    "\n",
    "# NOTE: You should replace `unigram_binary` in the assignment statement of `args_str =...`\n",
    "# with whatever feature that you are experimented with.\n",
    "# You can also configure other options listed in the method of add_model_specific_args of\n",
    "# the pytorch-lightning model `FeatureBasedBinaryClassificationLModule`.\n",
    "args_str = (\"--feature_name roberta --max_epochs 50 --label_name stay_len \"\n",
    "            \"--output_dir output/sl_linear --optimizer adam --do_train --do_predict \"\n",
    "            )\n",
    "\n",
    "args = parser.parse_args(args_str.split())\n",
    "\n",
    "# If output_dir not provided, a folder is generated\n",
    "if args.output_dir is None:\n",
    "    args.output_dir = str(\n",
    "        Path('output').joinpath(\n",
    "            f\"{args.task}_{datetime.now().strftime('%Y%m%d-%H%M%S')}\"))\n",
    "Path(args.output_dir).mkdir(parents=True, exist_ok=True)\n",
    "\n",
    "print(f\"Parsed arguments: {args}\")\n",
    "\n",
    "training_out_rob_50 = generic_train(args=args,\n",
    "                                model_class=FeatureBasedRegressionModule)"
   ]
  },
  {
   "cell_type": "markdown",
   "metadata": {},
   "source": [
    "BioClinicalBERT, truncated to 512"
   ]
  },
  {
   "cell_type": "code",
   "execution_count": 11,
   "metadata": {},
   "outputs": [
    {
     "name": "stderr",
     "output_type": "stream",
     "text": [
      "Global seed set to 42\n",
      "GPU available: True, used: True\n",
      "TPU available: False, using: 0 TPU cores\n",
      "IPU available: False, using: 0 IPUs\n",
      "LOCAL_RANK: 0 - CUDA_VISIBLE_DEVICES: [0]\n"
     ]
    },
    {
     "name": "stdout",
     "output_type": "stream",
     "text": [
      "Parsed arguments: Namespace(vocab_filename=None, optimizer='adam', learning_rate=0.001, l2_regularization=False, max_epochs=20, train_batch_size=32, eval_batch_size=32, seed=42, do_train=True, do_predict=True, data_dir='data', output_dir='output/sl_linear_bc', gpus=1, num_workers=8, feature_name='bc_512', label_name='stay_len', task='featurebinarycls')\n"
     ]
    },
    {
     "name": "stderr",
     "output_type": "stream",
     "text": [
      "\n",
      "  | Name  | Type                        | Params\n",
      "------------------------------------------------------\n",
      "0 | model | LinearRegressionModel       | 765   \n",
      "1 | mse   | MeanSquaredError            | 0     \n",
      "2 | mape  | MeanAbsolutePercentageError | 0     \n",
      "3 | mae   | MeanAbsoluteError           | 0     \n",
      "4 | r2    | R2Score                     | 0     \n",
      "------------------------------------------------------\n",
      "765       Trainable params\n",
      "0         Non-trainable params\n",
      "765       Total params\n",
      "0.003     Total estimated model params size (MB)\n"
     ]
    },
    {
     "data": {
      "application/vnd.jupyter.widget-view+json": {
       "model_id": "0f363c49f2724fdba9ca88507b4e64f0",
       "version_major": 2,
       "version_minor": 0
      },
      "text/plain": [
       "Validation sanity check: 0it [00:00, ?it/s]"
      ]
     },
     "metadata": {},
     "output_type": "display_data"
    },
    {
     "name": "stderr",
     "output_type": "stream",
     "text": [
      "2022-03-15 10:06:37 - INFO - __main__ - Loading dev features and labels from data/dev_bc_512_features.npz and data/dev_stay_len_labels.npz\n"
     ]
    },
    {
     "name": "stdout",
     "output_type": "stream",
     "text": [
      "features shape: (11473, 764)\n",
      "labels shape: (11473,)\n"
     ]
    },
    {
     "name": "stderr",
     "output_type": "stream",
     "text": [
      "Global seed set to 42\n",
      "2022-03-15 10:06:40 - INFO - __main__ - Loading train features and labels from data/train_bc_512_features.npz and data/train_stay_len_labels.npz\n"
     ]
    },
    {
     "name": "stdout",
     "output_type": "stream",
     "text": [
      "features shape: (34416, 764)\n",
      "labels shape: (34416,)\n"
     ]
    },
    {
     "data": {
      "application/vnd.jupyter.widget-view+json": {
       "model_id": "1badfbc335a34b07b089c87e54b89b9c",
       "version_major": 2,
       "version_minor": 0
      },
      "text/plain": [
       "Training: 0it [00:00, ?it/s]"
      ]
     },
     "metadata": {},
     "output_type": "display_data"
    },
    {
     "data": {
      "application/vnd.jupyter.widget-view+json": {
       "model_id": "da5b3f0c9df6442abc781b817b49dd34",
       "version_major": 2,
       "version_minor": 0
      },
      "text/plain": [
       "Validating: 0it [00:00, ?it/s]"
      ]
     },
     "metadata": {},
     "output_type": "display_data"
    },
    {
     "name": "stderr",
     "output_type": "stream",
     "text": [
      "Epoch 0, global step 1075: val_mse reached 1176268439552.00000 (best 1176268439552.00000), saving model to \"/mnt/c/Users/natra/Documents/Education/UChicago/NLP/n2c2-track2-nlp-uchicago/output/sl_linear_bc/version_20220315-100633/checkpoints/epoch=0-val_mse=1176268439552.00.ckpt\" as top 1\n"
     ]
    },
    {
     "data": {
      "application/vnd.jupyter.widget-view+json": {
       "model_id": "f381fa407c5b4092a7f97eed5f1cd423",
       "version_major": 2,
       "version_minor": 0
      },
      "text/plain": [
       "Validating: 0it [00:00, ?it/s]"
      ]
     },
     "metadata": {},
     "output_type": "display_data"
    },
    {
     "name": "stderr",
     "output_type": "stream",
     "text": [
      "Epoch 1, global step 2151: val_mse reached 1173296644096.00000 (best 1173296644096.00000), saving model to \"/mnt/c/Users/natra/Documents/Education/UChicago/NLP/n2c2-track2-nlp-uchicago/output/sl_linear_bc/version_20220315-100633/checkpoints/epoch=1-val_mse=1173296644096.00.ckpt\" as top 1\n"
     ]
    },
    {
     "data": {
      "application/vnd.jupyter.widget-view+json": {
       "model_id": "bb091dcff806469f9e42b4e645679983",
       "version_major": 2,
       "version_minor": 0
      },
      "text/plain": [
       "Validating: 0it [00:00, ?it/s]"
      ]
     },
     "metadata": {},
     "output_type": "display_data"
    },
    {
     "name": "stderr",
     "output_type": "stream",
     "text": [
      "Epoch 2, global step 3227: val_mse reached 1169994678272.00000 (best 1169994678272.00000), saving model to \"/mnt/c/Users/natra/Documents/Education/UChicago/NLP/n2c2-track2-nlp-uchicago/output/sl_linear_bc/version_20220315-100633/checkpoints/epoch=2-val_mse=1169994678272.00.ckpt\" as top 1\n"
     ]
    },
    {
     "data": {
      "application/vnd.jupyter.widget-view+json": {
       "model_id": "f9f62d791b68492698b5c54ebf2e7fd8",
       "version_major": 2,
       "version_minor": 0
      },
      "text/plain": [
       "Validating: 0it [00:00, ?it/s]"
      ]
     },
     "metadata": {},
     "output_type": "display_data"
    },
    {
     "name": "stderr",
     "output_type": "stream",
     "text": [
      "Epoch 3, global step 4303: val_mse reached 1167118565376.00000 (best 1167118565376.00000), saving model to \"/mnt/c/Users/natra/Documents/Education/UChicago/NLP/n2c2-track2-nlp-uchicago/output/sl_linear_bc/version_20220315-100633/checkpoints/epoch=3-val_mse=1167118565376.00.ckpt\" as top 1\n"
     ]
    },
    {
     "data": {
      "application/vnd.jupyter.widget-view+json": {
       "model_id": "8f51409ed1694252b48adf4d2a859426",
       "version_major": 2,
       "version_minor": 0
      },
      "text/plain": [
       "Validating: 0it [00:00, ?it/s]"
      ]
     },
     "metadata": {},
     "output_type": "display_data"
    },
    {
     "name": "stderr",
     "output_type": "stream",
     "text": [
      "Epoch 4, global step 5379: val_mse reached 1165240958976.00000 (best 1165240958976.00000), saving model to \"/mnt/c/Users/natra/Documents/Education/UChicago/NLP/n2c2-track2-nlp-uchicago/output/sl_linear_bc/version_20220315-100633/checkpoints/epoch=4-val_mse=1165240958976.00.ckpt\" as top 1\n"
     ]
    },
    {
     "data": {
      "application/vnd.jupyter.widget-view+json": {
       "model_id": "b7834a9c1a1f4c01b3a362fab1079582",
       "version_major": 2,
       "version_minor": 0
      },
      "text/plain": [
       "Validating: 0it [00:00, ?it/s]"
      ]
     },
     "metadata": {},
     "output_type": "display_data"
    },
    {
     "name": "stderr",
     "output_type": "stream",
     "text": [
      "Epoch 5, global step 6455: val_mse reached 1162678370304.00000 (best 1162678370304.00000), saving model to \"/mnt/c/Users/natra/Documents/Education/UChicago/NLP/n2c2-track2-nlp-uchicago/output/sl_linear_bc/version_20220315-100633/checkpoints/epoch=5-val_mse=1162678370304.00.ckpt\" as top 1\n"
     ]
    },
    {
     "data": {
      "application/vnd.jupyter.widget-view+json": {
       "model_id": "0065e7db774d4b0c87c0e581b13d61a1",
       "version_major": 2,
       "version_minor": 0
      },
      "text/plain": [
       "Validating: 0it [00:00, ?it/s]"
      ]
     },
     "metadata": {},
     "output_type": "display_data"
    },
    {
     "name": "stderr",
     "output_type": "stream",
     "text": [
      "Epoch 6, global step 7531: val_mse reached 1161060679680.00000 (best 1161060679680.00000), saving model to \"/mnt/c/Users/natra/Documents/Education/UChicago/NLP/n2c2-track2-nlp-uchicago/output/sl_linear_bc/version_20220315-100633/checkpoints/epoch=6-val_mse=1161060679680.00.ckpt\" as top 1\n"
     ]
    },
    {
     "data": {
      "application/vnd.jupyter.widget-view+json": {
       "model_id": "a6c66844914d4c9ba255884c43b91f85",
       "version_major": 2,
       "version_minor": 0
      },
      "text/plain": [
       "Validating: 0it [00:00, ?it/s]"
      ]
     },
     "metadata": {},
     "output_type": "display_data"
    },
    {
     "name": "stderr",
     "output_type": "stream",
     "text": [
      "Epoch 7, global step 8607: val_mse reached 1159363428352.00000 (best 1159363428352.00000), saving model to \"/mnt/c/Users/natra/Documents/Education/UChicago/NLP/n2c2-track2-nlp-uchicago/output/sl_linear_bc/version_20220315-100633/checkpoints/epoch=7-val_mse=1159363428352.00.ckpt\" as top 1\n"
     ]
    },
    {
     "data": {
      "application/vnd.jupyter.widget-view+json": {
       "model_id": "6be2fcb5710c4185ac8e76eea7038746",
       "version_major": 2,
       "version_minor": 0
      },
      "text/plain": [
       "Validating: 0it [00:00, ?it/s]"
      ]
     },
     "metadata": {},
     "output_type": "display_data"
    },
    {
     "name": "stderr",
     "output_type": "stream",
     "text": [
      "Epoch 8, global step 9683: val_mse reached 1158487867392.00000 (best 1158487867392.00000), saving model to \"/mnt/c/Users/natra/Documents/Education/UChicago/NLP/n2c2-track2-nlp-uchicago/output/sl_linear_bc/version_20220315-100633/checkpoints/epoch=8-val_mse=1158487867392.00.ckpt\" as top 1\n"
     ]
    },
    {
     "data": {
      "application/vnd.jupyter.widget-view+json": {
       "model_id": "42c797b74c5543d09550133071e2dbbe",
       "version_major": 2,
       "version_minor": 0
      },
      "text/plain": [
       "Validating: 0it [00:00, ?it/s]"
      ]
     },
     "metadata": {},
     "output_type": "display_data"
    },
    {
     "name": "stderr",
     "output_type": "stream",
     "text": [
      "Epoch 9, global step 10759: val_mse reached 1156866899968.00000 (best 1156866899968.00000), saving model to \"/mnt/c/Users/natra/Documents/Education/UChicago/NLP/n2c2-track2-nlp-uchicago/output/sl_linear_bc/version_20220315-100633/checkpoints/epoch=9-val_mse=1156866899968.00.ckpt\" as top 1\n"
     ]
    },
    {
     "data": {
      "application/vnd.jupyter.widget-view+json": {
       "model_id": "5954a2a1e1cd449fb0ef7a5936706e5e",
       "version_major": 2,
       "version_minor": 0
      },
      "text/plain": [
       "Validating: 0it [00:00, ?it/s]"
      ]
     },
     "metadata": {},
     "output_type": "display_data"
    },
    {
     "name": "stderr",
     "output_type": "stream",
     "text": [
      "Epoch 10, global step 11835: val_mse reached 1156477091840.00000 (best 1156477091840.00000), saving model to \"/mnt/c/Users/natra/Documents/Education/UChicago/NLP/n2c2-track2-nlp-uchicago/output/sl_linear_bc/version_20220315-100633/checkpoints/epoch=10-val_mse=1156477091840.00.ckpt\" as top 1\n"
     ]
    },
    {
     "data": {
      "application/vnd.jupyter.widget-view+json": {
       "model_id": "cc2f9a7de29d4d64aed13331ea54d1ac",
       "version_major": 2,
       "version_minor": 0
      },
      "text/plain": [
       "Validating: 0it [00:00, ?it/s]"
      ]
     },
     "metadata": {},
     "output_type": "display_data"
    },
    {
     "name": "stderr",
     "output_type": "stream",
     "text": [
      "Epoch 11, global step 12911: val_mse reached 1154865692672.00000 (best 1154865692672.00000), saving model to \"/mnt/c/Users/natra/Documents/Education/UChicago/NLP/n2c2-track2-nlp-uchicago/output/sl_linear_bc/version_20220315-100633/checkpoints/epoch=11-val_mse=1154865692672.00.ckpt\" as top 1\n"
     ]
    },
    {
     "data": {
      "application/vnd.jupyter.widget-view+json": {
       "model_id": "484823f1dbad409fb88e96b752c9fa31",
       "version_major": 2,
       "version_minor": 0
      },
      "text/plain": [
       "Validating: 0it [00:00, ?it/s]"
      ]
     },
     "metadata": {},
     "output_type": "display_data"
    },
    {
     "name": "stderr",
     "output_type": "stream",
     "text": [
      "Epoch 12, global step 13987: val_mse reached 1154210463744.00000 (best 1154210463744.00000), saving model to \"/mnt/c/Users/natra/Documents/Education/UChicago/NLP/n2c2-track2-nlp-uchicago/output/sl_linear_bc/version_20220315-100633/checkpoints/epoch=12-val_mse=1154210463744.00.ckpt\" as top 1\n"
     ]
    },
    {
     "data": {
      "application/vnd.jupyter.widget-view+json": {
       "model_id": "fb00b1ad5bc040a0b415004531a8ae4c",
       "version_major": 2,
       "version_minor": 0
      },
      "text/plain": [
       "Validating: 0it [00:00, ?it/s]"
      ]
     },
     "metadata": {},
     "output_type": "display_data"
    },
    {
     "name": "stderr",
     "output_type": "stream",
     "text": [
      "Epoch 13, global step 15063: val_mse reached 1153364393984.00000 (best 1153364393984.00000), saving model to \"/mnt/c/Users/natra/Documents/Education/UChicago/NLP/n2c2-track2-nlp-uchicago/output/sl_linear_bc/version_20220315-100633/checkpoints/epoch=13-val_mse=1153364393984.00.ckpt\" as top 1\n"
     ]
    },
    {
     "data": {
      "application/vnd.jupyter.widget-view+json": {
       "model_id": "795d09c8fa204a789cad2b72f040e4c3",
       "version_major": 2,
       "version_minor": 0
      },
      "text/plain": [
       "Validating: 0it [00:00, ?it/s]"
      ]
     },
     "metadata": {},
     "output_type": "display_data"
    },
    {
     "name": "stderr",
     "output_type": "stream",
     "text": [
      "Epoch 14, global step 16139: val_mse reached 1152677707776.00000 (best 1152677707776.00000), saving model to \"/mnt/c/Users/natra/Documents/Education/UChicago/NLP/n2c2-track2-nlp-uchicago/output/sl_linear_bc/version_20220315-100633/checkpoints/epoch=14-val_mse=1152677707776.00.ckpt\" as top 1\n"
     ]
    },
    {
     "data": {
      "application/vnd.jupyter.widget-view+json": {
       "model_id": "10b2e0fccdfe4c649fc61e4b1fc455c0",
       "version_major": 2,
       "version_minor": 0
      },
      "text/plain": [
       "Validating: 0it [00:00, ?it/s]"
      ]
     },
     "metadata": {},
     "output_type": "display_data"
    },
    {
     "name": "stderr",
     "output_type": "stream",
     "text": [
      "Epoch 15, global step 17215: val_mse reached 1152141623296.00000 (best 1152141623296.00000), saving model to \"/mnt/c/Users/natra/Documents/Education/UChicago/NLP/n2c2-track2-nlp-uchicago/output/sl_linear_bc/version_20220315-100633/checkpoints/epoch=15-val_mse=1152141623296.00.ckpt\" as top 1\n"
     ]
    },
    {
     "data": {
      "application/vnd.jupyter.widget-view+json": {
       "model_id": "2b48954ee07c4bf7bd372c56e4295a4c",
       "version_major": 2,
       "version_minor": 0
      },
      "text/plain": [
       "Validating: 0it [00:00, ?it/s]"
      ]
     },
     "metadata": {},
     "output_type": "display_data"
    },
    {
     "name": "stderr",
     "output_type": "stream",
     "text": [
      "Epoch 16, global step 18291: val_mse reached 1152137560064.00000 (best 1152137560064.00000), saving model to \"/mnt/c/Users/natra/Documents/Education/UChicago/NLP/n2c2-track2-nlp-uchicago/output/sl_linear_bc/version_20220315-100633/checkpoints/epoch=16-val_mse=1152137560064.00.ckpt\" as top 1\n"
     ]
    },
    {
     "data": {
      "application/vnd.jupyter.widget-view+json": {
       "model_id": "3acacc2aa6d14b8f812c2697fd22ec97",
       "version_major": 2,
       "version_minor": 0
      },
      "text/plain": [
       "Validating: 0it [00:00, ?it/s]"
      ]
     },
     "metadata": {},
     "output_type": "display_data"
    },
    {
     "name": "stderr",
     "output_type": "stream",
     "text": [
      "Epoch 17, global step 19367: val_mse reached 1151101435904.00000 (best 1151101435904.00000), saving model to \"/mnt/c/Users/natra/Documents/Education/UChicago/NLP/n2c2-track2-nlp-uchicago/output/sl_linear_bc/version_20220315-100633/checkpoints/epoch=17-val_mse=1151101435904.00.ckpt\" as top 1\n"
     ]
    },
    {
     "data": {
      "application/vnd.jupyter.widget-view+json": {
       "model_id": "97fe2d1c819a45be8d1c4d4d01015252",
       "version_major": 2,
       "version_minor": 0
      },
      "text/plain": [
       "Validating: 0it [00:00, ?it/s]"
      ]
     },
     "metadata": {},
     "output_type": "display_data"
    },
    {
     "name": "stderr",
     "output_type": "stream",
     "text": [
      "Epoch 18, global step 20443: val_mse reached 1150642290688.00000 (best 1150642290688.00000), saving model to \"/mnt/c/Users/natra/Documents/Education/UChicago/NLP/n2c2-track2-nlp-uchicago/output/sl_linear_bc/version_20220315-100633/checkpoints/epoch=18-val_mse=1150642290688.00.ckpt\" as top 1\n"
     ]
    },
    {
     "data": {
      "application/vnd.jupyter.widget-view+json": {
       "model_id": "1484516aec9d4e1aa9783db4e071f7a9",
       "version_major": 2,
       "version_minor": 0
      },
      "text/plain": [
       "Validating: 0it [00:00, ?it/s]"
      ]
     },
     "metadata": {},
     "output_type": "display_data"
    },
    {
     "name": "stderr",
     "output_type": "stream",
     "text": [
      "Epoch 19, global step 21519: val_mse reached 1150314348544.00000 (best 1150314348544.00000), saving model to \"/mnt/c/Users/natra/Documents/Education/UChicago/NLP/n2c2-track2-nlp-uchicago/output/sl_linear_bc/version_20220315-100633/checkpoints/epoch=19-val_mse=1150314348544.00.ckpt\" as top 1\n",
      "2022-03-15 10:15:07 - INFO - __main__ - Copy best model from /mnt/c/Users/natra/Documents/Education/UChicago/NLP/n2c2-track2-nlp-uchicago/output/sl_linear_bc/version_20220315-100633/checkpoints/epoch=19-val_mse=1150314348544.00.ckpt to output/sl_linear_bc/version_20220315-100633/checkpoints/best_model.ckpt.\n",
      "LOCAL_RANK: 0 - CUDA_VISIBLE_DEVICES: [0]\n",
      "2022-03-15 10:15:08 - INFO - __main__ - Loading dev features and labels from data/dev_bc_512_features.npz and data/dev_stay_len_labels.npz\n"
     ]
    },
    {
     "name": "stdout",
     "output_type": "stream",
     "text": [
      "features shape: (11473, 764)\n",
      "labels shape: (11473,)\n"
     ]
    },
    {
     "data": {
      "application/vnd.jupyter.widget-view+json": {
       "model_id": "ccba4a4540c941bd9c7f310f6e89c1e3",
       "version_major": 2,
       "version_minor": 0
      },
      "text/plain": [
       "Validating: 0it [00:00, ?it/s]"
      ]
     },
     "metadata": {},
     "output_type": "display_data"
    },
    {
     "name": "stderr",
     "output_type": "stream",
     "text": [
      "LOCAL_RANK: 0 - CUDA_VISIBLE_DEVICES: [0]\n"
     ]
    },
    {
     "name": "stdout",
     "output_type": "stream",
     "text": [
      "--------------------------------------------------------------------------------\n",
      "DATALOADER:0 VALIDATE RESULTS\n",
      "{'val_loss': 1150314348544.0,\n",
      " 'val_mae': 607641.625,\n",
      " 'val_mape': 2.4327030181884766,\n",
      " 'val_mse': 1150314348544.0,\n",
      " 'val_r2': 2.2510368824005127}\n",
      "--------------------------------------------------------------------------------\n"
     ]
    },
    {
     "name": "stderr",
     "output_type": "stream",
     "text": [
      "2022-03-15 10:15:13 - INFO - __main__ - Loading test features and labels from data/test_bc_512_features.npz and data/test_stay_len_labels.npz\n"
     ]
    },
    {
     "name": "stdout",
     "output_type": "stream",
     "text": [
      "features shape: (11473, 764)\n",
      "labels shape: (11473,)\n"
     ]
    },
    {
     "data": {
      "application/vnd.jupyter.widget-view+json": {
       "model_id": "05dccfc594954ce9891ac288291dba5e",
       "version_major": 2,
       "version_minor": 0
      },
      "text/plain": [
       "Testing: 0it [00:00, ?it/s]"
      ]
     },
     "metadata": {},
     "output_type": "display_data"
    },
    {
     "name": "stdout",
     "output_type": "stream",
     "text": [
      "--------------------------------------------------------------------------------\n",
      "DATALOADER:0 TEST RESULTS\n",
      "{'test_loss': 1082034028544.0,\n",
      " 'test_mae': 611502.8125,\n",
      " 'test_mape': 2.2351739406585693,\n",
      " 'test_mse': 1082034028544.0,\n",
      " 'test_r2': 2.181267738342285}\n",
      "--------------------------------------------------------------------------------\n",
      "Validation MSE on the best model:  1150314348544.0000\n",
      "Validation R2 on the best model:  2.2510\n",
      "Test MSE on the best model:  1082034028544.0000\n",
      "Test R2 on the best model:  2.1813\n"
     ]
    }
   ],
   "source": [
    "logging.basicConfig(format=\"%(asctime)s - %(levelname)s - %(name)s - %(message)s\",\n",
    "                    datefmt=\"%Y-%m-%d %H:%M:%S\",\n",
    "                    level=logging.INFO)\n",
    "logger = logging.getLogger(__name__)\n",
    "\n",
    "# Load hyperparameters\n",
    "parser = ArgumentParser()\n",
    "parser = FeatureBasedRegressionModule.add_model_specific_args(parser)\n",
    "\n",
    "# NOTE: You should replace `unigram_binary` in the assignment statement of `args_str =...`\n",
    "# with whatever feature that you are experimented with.\n",
    "# You can also configure other options listed in the method of add_model_specific_args of\n",
    "# the pytorch-lightning model `FeatureBasedBinaryClassificationLModule`.\n",
    "args_str = (\"--feature_name bc_512 --max_epochs 20 --label_name stay_len \"\n",
    "            \"--output_dir output/sl_linear_bc --optimizer adam --do_train --do_predict \"\n",
    "            )\n",
    "\n",
    "args = parser.parse_args(args_str.split())\n",
    "\n",
    "# If output_dir not provided, a folder is generated\n",
    "if args.output_dir is None:\n",
    "    args.output_dir = str(\n",
    "        Path('output').joinpath(\n",
    "            f\"{args.task}_{datetime.now().strftime('%Y%m%d-%H%M%S')}\"))\n",
    "Path(args.output_dir).mkdir(parents=True, exist_ok=True)\n",
    "\n",
    "print(f\"Parsed arguments: {args}\")\n",
    "\n",
    "training_out_bc_20 = generic_train(args=args,\n",
    "                                model_class=FeatureBasedRegressionModule)"
   ]
  },
  {
   "cell_type": "markdown",
   "metadata": {},
   "source": [
    "#### Only structured data, no BERT-derived embeddings"
   ]
  },
  {
   "cell_type": "code",
   "execution_count": 16,
   "metadata": {},
   "outputs": [
    {
     "name": "stderr",
     "output_type": "stream",
     "text": [
      "Global seed set to 42\n",
      "GPU available: True, used: True\n",
      "TPU available: False, using: 0 TPU cores\n",
      "IPU available: False, using: 0 IPUs\n",
      "LOCAL_RANK: 0 - CUDA_VISIBLE_DEVICES: [0]\n",
      "\n",
      "  | Name  | Type                        | Params\n",
      "------------------------------------------------------\n",
      "0 | model | LinearRegressionModel       | 253   \n",
      "1 | mse   | MeanSquaredError            | 0     \n",
      "2 | mape  | MeanAbsolutePercentageError | 0     \n",
      "3 | mae   | MeanAbsoluteError           | 0     \n",
      "4 | r2    | R2Score                     | 0     \n",
      "------------------------------------------------------\n",
      "253       Trainable params\n",
      "0         Non-trainable params\n",
      "253       Total params\n",
      "0.001     Total estimated model params size (MB)\n"
     ]
    },
    {
     "name": "stdout",
     "output_type": "stream",
     "text": [
      "Parsed arguments: Namespace(vocab_filename=None, optimizer='adam', learning_rate=0.001, l2_regularization=False, max_epochs=20, train_batch_size=32, eval_batch_size=32, seed=42, do_train=True, do_predict=True, data_dir='data', output_dir='output/sl_linear_nobert', gpus=1, num_workers=8, feature_name='nobert', label_name='stay_len', task='featurebinarycls')\n"
     ]
    },
    {
     "data": {
      "application/vnd.jupyter.widget-view+json": {
       "model_id": "ad9ceae9568f419aa703ea7ce5aff666",
       "version_major": 2,
       "version_minor": 0
      },
      "text/plain": [
       "Validation sanity check: 0it [00:00, ?it/s]"
      ]
     },
     "metadata": {},
     "output_type": "display_data"
    },
    {
     "name": "stderr",
     "output_type": "stream",
     "text": [
      "2022-03-15 11:00:53 - INFO - __main__ - Loading dev features and labels from data/dev_nobert_features.npz and data/dev_stay_len_labels.npz\n"
     ]
    },
    {
     "name": "stdout",
     "output_type": "stream",
     "text": [
      "features shape: (11473, 252)\n",
      "labels shape: (11473,)\n"
     ]
    },
    {
     "name": "stderr",
     "output_type": "stream",
     "text": [
      "Global seed set to 42\n",
      "2022-03-15 11:00:53 - INFO - __main__ - Loading train features and labels from data/train_nobert_features.npz and data/train_stay_len_labels.npz\n"
     ]
    },
    {
     "name": "stdout",
     "output_type": "stream",
     "text": [
      "features shape: (34416, 252)\n",
      "labels shape: (34416,)\n"
     ]
    },
    {
     "data": {
      "application/vnd.jupyter.widget-view+json": {
       "model_id": "e1bb19a0a02d4429a35ac573840dbe56",
       "version_major": 2,
       "version_minor": 0
      },
      "text/plain": [
       "Training: 0it [00:00, ?it/s]"
      ]
     },
     "metadata": {},
     "output_type": "display_data"
    },
    {
     "data": {
      "application/vnd.jupyter.widget-view+json": {
       "model_id": "369355fcf4fa492186dc2dc970302668",
       "version_major": 2,
       "version_minor": 0
      },
      "text/plain": [
       "Validating: 0it [00:00, ?it/s]"
      ]
     },
     "metadata": {},
     "output_type": "display_data"
    },
    {
     "name": "stderr",
     "output_type": "stream",
     "text": [
      "Epoch 0, global step 1075: val_mse reached 1625649577984.00000 (best 1625649577984.00000), saving model to \"/mnt/c/Users/natra/Documents/Education/UChicago/NLP/n2c2-track2-nlp-uchicago/output/sl_linear_nobert/version_20220315-110053/checkpoints/epoch=0-val_mse=1625649577984.00.ckpt\" as top 1\n"
     ]
    },
    {
     "data": {
      "application/vnd.jupyter.widget-view+json": {
       "model_id": "396e3c7e5d164a918028100a6295c65c",
       "version_major": 2,
       "version_minor": 0
      },
      "text/plain": [
       "Validating: 0it [00:00, ?it/s]"
      ]
     },
     "metadata": {},
     "output_type": "display_data"
    },
    {
     "name": "stderr",
     "output_type": "stream",
     "text": [
      "Epoch 1, global step 2151: val_mse reached 1403139522560.00000 (best 1403139522560.00000), saving model to \"/mnt/c/Users/natra/Documents/Education/UChicago/NLP/n2c2-track2-nlp-uchicago/output/sl_linear_nobert/version_20220315-110053/checkpoints/epoch=1-val_mse=1403139522560.00.ckpt\" as top 1\n"
     ]
    },
    {
     "data": {
      "application/vnd.jupyter.widget-view+json": {
       "model_id": "6307c74342004d8d9d94c23af53d884c",
       "version_major": 2,
       "version_minor": 0
      },
      "text/plain": [
       "Validating: 0it [00:00, ?it/s]"
      ]
     },
     "metadata": {},
     "output_type": "display_data"
    },
    {
     "name": "stderr",
     "output_type": "stream",
     "text": [
      "Epoch 2, global step 3227: val_mse reached 1286447955968.00000 (best 1286447955968.00000), saving model to \"/mnt/c/Users/natra/Documents/Education/UChicago/NLP/n2c2-track2-nlp-uchicago/output/sl_linear_nobert/version_20220315-110053/checkpoints/epoch=2-val_mse=1286447955968.00.ckpt\" as top 1\n"
     ]
    },
    {
     "data": {
      "application/vnd.jupyter.widget-view+json": {
       "model_id": "4f076480b1274d15b7da09451eeac22e",
       "version_major": 2,
       "version_minor": 0
      },
      "text/plain": [
       "Validating: 0it [00:00, ?it/s]"
      ]
     },
     "metadata": {},
     "output_type": "display_data"
    },
    {
     "name": "stderr",
     "output_type": "stream",
     "text": [
      "Epoch 3, global step 4303: val_mse reached 1238182133760.00000 (best 1238182133760.00000), saving model to \"/mnt/c/Users/natra/Documents/Education/UChicago/NLP/n2c2-track2-nlp-uchicago/output/sl_linear_nobert/version_20220315-110053/checkpoints/epoch=3-val_mse=1238182133760.00.ckpt\" as top 1\n"
     ]
    },
    {
     "data": {
      "application/vnd.jupyter.widget-view+json": {
       "model_id": "ae2d7f3fddeb40e7bd03a2f838066ec6",
       "version_major": 2,
       "version_minor": 0
      },
      "text/plain": [
       "Validating: 0it [00:00, ?it/s]"
      ]
     },
     "metadata": {},
     "output_type": "display_data"
    },
    {
     "name": "stderr",
     "output_type": "stream",
     "text": [
      "Epoch 4, global step 5379: val_mse reached 1224583675904.00000 (best 1224583675904.00000), saving model to \"/mnt/c/Users/natra/Documents/Education/UChicago/NLP/n2c2-track2-nlp-uchicago/output/sl_linear_nobert/version_20220315-110053/checkpoints/epoch=4-val_mse=1224583675904.00.ckpt\" as top 1\n"
     ]
    },
    {
     "data": {
      "application/vnd.jupyter.widget-view+json": {
       "model_id": "5299195da4d24475bc8bc9897ed2964a",
       "version_major": 2,
       "version_minor": 0
      },
      "text/plain": [
       "Validating: 0it [00:00, ?it/s]"
      ]
     },
     "metadata": {},
     "output_type": "display_data"
    },
    {
     "name": "stderr",
     "output_type": "stream",
     "text": [
      "Epoch 5, global step 6455: val_mse reached 1223072940032.00000 (best 1223072940032.00000), saving model to \"/mnt/c/Users/natra/Documents/Education/UChicago/NLP/n2c2-track2-nlp-uchicago/output/sl_linear_nobert/version_20220315-110053/checkpoints/epoch=5-val_mse=1223072940032.00.ckpt\" as top 1\n"
     ]
    },
    {
     "data": {
      "application/vnd.jupyter.widget-view+json": {
       "model_id": "5ec5c33d3db7406da017b1750b70899b",
       "version_major": 2,
       "version_minor": 0
      },
      "text/plain": [
       "Validating: 0it [00:00, ?it/s]"
      ]
     },
     "metadata": {},
     "output_type": "display_data"
    },
    {
     "name": "stderr",
     "output_type": "stream",
     "text": [
      "Epoch 6, global step 7531: val_mse was not in top 1\n"
     ]
    },
    {
     "data": {
      "application/vnd.jupyter.widget-view+json": {
       "model_id": "c92e7046d8064f2db4c7999c296fdb22",
       "version_major": 2,
       "version_minor": 0
      },
      "text/plain": [
       "Validating: 0it [00:00, ?it/s]"
      ]
     },
     "metadata": {},
     "output_type": "display_data"
    },
    {
     "name": "stderr",
     "output_type": "stream",
     "text": [
      "Epoch 7, global step 8607: val_mse was not in top 1\n"
     ]
    },
    {
     "data": {
      "application/vnd.jupyter.widget-view+json": {
       "model_id": "634251532c034a60b828c5e01a04b14b",
       "version_major": 2,
       "version_minor": 0
      },
      "text/plain": [
       "Validating: 0it [00:00, ?it/s]"
      ]
     },
     "metadata": {},
     "output_type": "display_data"
    },
    {
     "name": "stderr",
     "output_type": "stream",
     "text": [
      "Epoch 8, global step 9683: val_mse was not in top 1\n"
     ]
    },
    {
     "data": {
      "application/vnd.jupyter.widget-view+json": {
       "model_id": "59cd80803770433ca80f034dd27caef3",
       "version_major": 2,
       "version_minor": 0
      },
      "text/plain": [
       "Validating: 0it [00:00, ?it/s]"
      ]
     },
     "metadata": {},
     "output_type": "display_data"
    },
    {
     "name": "stderr",
     "output_type": "stream",
     "text": [
      "Epoch 9, global step 10759: val_mse was not in top 1\n"
     ]
    },
    {
     "data": {
      "application/vnd.jupyter.widget-view+json": {
       "model_id": "d218364ed3144dcea993c2ebea6fdac7",
       "version_major": 2,
       "version_minor": 0
      },
      "text/plain": [
       "Validating: 0it [00:00, ?it/s]"
      ]
     },
     "metadata": {},
     "output_type": "display_data"
    },
    {
     "name": "stderr",
     "output_type": "stream",
     "text": [
      "Epoch 10, global step 11835: val_mse was not in top 1\n"
     ]
    },
    {
     "data": {
      "application/vnd.jupyter.widget-view+json": {
       "model_id": "db469e3dd63c4ad8ad44686b74163f1e",
       "version_major": 2,
       "version_minor": 0
      },
      "text/plain": [
       "Validating: 0it [00:00, ?it/s]"
      ]
     },
     "metadata": {},
     "output_type": "display_data"
    },
    {
     "name": "stderr",
     "output_type": "stream",
     "text": [
      "Epoch 11, global step 12911: val_mse was not in top 1\n"
     ]
    },
    {
     "data": {
      "application/vnd.jupyter.widget-view+json": {
       "model_id": "0fbfb86c768247d9a6e484328dffe7f6",
       "version_major": 2,
       "version_minor": 0
      },
      "text/plain": [
       "Validating: 0it [00:00, ?it/s]"
      ]
     },
     "metadata": {},
     "output_type": "display_data"
    },
    {
     "name": "stderr",
     "output_type": "stream",
     "text": [
      "Epoch 12, global step 13987: val_mse was not in top 1\n"
     ]
    },
    {
     "data": {
      "application/vnd.jupyter.widget-view+json": {
       "model_id": "c024c009db2c41d68fd6d1c1a7a1420a",
       "version_major": 2,
       "version_minor": 0
      },
      "text/plain": [
       "Validating: 0it [00:00, ?it/s]"
      ]
     },
     "metadata": {},
     "output_type": "display_data"
    },
    {
     "name": "stderr",
     "output_type": "stream",
     "text": [
      "Epoch 13, global step 15063: val_mse was not in top 1\n"
     ]
    },
    {
     "data": {
      "application/vnd.jupyter.widget-view+json": {
       "model_id": "d76d024e66844af8819c932f4069e39c",
       "version_major": 2,
       "version_minor": 0
      },
      "text/plain": [
       "Validating: 0it [00:00, ?it/s]"
      ]
     },
     "metadata": {},
     "output_type": "display_data"
    },
    {
     "name": "stderr",
     "output_type": "stream",
     "text": [
      "Epoch 14, global step 16139: val_mse was not in top 1\n"
     ]
    },
    {
     "data": {
      "application/vnd.jupyter.widget-view+json": {
       "model_id": "e10ee891e33c4ca3936244b9673eb8bb",
       "version_major": 2,
       "version_minor": 0
      },
      "text/plain": [
       "Validating: 0it [00:00, ?it/s]"
      ]
     },
     "metadata": {},
     "output_type": "display_data"
    },
    {
     "name": "stderr",
     "output_type": "stream",
     "text": [
      "Epoch 15, global step 17215: val_mse was not in top 1\n"
     ]
    },
    {
     "data": {
      "application/vnd.jupyter.widget-view+json": {
       "model_id": "b9cf99849d53413db8700bc6863526de",
       "version_major": 2,
       "version_minor": 0
      },
      "text/plain": [
       "Validating: 0it [00:00, ?it/s]"
      ]
     },
     "metadata": {},
     "output_type": "display_data"
    },
    {
     "name": "stderr",
     "output_type": "stream",
     "text": [
      "Epoch 16, global step 18291: val_mse was not in top 1\n"
     ]
    },
    {
     "data": {
      "application/vnd.jupyter.widget-view+json": {
       "model_id": "bdc13667714042a9af6e20a1f0a5b449",
       "version_major": 2,
       "version_minor": 0
      },
      "text/plain": [
       "Validating: 0it [00:00, ?it/s]"
      ]
     },
     "metadata": {},
     "output_type": "display_data"
    },
    {
     "name": "stderr",
     "output_type": "stream",
     "text": [
      "Epoch 17, global step 19367: val_mse was not in top 1\n"
     ]
    },
    {
     "data": {
      "application/vnd.jupyter.widget-view+json": {
       "model_id": "5a993cf875524b4899011694aa0265e5",
       "version_major": 2,
       "version_minor": 0
      },
      "text/plain": [
       "Validating: 0it [00:00, ?it/s]"
      ]
     },
     "metadata": {},
     "output_type": "display_data"
    },
    {
     "name": "stderr",
     "output_type": "stream",
     "text": [
      "Epoch 18, global step 20443: val_mse was not in top 1\n"
     ]
    },
    {
     "data": {
      "application/vnd.jupyter.widget-view+json": {
       "model_id": "b0e7a446c1fa4d69b7a226eea3d3dbb6",
       "version_major": 2,
       "version_minor": 0
      },
      "text/plain": [
       "Validating: 0it [00:00, ?it/s]"
      ]
     },
     "metadata": {},
     "output_type": "display_data"
    },
    {
     "name": "stderr",
     "output_type": "stream",
     "text": [
      "Epoch 19, global step 21519: val_mse was not in top 1\n",
      "2022-03-15 11:06:10 - INFO - __main__ - Copy best model from /mnt/c/Users/natra/Documents/Education/UChicago/NLP/n2c2-track2-nlp-uchicago/output/sl_linear_nobert/version_20220315-110053/checkpoints/epoch=5-val_mse=1223072940032.00.ckpt to output/sl_linear_nobert/version_20220315-110053/checkpoints/best_model.ckpt.\n",
      "LOCAL_RANK: 0 - CUDA_VISIBLE_DEVICES: [0]\n",
      "2022-03-15 11:06:10 - INFO - __main__ - Loading dev features and labels from data/dev_nobert_features.npz and data/dev_stay_len_labels.npz\n"
     ]
    },
    {
     "name": "stdout",
     "output_type": "stream",
     "text": [
      "features shape: (11473, 252)\n",
      "labels shape: (11473,)\n"
     ]
    },
    {
     "data": {
      "application/vnd.jupyter.widget-view+json": {
       "model_id": "b6976da006514dc7aabcd62f98a2aa51",
       "version_major": 2,
       "version_minor": 0
      },
      "text/plain": [
       "Validating: 0it [00:00, ?it/s]"
      ]
     },
     "metadata": {},
     "output_type": "display_data"
    },
    {
     "name": "stderr",
     "output_type": "stream",
     "text": [
      "LOCAL_RANK: 0 - CUDA_VISIBLE_DEVICES: [0]\n",
      "2022-03-15 11:06:13 - INFO - __main__ - Loading test features and labels from data/test_nobert_features.npz and data/test_stay_len_labels.npz\n"
     ]
    },
    {
     "name": "stdout",
     "output_type": "stream",
     "text": [
      "--------------------------------------------------------------------------------\n",
      "DATALOADER:0 VALIDATE RESULTS\n",
      "{'val_loss': 1223072940032.0,\n",
      " 'val_mae': 630249.625,\n",
      " 'val_mape': 2.4313151836395264,\n",
      " 'val_mse': 1223072940032.0,\n",
      " 'val_r2': 2.328740119934082}\n",
      "--------------------------------------------------------------------------------\n",
      "features shape: (11473, 252)\n",
      "labels shape: (11473,)\n"
     ]
    },
    {
     "data": {
      "application/vnd.jupyter.widget-view+json": {
       "model_id": "568710090d144333aa82522c53686c91",
       "version_major": 2,
       "version_minor": 0
      },
      "text/plain": [
       "Testing: 0it [00:00, ?it/s]"
      ]
     },
     "metadata": {},
     "output_type": "display_data"
    },
    {
     "name": "stdout",
     "output_type": "stream",
     "text": [
      "--------------------------------------------------------------------------------\n",
      "DATALOADER:0 TEST RESULTS\n",
      "{'test_loss': 1151872270336.0,\n",
      " 'test_mae': 634577.75,\n",
      " 'test_mape': 2.230215549468994,\n",
      " 'test_mse': 1151872270336.0,\n",
      " 'test_r2': 2.2515149116516113}\n",
      "--------------------------------------------------------------------------------\n",
      "Validation MSE on the best model:  1223072940032.0000\n",
      "Validation R2 on the best model:  2.3287\n",
      "Test MSE on the best model:  1151872270336.0000\n",
      "Test R2 on the best model:  2.2515\n"
     ]
    }
   ],
   "source": [
    "logging.basicConfig(format=\"%(asctime)s - %(levelname)s - %(name)s - %(message)s\",\n",
    "                    datefmt=\"%Y-%m-%d %H:%M:%S\",\n",
    "                    level=logging.INFO)\n",
    "logger = logging.getLogger(__name__)\n",
    "\n",
    "# Load hyperparameters\n",
    "parser = ArgumentParser()\n",
    "parser = FeatureBasedRegressionModule.add_model_specific_args(parser)\n",
    "\n",
    "# NOTE: You should replace `unigram_binary` in the assignment statement of `args_str =...`\n",
    "# with whatever feature that you are experimented with.\n",
    "# You can also configure other options listed in the method of add_model_specific_args of\n",
    "# the pytorch-lightning model `FeatureBasedBinaryClassificationLModule`.\n",
    "args_str = (\"--feature_name nobert --max_epochs 20 --label_name stay_len \"\n",
    "            \"--output_dir output/sl_linear_nobert --optimizer adam --do_train --do_predict \"\n",
    "            )\n",
    "\n",
    "args = parser.parse_args(args_str.split())\n",
    "\n",
    "# If output_dir not provided, a folder is generated\n",
    "if args.output_dir is None:\n",
    "    args.output_dir = str(\n",
    "        Path('output').joinpath(\n",
    "            f\"{args.task}_{datetime.now().strftime('%Y%m%d-%H%M%S')}\"))\n",
    "Path(args.output_dir).mkdir(parents=True, exist_ok=True)\n",
    "\n",
    "print(f\"Parsed arguments: {args}\")\n",
    "\n",
    "training_out_nobert_20 = generic_train(args=args,\n",
    "                                model_class=FeatureBasedRegressionModule)"
   ]
  },
  {
   "cell_type": "code",
   "execution_count": 17,
   "metadata": {},
   "outputs": [
    {
     "name": "stderr",
     "output_type": "stream",
     "text": [
      "Global seed set to 42\n",
      "GPU available: True, used: True\n",
      "TPU available: False, using: 0 TPU cores\n",
      "IPU available: False, using: 0 IPUs\n"
     ]
    },
    {
     "name": "stdout",
     "output_type": "stream",
     "text": [
      "Parsed arguments: Namespace(vocab_filename=None, optimizer='adam', learning_rate=0.001, l2_regularization='True', max_epochs=20, train_batch_size=32, eval_batch_size=32, seed=42, do_train=True, do_predict=True, data_dir='data', output_dir='output/sl_linear_nobert', gpus=1, num_workers=8, feature_name='nobert', label_name='stay_len', task='featurebinarycls')\n"
     ]
    },
    {
     "name": "stderr",
     "output_type": "stream",
     "text": [
      "LOCAL_RANK: 0 - CUDA_VISIBLE_DEVICES: [0]\n",
      "\n",
      "  | Name  | Type                        | Params\n",
      "------------------------------------------------------\n",
      "0 | model | LinearRegressionModel       | 253   \n",
      "1 | mse   | MeanSquaredError            | 0     \n",
      "2 | mape  | MeanAbsolutePercentageError | 0     \n",
      "3 | mae   | MeanAbsoluteError           | 0     \n",
      "4 | r2    | R2Score                     | 0     \n",
      "------------------------------------------------------\n",
      "253       Trainable params\n",
      "0         Non-trainable params\n",
      "253       Total params\n",
      "0.001     Total estimated model params size (MB)\n"
     ]
    },
    {
     "data": {
      "application/vnd.jupyter.widget-view+json": {
       "model_id": "147d135b0723496093856eec38e80eac",
       "version_major": 2,
       "version_minor": 0
      },
      "text/plain": [
       "Validation sanity check: 0it [00:00, ?it/s]"
      ]
     },
     "metadata": {},
     "output_type": "display_data"
    },
    {
     "name": "stderr",
     "output_type": "stream",
     "text": [
      "2022-03-15 12:38:25 - INFO - __main__ - Loading dev features and labels from data/dev_nobert_features.npz and data/dev_stay_len_labels.npz\n"
     ]
    },
    {
     "name": "stdout",
     "output_type": "stream",
     "text": [
      "features shape: (11473, 252)\n",
      "labels shape: (11473,)\n"
     ]
    },
    {
     "name": "stderr",
     "output_type": "stream",
     "text": [
      "Global seed set to 42\n",
      "2022-03-15 12:38:26 - INFO - __main__ - Loading train features and labels from data/train_nobert_features.npz and data/train_stay_len_labels.npz\n"
     ]
    },
    {
     "name": "stdout",
     "output_type": "stream",
     "text": [
      "features shape: (34416, 252)\n",
      "labels shape: (34416,)\n"
     ]
    },
    {
     "data": {
      "application/vnd.jupyter.widget-view+json": {
       "model_id": "cedfc02364bd46d78598560742eddb67",
       "version_major": 2,
       "version_minor": 0
      },
      "text/plain": [
       "Training: 0it [00:00, ?it/s]"
      ]
     },
     "metadata": {},
     "output_type": "display_data"
    },
    {
     "data": {
      "application/vnd.jupyter.widget-view+json": {
       "model_id": "a0b7094540f749c195aa8fd277b17f6c",
       "version_major": 2,
       "version_minor": 0
      },
      "text/plain": [
       "Validating: 0it [00:00, ?it/s]"
      ]
     },
     "metadata": {},
     "output_type": "display_data"
    },
    {
     "name": "stderr",
     "output_type": "stream",
     "text": [
      "Epoch 0, global step 1075: val_mse reached 1625649577984.00000 (best 1625649577984.00000), saving model to \"/mnt/c/Users/natra/Documents/Education/UChicago/NLP/n2c2-track2-nlp-uchicago/output/sl_linear_nobert/version_20220315-123825/checkpoints/epoch=0-val_mse=1625649577984.00.ckpt\" as top 1\n"
     ]
    },
    {
     "data": {
      "application/vnd.jupyter.widget-view+json": {
       "model_id": "23c3b1afa10d4ea89c12178aeb194671",
       "version_major": 2,
       "version_minor": 0
      },
      "text/plain": [
       "Validating: 0it [00:00, ?it/s]"
      ]
     },
     "metadata": {},
     "output_type": "display_data"
    },
    {
     "name": "stderr",
     "output_type": "stream",
     "text": [
      "Epoch 1, global step 2151: val_mse reached 1403139522560.00000 (best 1403139522560.00000), saving model to \"/mnt/c/Users/natra/Documents/Education/UChicago/NLP/n2c2-track2-nlp-uchicago/output/sl_linear_nobert/version_20220315-123825/checkpoints/epoch=1-val_mse=1403139522560.00.ckpt\" as top 1\n"
     ]
    },
    {
     "data": {
      "application/vnd.jupyter.widget-view+json": {
       "model_id": "869cb4e7f72944d69f2e41bbb15b1d6c",
       "version_major": 2,
       "version_minor": 0
      },
      "text/plain": [
       "Validating: 0it [00:00, ?it/s]"
      ]
     },
     "metadata": {},
     "output_type": "display_data"
    },
    {
     "name": "stderr",
     "output_type": "stream",
     "text": [
      "Epoch 2, global step 3227: val_mse reached 1286447955968.00000 (best 1286447955968.00000), saving model to \"/mnt/c/Users/natra/Documents/Education/UChicago/NLP/n2c2-track2-nlp-uchicago/output/sl_linear_nobert/version_20220315-123825/checkpoints/epoch=2-val_mse=1286447955968.00.ckpt\" as top 1\n"
     ]
    },
    {
     "data": {
      "application/vnd.jupyter.widget-view+json": {
       "model_id": "3e3c4f5cc33845478bf22aa01492643c",
       "version_major": 2,
       "version_minor": 0
      },
      "text/plain": [
       "Validating: 0it [00:00, ?it/s]"
      ]
     },
     "metadata": {},
     "output_type": "display_data"
    },
    {
     "name": "stderr",
     "output_type": "stream",
     "text": [
      "Epoch 3, global step 4303: val_mse reached 1238182133760.00000 (best 1238182133760.00000), saving model to \"/mnt/c/Users/natra/Documents/Education/UChicago/NLP/n2c2-track2-nlp-uchicago/output/sl_linear_nobert/version_20220315-123825/checkpoints/epoch=3-val_mse=1238182133760.00.ckpt\" as top 1\n"
     ]
    },
    {
     "data": {
      "application/vnd.jupyter.widget-view+json": {
       "model_id": "1d62dbaa076b4574a0a70d92a06c74fe",
       "version_major": 2,
       "version_minor": 0
      },
      "text/plain": [
       "Validating: 0it [00:00, ?it/s]"
      ]
     },
     "metadata": {},
     "output_type": "display_data"
    },
    {
     "name": "stderr",
     "output_type": "stream",
     "text": [
      "Epoch 4, global step 5379: val_mse reached 1224583675904.00000 (best 1224583675904.00000), saving model to \"/mnt/c/Users/natra/Documents/Education/UChicago/NLP/n2c2-track2-nlp-uchicago/output/sl_linear_nobert/version_20220315-123825/checkpoints/epoch=4-val_mse=1224583675904.00.ckpt\" as top 1\n"
     ]
    },
    {
     "data": {
      "application/vnd.jupyter.widget-view+json": {
       "model_id": "d91f4dff44c04050ad12620045a1c31c",
       "version_major": 2,
       "version_minor": 0
      },
      "text/plain": [
       "Validating: 0it [00:00, ?it/s]"
      ]
     },
     "metadata": {},
     "output_type": "display_data"
    },
    {
     "name": "stderr",
     "output_type": "stream",
     "text": [
      "Epoch 5, global step 6455: val_mse reached 1223072940032.00000 (best 1223072940032.00000), saving model to \"/mnt/c/Users/natra/Documents/Education/UChicago/NLP/n2c2-track2-nlp-uchicago/output/sl_linear_nobert/version_20220315-123825/checkpoints/epoch=5-val_mse=1223072940032.00.ckpt\" as top 1\n"
     ]
    },
    {
     "data": {
      "application/vnd.jupyter.widget-view+json": {
       "model_id": "917c86886a074df4afce4b0eac172319",
       "version_major": 2,
       "version_minor": 0
      },
      "text/plain": [
       "Validating: 0it [00:00, ?it/s]"
      ]
     },
     "metadata": {},
     "output_type": "display_data"
    },
    {
     "name": "stderr",
     "output_type": "stream",
     "text": [
      "Epoch 6, global step 7531: val_mse was not in top 1\n"
     ]
    },
    {
     "data": {
      "application/vnd.jupyter.widget-view+json": {
       "model_id": "b10f76e664d840aebb766b7e441f8ef8",
       "version_major": 2,
       "version_minor": 0
      },
      "text/plain": [
       "Validating: 0it [00:00, ?it/s]"
      ]
     },
     "metadata": {},
     "output_type": "display_data"
    },
    {
     "name": "stderr",
     "output_type": "stream",
     "text": [
      "Epoch 7, global step 8607: val_mse was not in top 1\n"
     ]
    },
    {
     "data": {
      "application/vnd.jupyter.widget-view+json": {
       "model_id": "01cc3d9e263140f6b846a836e2e9e504",
       "version_major": 2,
       "version_minor": 0
      },
      "text/plain": [
       "Validating: 0it [00:00, ?it/s]"
      ]
     },
     "metadata": {},
     "output_type": "display_data"
    },
    {
     "name": "stderr",
     "output_type": "stream",
     "text": [
      "Epoch 8, global step 9683: val_mse was not in top 1\n"
     ]
    },
    {
     "data": {
      "application/vnd.jupyter.widget-view+json": {
       "model_id": "2c0e862827784dca86493de6965f449b",
       "version_major": 2,
       "version_minor": 0
      },
      "text/plain": [
       "Validating: 0it [00:00, ?it/s]"
      ]
     },
     "metadata": {},
     "output_type": "display_data"
    },
    {
     "name": "stderr",
     "output_type": "stream",
     "text": [
      "Epoch 9, global step 10759: val_mse was not in top 1\n"
     ]
    },
    {
     "data": {
      "application/vnd.jupyter.widget-view+json": {
       "model_id": "37e3df19bfdf4125b492987c41aced5d",
       "version_major": 2,
       "version_minor": 0
      },
      "text/plain": [
       "Validating: 0it [00:00, ?it/s]"
      ]
     },
     "metadata": {},
     "output_type": "display_data"
    },
    {
     "name": "stderr",
     "output_type": "stream",
     "text": [
      "Epoch 10, global step 11835: val_mse was not in top 1\n"
     ]
    },
    {
     "data": {
      "application/vnd.jupyter.widget-view+json": {
       "model_id": "e6d2732f7fba4e45bfeeed8c2419a04c",
       "version_major": 2,
       "version_minor": 0
      },
      "text/plain": [
       "Validating: 0it [00:00, ?it/s]"
      ]
     },
     "metadata": {},
     "output_type": "display_data"
    },
    {
     "name": "stderr",
     "output_type": "stream",
     "text": [
      "Epoch 11, global step 12911: val_mse was not in top 1\n"
     ]
    },
    {
     "data": {
      "application/vnd.jupyter.widget-view+json": {
       "model_id": "6d6703b6896c45c79cdfb6d54ac5deb0",
       "version_major": 2,
       "version_minor": 0
      },
      "text/plain": [
       "Validating: 0it [00:00, ?it/s]"
      ]
     },
     "metadata": {},
     "output_type": "display_data"
    },
    {
     "name": "stderr",
     "output_type": "stream",
     "text": [
      "Epoch 12, global step 13987: val_mse was not in top 1\n"
     ]
    },
    {
     "data": {
      "application/vnd.jupyter.widget-view+json": {
       "model_id": "d36e9a171fc449e49b2b6e2f5d01cc2d",
       "version_major": 2,
       "version_minor": 0
      },
      "text/plain": [
       "Validating: 0it [00:00, ?it/s]"
      ]
     },
     "metadata": {},
     "output_type": "display_data"
    },
    {
     "name": "stderr",
     "output_type": "stream",
     "text": [
      "Epoch 13, global step 15063: val_mse was not in top 1\n"
     ]
    },
    {
     "data": {
      "application/vnd.jupyter.widget-view+json": {
       "model_id": "3bbe3f6458b942fd9bdcf9dd8c4582c9",
       "version_major": 2,
       "version_minor": 0
      },
      "text/plain": [
       "Validating: 0it [00:00, ?it/s]"
      ]
     },
     "metadata": {},
     "output_type": "display_data"
    },
    {
     "name": "stderr",
     "output_type": "stream",
     "text": [
      "Epoch 14, global step 16139: val_mse was not in top 1\n"
     ]
    },
    {
     "data": {
      "application/vnd.jupyter.widget-view+json": {
       "model_id": "4a54b1a9eb7d4462a70ce56842e650f5",
       "version_major": 2,
       "version_minor": 0
      },
      "text/plain": [
       "Validating: 0it [00:00, ?it/s]"
      ]
     },
     "metadata": {},
     "output_type": "display_data"
    },
    {
     "name": "stderr",
     "output_type": "stream",
     "text": [
      "Epoch 15, global step 17215: val_mse was not in top 1\n"
     ]
    },
    {
     "data": {
      "application/vnd.jupyter.widget-view+json": {
       "model_id": "68f74e3f65174fcfbee66f31226be601",
       "version_major": 2,
       "version_minor": 0
      },
      "text/plain": [
       "Validating: 0it [00:00, ?it/s]"
      ]
     },
     "metadata": {},
     "output_type": "display_data"
    },
    {
     "name": "stderr",
     "output_type": "stream",
     "text": [
      "Epoch 16, global step 18291: val_mse was not in top 1\n"
     ]
    },
    {
     "data": {
      "application/vnd.jupyter.widget-view+json": {
       "model_id": "703a2224851a487d897e5c7fc99f9996",
       "version_major": 2,
       "version_minor": 0
      },
      "text/plain": [
       "Validating: 0it [00:00, ?it/s]"
      ]
     },
     "metadata": {},
     "output_type": "display_data"
    },
    {
     "name": "stderr",
     "output_type": "stream",
     "text": [
      "Epoch 17, global step 19367: val_mse was not in top 1\n"
     ]
    },
    {
     "data": {
      "application/vnd.jupyter.widget-view+json": {
       "model_id": "1797eeb5d5d443999843af228c582b94",
       "version_major": 2,
       "version_minor": 0
      },
      "text/plain": [
       "Validating: 0it [00:00, ?it/s]"
      ]
     },
     "metadata": {},
     "output_type": "display_data"
    },
    {
     "name": "stderr",
     "output_type": "stream",
     "text": [
      "Epoch 18, global step 20443: val_mse was not in top 1\n"
     ]
    },
    {
     "data": {
      "application/vnd.jupyter.widget-view+json": {
       "model_id": "4b67b3f372b8406f897e1abc5d446462",
       "version_major": 2,
       "version_minor": 0
      },
      "text/plain": [
       "Validating: 0it [00:00, ?it/s]"
      ]
     },
     "metadata": {},
     "output_type": "display_data"
    },
    {
     "name": "stderr",
     "output_type": "stream",
     "text": [
      "Epoch 19, global step 21519: val_mse was not in top 1\n",
      "2022-03-15 12:43:14 - INFO - __main__ - Copy best model from /mnt/c/Users/natra/Documents/Education/UChicago/NLP/n2c2-track2-nlp-uchicago/output/sl_linear_nobert/version_20220315-123825/checkpoints/epoch=5-val_mse=1223072940032.00.ckpt to output/sl_linear_nobert/version_20220315-123825/checkpoints/best_model.ckpt.\n",
      "LOCAL_RANK: 0 - CUDA_VISIBLE_DEVICES: [0]\n",
      "2022-03-15 12:43:14 - INFO - __main__ - Loading dev features and labels from data/dev_nobert_features.npz and data/dev_stay_len_labels.npz\n"
     ]
    },
    {
     "name": "stdout",
     "output_type": "stream",
     "text": [
      "features shape: (11473, 252)\n",
      "labels shape: (11473,)\n"
     ]
    },
    {
     "data": {
      "application/vnd.jupyter.widget-view+json": {
       "model_id": "e9fddf5b1e284f4b88ed0b9c7352acda",
       "version_major": 2,
       "version_minor": 0
      },
      "text/plain": [
       "Validating: 0it [00:00, ?it/s]"
      ]
     },
     "metadata": {},
     "output_type": "display_data"
    },
    {
     "name": "stderr",
     "output_type": "stream",
     "text": [
      "LOCAL_RANK: 0 - CUDA_VISIBLE_DEVICES: [0]\n",
      "2022-03-15 12:43:17 - INFO - __main__ - Loading test features and labels from data/test_nobert_features.npz and data/test_stay_len_labels.npz\n"
     ]
    },
    {
     "name": "stdout",
     "output_type": "stream",
     "text": [
      "--------------------------------------------------------------------------------\n",
      "DATALOADER:0 VALIDATE RESULTS\n",
      "{'val_loss': 1223072940032.0,\n",
      " 'val_mae': 630249.625,\n",
      " 'val_mape': 2.4313151836395264,\n",
      " 'val_mse': 1223072940032.0,\n",
      " 'val_r2': 2.328740119934082}\n",
      "--------------------------------------------------------------------------------\n",
      "features shape: (11473, 252)\n",
      "labels shape: (11473,)\n"
     ]
    },
    {
     "data": {
      "application/vnd.jupyter.widget-view+json": {
       "model_id": "4b24c191cf3848349dda4fa65e1543df",
       "version_major": 2,
       "version_minor": 0
      },
      "text/plain": [
       "Testing: 0it [00:00, ?it/s]"
      ]
     },
     "metadata": {},
     "output_type": "display_data"
    },
    {
     "name": "stdout",
     "output_type": "stream",
     "text": [
      "--------------------------------------------------------------------------------\n",
      "DATALOADER:0 TEST RESULTS\n",
      "{'test_loss': 1151872270336.0,\n",
      " 'test_mae': 634577.75,\n",
      " 'test_mape': 2.230215549468994,\n",
      " 'test_mse': 1151872270336.0,\n",
      " 'test_r2': 2.2515149116516113}\n",
      "--------------------------------------------------------------------------------\n",
      "Validation MSE on the best model:  1223072940032.0000\n",
      "Validation R2 on the best model:  2.3287\n",
      "Test MSE on the best model:  1151872270336.0000\n",
      "Test R2 on the best model:  2.2515\n"
     ]
    }
   ],
   "source": [
    "logging.basicConfig(format=\"%(asctime)s - %(levelname)s - %(name)s - %(message)s\",\n",
    "                    datefmt=\"%Y-%m-%d %H:%M:%S\",\n",
    "                    level=logging.INFO)\n",
    "logger = logging.getLogger(__name__)\n",
    "\n",
    "# Load hyperparameters\n",
    "parser = ArgumentParser()\n",
    "parser = FeatureBasedRegressionModule.add_model_specific_args(parser)\n",
    "\n",
    "# NOTE: You should replace `unigram_binary` in the assignment statement of `args_str =...`\n",
    "# with whatever feature that you are experimented with.\n",
    "# You can also configure other options listed in the method of add_model_specific_args of\n",
    "# the pytorch-lightning model `FeatureBasedBinaryClassificationLModule`.\n",
    "args_str = (\"--feature_name nobert --max_epochs 20 --label_name stay_len \"\n",
    "            \"--output_dir output/sl_linear_nobert --optimizer adam --do_train --do_predict \"\n",
    "            \"--l2_regularization True\")\n",
    "\n",
    "args = parser.parse_args(args_str.split())\n",
    "\n",
    "# If output_dir not provided, a folder is generated\n",
    "if args.output_dir is None:\n",
    "    args.output_dir = str(\n",
    "        Path('output').joinpath(\n",
    "            f\"{args.task}_{datetime.now().strftime('%Y%m%d-%H%M%S')}\"))\n",
    "Path(args.output_dir).mkdir(parents=True, exist_ok=True)\n",
    "\n",
    "print(f\"Parsed arguments: {args}\")\n",
    "\n",
    "training_out_nobert_20_l2 = generic_train(args=args,\n",
    "                                model_class=FeatureBasedRegressionModule)"
   ]
  },
  {
   "cell_type": "markdown",
   "metadata": {},
   "source": [
    "### References\n",
    "\n",
    "[Linear Regression with PyTorch](https://towardsdatascience.com/linear-regression-with-pytorch-eb6dedead817)  \n"
   ]
  },
  {
   "cell_type": "markdown",
   "metadata": {},
   "source": []
  }
 ],
 "metadata": {
  "interpreter": {
   "hash": "40f6b8985ae3d3af9736205d555f7ff87522357a9f5bdb6e88eda9160976b228"
  },
  "kernelspec": {
   "display_name": "Python 3.9.10 64-bit ('venv': venv)",
   "language": "python",
   "name": "python3"
  },
  "language_info": {
   "codemirror_mode": {
    "name": "ipython",
    "version": 3
   },
   "file_extension": ".py",
   "mimetype": "text/x-python",
   "name": "python",
   "nbconvert_exporter": "python",
   "pygments_lexer": "ipython3",
   "version": "3.9.10"
  },
  "orig_nbformat": 4
 },
 "nbformat": 4,
 "nbformat_minor": 2
}
