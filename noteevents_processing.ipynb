{
 "cells": [
  {
   "cell_type": "markdown",
   "metadata": {},
   "source": [
    "## Ingestion, Summary Exploration, and Processing of Notes Events records from MIMIC-III"
   ]
  },
  {
   "cell_type": "code",
   "execution_count": 1,
   "metadata": {},
   "outputs": [],
   "source": [
    "import pandas as pd\n",
    "import re\n",
    "import transformers as ppb\n",
    "import numpy as np\n",
    "from scipy import sparse"
   ]
  },
  {
   "cell_type": "code",
   "execution_count": 2,
   "metadata": {},
   "outputs": [],
   "source": [
    "DATA_DIR = \"./data\"\n",
    "notes_file = DATA_DIR + '/NOTEEVENTS.csv'"
   ]
  },
  {
   "cell_type": "markdown",
   "metadata": {},
   "source": [
    "### Creating Dataframe of Preferred Note per Hospital Visit"
   ]
  },
  {
   "cell_type": "code",
   "execution_count": 32,
   "metadata": {},
   "outputs": [
    {
     "name": "stderr",
     "output_type": "stream",
     "text": [
      "/home/npodpx/venv/lib/python3.9/site-packages/IPython/core/interactiveshell.py:3251: DtypeWarning: Columns (4,5) have mixed types.Specify dtype option on import or set low_memory=False.\n",
      "  exec(code_obj, self.user_global_ns, self.user_ns)\n"
     ]
    }
   ],
   "source": [
    "full_notes = pd.read_csv(notes_file)"
   ]
  },
  {
   "cell_type": "markdown",
   "metadata": {},
   "source": [
    "Confirm some notes don't have hospital stays associated (HADM_ID) and some don't have discharge or nursing notes:"
   ]
  },
  {
   "cell_type": "code",
   "execution_count": 33,
   "metadata": {},
   "outputs": [
    {
     "name": "stdout",
     "output_type": "stream",
     "text": [
      "(2083180, 11)\n"
     ]
    },
    {
     "data": {
      "text/plain": [
       "array(['Discharge summary', 'Echo', 'ECG', 'Nursing', 'Physician ',\n",
       "       'Rehab Services', 'Case Management ', 'Respiratory ', 'Nutrition',\n",
       "       'General', 'Social Work', 'Pharmacy', 'Consult', 'Radiology',\n",
       "       'Nursing/other'], dtype=object)"
      ]
     },
     "execution_count": 33,
     "metadata": {},
     "output_type": "execute_result"
    }
   ],
   "source": [
    "print(full_notes.shape)\n",
    "full_notes['CATEGORY'].unique()"
   ]
  },
  {
   "cell_type": "code",
   "execution_count": 34,
   "metadata": {},
   "outputs": [
    {
     "data": {
      "text/plain": [
       "(1851344, 11)"
      ]
     },
     "execution_count": 34,
     "metadata": {},
     "output_type": "execute_result"
    }
   ],
   "source": [
    "# only consider hospital stays\n",
    "notes_hospital = full_notes[full_notes['HADM_ID'].notna()]\n",
    "notes_hospital.shape"
   ]
  },
  {
   "cell_type": "code",
   "execution_count": 35,
   "metadata": {},
   "outputs": [
    {
     "name": "stdout",
     "output_type": "stream",
     "text": [
      "(58361, 3)\n"
     ]
    },
    {
     "data": {
      "text/html": [
       "<div>\n",
       "<style scoped>\n",
       "    .dataframe tbody tr th:only-of-type {\n",
       "        vertical-align: middle;\n",
       "    }\n",
       "\n",
       "    .dataframe tbody tr th {\n",
       "        vertical-align: top;\n",
       "    }\n",
       "\n",
       "    .dataframe thead th {\n",
       "        text-align: right;\n",
       "    }\n",
       "</style>\n",
       "<table border=\"1\" class=\"dataframe\">\n",
       "  <thead>\n",
       "    <tr style=\"text-align: right;\">\n",
       "      <th></th>\n",
       "      <th></th>\n",
       "      <th>TEXT_full</th>\n",
       "      <th>TEXT_discharge</th>\n",
       "      <th>TEXT</th>\n",
       "    </tr>\n",
       "    <tr>\n",
       "      <th>HADM_ID</th>\n",
       "      <th>SUBJECT_ID</th>\n",
       "      <th></th>\n",
       "      <th></th>\n",
       "      <th></th>\n",
       "    </tr>\n",
       "  </thead>\n",
       "  <tbody>\n",
       "    <tr>\n",
       "      <th>100017.0</th>\n",
       "      <th>16229</th>\n",
       "      <td>7</td>\n",
       "      <td>NaN</td>\n",
       "      <td>5.0</td>\n",
       "    </tr>\n",
       "    <tr>\n",
       "      <th>100023.0</th>\n",
       "      <th>1189</th>\n",
       "      <td>2</td>\n",
       "      <td>NaN</td>\n",
       "      <td>2.0</td>\n",
       "    </tr>\n",
       "    <tr>\n",
       "      <th>100033.0</th>\n",
       "      <th>26773</th>\n",
       "      <td>8</td>\n",
       "      <td>NaN</td>\n",
       "      <td>4.0</td>\n",
       "    </tr>\n",
       "    <tr>\n",
       "      <th>100052.0</th>\n",
       "      <th>17261</th>\n",
       "      <td>6</td>\n",
       "      <td>NaN</td>\n",
       "      <td>6.0</td>\n",
       "    </tr>\n",
       "    <tr>\n",
       "      <th>100055.0</th>\n",
       "      <th>1549</th>\n",
       "      <td>11</td>\n",
       "      <td>NaN</td>\n",
       "      <td>9.0</td>\n",
       "    </tr>\n",
       "    <tr>\n",
       "      <th>...</th>\n",
       "      <th>...</th>\n",
       "      <td>...</td>\n",
       "      <td>...</td>\n",
       "      <td>...</td>\n",
       "    </tr>\n",
       "    <tr>\n",
       "      <th>199810.0</th>\n",
       "      <th>2977</th>\n",
       "      <td>6</td>\n",
       "      <td>NaN</td>\n",
       "      <td>1.0</td>\n",
       "    </tr>\n",
       "    <tr>\n",
       "      <th>199832.0</th>\n",
       "      <th>23992</th>\n",
       "      <td>2</td>\n",
       "      <td>NaN</td>\n",
       "      <td>2.0</td>\n",
       "    </tr>\n",
       "    <tr>\n",
       "      <th>199924.0</th>\n",
       "      <th>31368</th>\n",
       "      <td>5</td>\n",
       "      <td>NaN</td>\n",
       "      <td>3.0</td>\n",
       "    </tr>\n",
       "    <tr>\n",
       "      <th>199954.0</th>\n",
       "      <th>13446</th>\n",
       "      <td>2</td>\n",
       "      <td>NaN</td>\n",
       "      <td>2.0</td>\n",
       "    </tr>\n",
       "    <tr>\n",
       "      <th>199973.0</th>\n",
       "      <th>15400</th>\n",
       "      <td>3</td>\n",
       "      <td>NaN</td>\n",
       "      <td>3.0</td>\n",
       "    </tr>\n",
       "  </tbody>\n",
       "</table>\n",
       "<p>5635 rows × 3 columns</p>\n",
       "</div>"
      ],
      "text/plain": [
       "                     TEXT_full  TEXT_discharge  TEXT\n",
       "HADM_ID  SUBJECT_ID                                 \n",
       "100017.0 16229               7             NaN   5.0\n",
       "100023.0 1189                2             NaN   2.0\n",
       "100033.0 26773               8             NaN   4.0\n",
       "100052.0 17261               6             NaN   6.0\n",
       "100055.0 1549               11             NaN   9.0\n",
       "...                        ...             ...   ...\n",
       "199810.0 2977                6             NaN   1.0\n",
       "199832.0 23992               2             NaN   2.0\n",
       "199924.0 31368               5             NaN   3.0\n",
       "199954.0 13446               2             NaN   2.0\n",
       "199973.0 15400               3             NaN   3.0\n",
       "\n",
       "[5635 rows x 3 columns]"
      ]
     },
     "execution_count": 35,
     "metadata": {},
     "output_type": "execute_result"
    }
   ],
   "source": [
    "# compare all notes with nursing and discharge\n",
    "num_records = notes_hospital.loc[:,('HADM_ID','SUBJECT_ID','TEXT')].groupby(['HADM_ID','SUBJECT_ID']).count()\n",
    "num_discharge_summaries = notes_hospital[notes_hospital['CATEGORY']=='Discharge summary'].loc[:,('HADM_ID','SUBJECT_ID','TEXT')].groupby(['HADM_ID','SUBJECT_ID']).count()\n",
    "num_nursing_summaries = notes_hospital[(notes_hospital['CATEGORY']=='Nursing/other') | \\\n",
    "    (notes_hospital['CATEGORY']=='Nursing') ].loc[:,('HADM_ID','SUBJECT_ID','TEXT')].\\\n",
    "        groupby(['HADM_ID','SUBJECT_ID']).count()\n",
    "\n",
    "joined = num_records.join(num_discharge_summaries,lsuffix='_full',rsuffix='_discharge')\n",
    "joined = joined.join(num_nursing_summaries)\n",
    "print(joined.shape)\n",
    "# records without discharge summaries\n",
    "joined[joined['TEXT_discharge'].isna()]"
   ]
  },
  {
   "cell_type": "code",
   "execution_count": 39,
   "metadata": {},
   "outputs": [
    {
     "data": {
      "text/html": [
       "<div>\n",
       "<style scoped>\n",
       "    .dataframe tbody tr th:only-of-type {\n",
       "        vertical-align: middle;\n",
       "    }\n",
       "\n",
       "    .dataframe tbody tr th {\n",
       "        vertical-align: top;\n",
       "    }\n",
       "\n",
       "    .dataframe thead th {\n",
       "        text-align: right;\n",
       "    }\n",
       "</style>\n",
       "<table border=\"1\" class=\"dataframe\">\n",
       "  <thead>\n",
       "    <tr style=\"text-align: right;\">\n",
       "      <th></th>\n",
       "      <th></th>\n",
       "      <th>TEXT_full</th>\n",
       "      <th>TEXT_discharge</th>\n",
       "      <th>TEXT</th>\n",
       "    </tr>\n",
       "    <tr>\n",
       "      <th>HADM_ID</th>\n",
       "      <th>SUBJECT_ID</th>\n",
       "      <th></th>\n",
       "      <th></th>\n",
       "      <th></th>\n",
       "    </tr>\n",
       "  </thead>\n",
       "  <tbody>\n",
       "    <tr>\n",
       "      <th>135336.0</th>\n",
       "      <th>23503</th>\n",
       "      <td>58</td>\n",
       "      <td>NaN</td>\n",
       "      <td>NaN</td>\n",
       "    </tr>\n",
       "    <tr>\n",
       "      <th>179559.0</th>\n",
       "      <th>98481</th>\n",
       "      <td>46</td>\n",
       "      <td>NaN</td>\n",
       "      <td>NaN</td>\n",
       "    </tr>\n",
       "    <tr>\n",
       "      <th>115146.0</th>\n",
       "      <th>60104</th>\n",
       "      <td>36</td>\n",
       "      <td>NaN</td>\n",
       "      <td>NaN</td>\n",
       "    </tr>\n",
       "    <tr>\n",
       "      <th>122807.0</th>\n",
       "      <th>68426</th>\n",
       "      <td>28</td>\n",
       "      <td>NaN</td>\n",
       "      <td>NaN</td>\n",
       "    </tr>\n",
       "    <tr>\n",
       "      <th>183620.0</th>\n",
       "      <th>71206</th>\n",
       "      <td>15</td>\n",
       "      <td>NaN</td>\n",
       "      <td>NaN</td>\n",
       "    </tr>\n",
       "    <tr>\n",
       "      <th>...</th>\n",
       "      <th>...</th>\n",
       "      <td>...</td>\n",
       "      <td>...</td>\n",
       "      <td>...</td>\n",
       "    </tr>\n",
       "    <tr>\n",
       "      <th>147875.0</th>\n",
       "      <th>30913</th>\n",
       "      <td>1</td>\n",
       "      <td>NaN</td>\n",
       "      <td>NaN</td>\n",
       "    </tr>\n",
       "    <tr>\n",
       "      <th>151247.0</th>\n",
       "      <th>21125</th>\n",
       "      <td>1</td>\n",
       "      <td>NaN</td>\n",
       "      <td>NaN</td>\n",
       "    </tr>\n",
       "    <tr>\n",
       "      <th>151545.0</th>\n",
       "      <th>40464</th>\n",
       "      <td>1</td>\n",
       "      <td>NaN</td>\n",
       "      <td>NaN</td>\n",
       "    </tr>\n",
       "    <tr>\n",
       "      <th>151720.0</th>\n",
       "      <th>87144</th>\n",
       "      <td>1</td>\n",
       "      <td>NaN</td>\n",
       "      <td>NaN</td>\n",
       "    </tr>\n",
       "    <tr>\n",
       "      <th>199510.0</th>\n",
       "      <th>76476</th>\n",
       "      <td>1</td>\n",
       "      <td>NaN</td>\n",
       "      <td>NaN</td>\n",
       "    </tr>\n",
       "  </tbody>\n",
       "</table>\n",
       "<p>311 rows × 3 columns</p>\n",
       "</div>"
      ],
      "text/plain": [
       "                     TEXT_full  TEXT_discharge  TEXT\n",
       "HADM_ID  SUBJECT_ID                                 \n",
       "135336.0 23503              58             NaN   NaN\n",
       "179559.0 98481              46             NaN   NaN\n",
       "115146.0 60104              36             NaN   NaN\n",
       "122807.0 68426              28             NaN   NaN\n",
       "183620.0 71206              15             NaN   NaN\n",
       "...                        ...             ...   ...\n",
       "147875.0 30913               1             NaN   NaN\n",
       "151247.0 21125               1             NaN   NaN\n",
       "151545.0 40464               1             NaN   NaN\n",
       "151720.0 87144               1             NaN   NaN\n",
       "199510.0 76476               1             NaN   NaN\n",
       "\n",
       "[311 rows x 3 columns]"
      ]
     },
     "execution_count": 39,
     "metadata": {},
     "output_type": "execute_result"
    }
   ],
   "source": [
    "# records without discharge or nursing notes\n",
    "joined[(joined['TEXT'].isna()) & joined['TEXT_discharge'].isna()].sort_values('TEXT_full',ascending=False)"
   ]
  },
  {
   "cell_type": "code",
   "execution_count": 38,
   "metadata": {},
   "outputs": [
    {
     "data": {
      "text/html": [
       "<div>\n",
       "<style scoped>\n",
       "    .dataframe tbody tr th:only-of-type {\n",
       "        vertical-align: middle;\n",
       "    }\n",
       "\n",
       "    .dataframe tbody tr th {\n",
       "        vertical-align: top;\n",
       "    }\n",
       "\n",
       "    .dataframe thead th {\n",
       "        text-align: right;\n",
       "    }\n",
       "</style>\n",
       "<table border=\"1\" class=\"dataframe\">\n",
       "  <thead>\n",
       "    <tr style=\"text-align: right;\">\n",
       "      <th></th>\n",
       "      <th>ROW_ID</th>\n",
       "      <th>SUBJECT_ID</th>\n",
       "      <th>HADM_ID</th>\n",
       "      <th>CHARTDATE</th>\n",
       "      <th>CHARTTIME</th>\n",
       "      <th>STORETIME</th>\n",
       "      <th>CATEGORY</th>\n",
       "      <th>DESCRIPTION</th>\n",
       "      <th>CGID</th>\n",
       "      <th>ISERROR</th>\n",
       "      <th>TEXT</th>\n",
       "    </tr>\n",
       "  </thead>\n",
       "  <tbody>\n",
       "    <tr>\n",
       "      <th>298974</th>\n",
       "      <td>310484</td>\n",
       "      <td>63762</td>\n",
       "      <td>198006.0</td>\n",
       "      <td>2181-12-04</td>\n",
       "      <td>NaN</td>\n",
       "      <td>NaN</td>\n",
       "      <td>ECG</td>\n",
       "      <td>Report</td>\n",
       "      <td>NaN</td>\n",
       "      <td>NaN</td>\n",
       "      <td>The patient is now in atrial fibrillation at a...</td>\n",
       "    </tr>\n",
       "    <tr>\n",
       "      <th>299190</th>\n",
       "      <td>310485</td>\n",
       "      <td>63762</td>\n",
       "      <td>198006.0</td>\n",
       "      <td>2181-12-03</td>\n",
       "      <td>NaN</td>\n",
       "      <td>NaN</td>\n",
       "      <td>ECG</td>\n",
       "      <td>Report</td>\n",
       "      <td>NaN</td>\n",
       "      <td>NaN</td>\n",
       "      <td>Sinus tachycardia, rate 135.  Marked left axis...</td>\n",
       "    </tr>\n",
       "    <tr>\n",
       "      <th>490158</th>\n",
       "      <td>496561</td>\n",
       "      <td>63762</td>\n",
       "      <td>198006.0</td>\n",
       "      <td>2181-12-04</td>\n",
       "      <td>2181-12-04 07:23:00</td>\n",
       "      <td>2181-12-04 09:24:13</td>\n",
       "      <td>General</td>\n",
       "      <td>Generic Note</td>\n",
       "      <td>20818.0</td>\n",
       "      <td>NaN</td>\n",
       "      <td>TITLE:  Nursing Admit-Event note/Expiration.\\n...</td>\n",
       "    </tr>\n",
       "    <tr>\n",
       "      <th>490159</th>\n",
       "      <td>496562</td>\n",
       "      <td>63762</td>\n",
       "      <td>198006.0</td>\n",
       "      <td>2181-12-04</td>\n",
       "      <td>2181-12-04 07:23:00</td>\n",
       "      <td>2181-12-04 09:38:41</td>\n",
       "      <td>General</td>\n",
       "      <td>Generic Note</td>\n",
       "      <td>20818.0</td>\n",
       "      <td>NaN</td>\n",
       "      <td>TITLE:  Nursing Admit-Event note/Expiration.\\n...</td>\n",
       "    </tr>\n",
       "    <tr>\n",
       "      <th>490306</th>\n",
       "      <td>496550</td>\n",
       "      <td>63762</td>\n",
       "      <td>198006.0</td>\n",
       "      <td>2181-12-04</td>\n",
       "      <td>2181-12-04 08:41:00</td>\n",
       "      <td>2181-12-04 08:41:29</td>\n",
       "      <td>Physician</td>\n",
       "      <td>Physician Resident Admission Note</td>\n",
       "      <td>17640.0</td>\n",
       "      <td>NaN</td>\n",
       "      <td>Chief Complaint:  s/p PEA arrest, Beta Blocker...</td>\n",
       "    </tr>\n",
       "    <tr>\n",
       "      <th>490307</th>\n",
       "      <td>496551</td>\n",
       "      <td>63762</td>\n",
       "      <td>198006.0</td>\n",
       "      <td>2181-12-04</td>\n",
       "      <td>2181-12-04 08:52:00</td>\n",
       "      <td>2181-12-04 08:52:26</td>\n",
       "      <td>General</td>\n",
       "      <td>ICU Event Note</td>\n",
       "      <td>17640.0</td>\n",
       "      <td>NaN</td>\n",
       "      <td>Clinician:  Resident\\n   With family at bedsid...</td>\n",
       "    </tr>\n",
       "    <tr>\n",
       "      <th>490447</th>\n",
       "      <td>496538</td>\n",
       "      <td>63762</td>\n",
       "      <td>198006.0</td>\n",
       "      <td>2181-12-04</td>\n",
       "      <td>2181-12-04 07:23:00</td>\n",
       "      <td>2181-12-04 07:23:38</td>\n",
       "      <td>General</td>\n",
       "      <td>Generic Note</td>\n",
       "      <td>15029.0</td>\n",
       "      <td>NaN</td>\n",
       "      <td>TITLE:  Nursing Admit-Event note/Expiration.\\n...</td>\n",
       "    </tr>\n",
       "    <tr>\n",
       "      <th>490547</th>\n",
       "      <td>496523</td>\n",
       "      <td>63762</td>\n",
       "      <td>198006.0</td>\n",
       "      <td>2181-12-04</td>\n",
       "      <td>2181-12-04 06:29:00</td>\n",
       "      <td>2181-12-04 06:29:15</td>\n",
       "      <td>General</td>\n",
       "      <td>ICU Event Note</td>\n",
       "      <td>17640.0</td>\n",
       "      <td>NaN</td>\n",
       "      <td>Clinician:  Resident\\n   I spoke with patient'...</td>\n",
       "    </tr>\n",
       "    <tr>\n",
       "      <th>490987</th>\n",
       "      <td>496507</td>\n",
       "      <td>63762</td>\n",
       "      <td>198006.0</td>\n",
       "      <td>2181-12-04</td>\n",
       "      <td>2181-12-04 05:34:00</td>\n",
       "      <td>2181-12-04 05:34:37</td>\n",
       "      <td>Physician</td>\n",
       "      <td>Cardiology Fellow Admission Note</td>\n",
       "      <td>21130.0</td>\n",
       "      <td>NaN</td>\n",
       "      <td>TITLE: CARDIOLOGY FELLOW CCU ADMISSION NOTE\\nP...</td>\n",
       "    </tr>\n",
       "    <tr>\n",
       "      <th>498774</th>\n",
       "      <td>496554</td>\n",
       "      <td>63762</td>\n",
       "      <td>198006.0</td>\n",
       "      <td>2181-12-04</td>\n",
       "      <td>2181-12-04 07:23:00</td>\n",
       "      <td>2181-12-04 09:04:35</td>\n",
       "      <td>General</td>\n",
       "      <td>Generic Note</td>\n",
       "      <td>20818.0</td>\n",
       "      <td>NaN</td>\n",
       "      <td>TITLE:  Nursing Admit-Event note/Expiration.\\n...</td>\n",
       "    </tr>\n",
       "  </tbody>\n",
       "</table>\n",
       "</div>"
      ],
      "text/plain": [
       "        ROW_ID  SUBJECT_ID   HADM_ID   CHARTDATE            CHARTTIME  \\\n",
       "298974  310484       63762  198006.0  2181-12-04                  NaN   \n",
       "299190  310485       63762  198006.0  2181-12-03                  NaN   \n",
       "490158  496561       63762  198006.0  2181-12-04  2181-12-04 07:23:00   \n",
       "490159  496562       63762  198006.0  2181-12-04  2181-12-04 07:23:00   \n",
       "490306  496550       63762  198006.0  2181-12-04  2181-12-04 08:41:00   \n",
       "490307  496551       63762  198006.0  2181-12-04  2181-12-04 08:52:00   \n",
       "490447  496538       63762  198006.0  2181-12-04  2181-12-04 07:23:00   \n",
       "490547  496523       63762  198006.0  2181-12-04  2181-12-04 06:29:00   \n",
       "490987  496507       63762  198006.0  2181-12-04  2181-12-04 05:34:00   \n",
       "498774  496554       63762  198006.0  2181-12-04  2181-12-04 07:23:00   \n",
       "\n",
       "                  STORETIME    CATEGORY                        DESCRIPTION  \\\n",
       "298974                  NaN         ECG                             Report   \n",
       "299190                  NaN         ECG                             Report   \n",
       "490158  2181-12-04 09:24:13     General                       Generic Note   \n",
       "490159  2181-12-04 09:38:41     General                       Generic Note   \n",
       "490306  2181-12-04 08:41:29  Physician   Physician Resident Admission Note   \n",
       "490307  2181-12-04 08:52:26     General                     ICU Event Note   \n",
       "490447  2181-12-04 07:23:38     General                       Generic Note   \n",
       "490547  2181-12-04 06:29:15     General                     ICU Event Note   \n",
       "490987  2181-12-04 05:34:37  Physician    Cardiology Fellow Admission Note   \n",
       "498774  2181-12-04 09:04:35     General                       Generic Note   \n",
       "\n",
       "           CGID  ISERROR                                               TEXT  \n",
       "298974      NaN      NaN  The patient is now in atrial fibrillation at a...  \n",
       "299190      NaN      NaN  Sinus tachycardia, rate 135.  Marked left axis...  \n",
       "490158  20818.0      NaN  TITLE:  Nursing Admit-Event note/Expiration.\\n...  \n",
       "490159  20818.0      NaN  TITLE:  Nursing Admit-Event note/Expiration.\\n...  \n",
       "490306  17640.0      NaN  Chief Complaint:  s/p PEA arrest, Beta Blocker...  \n",
       "490307  17640.0      NaN  Clinician:  Resident\\n   With family at bedsid...  \n",
       "490447  15029.0      NaN  TITLE:  Nursing Admit-Event note/Expiration.\\n...  \n",
       "490547  17640.0      NaN  Clinician:  Resident\\n   I spoke with patient'...  \n",
       "490987  21130.0      NaN  TITLE: CARDIOLOGY FELLOW CCU ADMISSION NOTE\\nP...  \n",
       "498774  20818.0      NaN  TITLE:  Nursing Admit-Event note/Expiration.\\n...  "
      ]
     },
     "execution_count": 38,
     "metadata": {},
     "output_type": "execute_result"
    }
   ],
   "source": [
    "# example visit with no nursing or discharge notes\n",
    "notes_hospital[notes_hospital['SUBJECT_ID']==63762]"
   ]
  },
  {
   "cell_type": "code",
   "execution_count": 40,
   "metadata": {},
   "outputs": [
    {
     "data": {
      "text/html": [
       "<div>\n",
       "<style scoped>\n",
       "    .dataframe tbody tr th:only-of-type {\n",
       "        vertical-align: middle;\n",
       "    }\n",
       "\n",
       "    .dataframe tbody tr th {\n",
       "        vertical-align: top;\n",
       "    }\n",
       "\n",
       "    .dataframe thead th {\n",
       "        text-align: right;\n",
       "    }\n",
       "</style>\n",
       "<table border=\"1\" class=\"dataframe\">\n",
       "  <thead>\n",
       "    <tr style=\"text-align: right;\">\n",
       "      <th></th>\n",
       "      <th></th>\n",
       "      <th>TEXT_full</th>\n",
       "      <th>TEXT_discharge</th>\n",
       "      <th>TEXT</th>\n",
       "    </tr>\n",
       "    <tr>\n",
       "      <th>HADM_ID</th>\n",
       "      <th>SUBJECT_ID</th>\n",
       "      <th></th>\n",
       "      <th></th>\n",
       "      <th></th>\n",
       "    </tr>\n",
       "  </thead>\n",
       "  <tbody>\n",
       "    <tr>\n",
       "      <th>100006.0</th>\n",
       "      <th>9895</th>\n",
       "      <td>22</td>\n",
       "      <td>2.0</td>\n",
       "      <td>14.0</td>\n",
       "    </tr>\n",
       "    <tr>\n",
       "      <th>100031.0</th>\n",
       "      <th>6892</th>\n",
       "      <td>22</td>\n",
       "      <td>2.0</td>\n",
       "      <td>14.0</td>\n",
       "    </tr>\n",
       "    <tr>\n",
       "      <th>100036.0</th>\n",
       "      <th>30078</th>\n",
       "      <td>21</td>\n",
       "      <td>2.0</td>\n",
       "      <td>5.0</td>\n",
       "    </tr>\n",
       "    <tr>\n",
       "      <th>100041.0</th>\n",
       "      <th>9588</th>\n",
       "      <td>9</td>\n",
       "      <td>2.0</td>\n",
       "      <td>4.0</td>\n",
       "    </tr>\n",
       "    <tr>\n",
       "      <th>100112.0</th>\n",
       "      <th>25418</th>\n",
       "      <td>9</td>\n",
       "      <td>2.0</td>\n",
       "      <td>3.0</td>\n",
       "    </tr>\n",
       "    <tr>\n",
       "      <th>...</th>\n",
       "      <th>...</th>\n",
       "      <td>...</td>\n",
       "      <td>...</td>\n",
       "      <td>...</td>\n",
       "    </tr>\n",
       "    <tr>\n",
       "      <th>199952.0</th>\n",
       "      <th>22711</th>\n",
       "      <td>50</td>\n",
       "      <td>2.0</td>\n",
       "      <td>3.0</td>\n",
       "    </tr>\n",
       "    <tr>\n",
       "      <th>199961.0</th>\n",
       "      <th>20620</th>\n",
       "      <td>19</td>\n",
       "      <td>2.0</td>\n",
       "      <td>11.0</td>\n",
       "    </tr>\n",
       "    <tr>\n",
       "      <th>199962.0</th>\n",
       "      <th>53283</th>\n",
       "      <td>6</td>\n",
       "      <td>4.0</td>\n",
       "      <td>NaN</td>\n",
       "    </tr>\n",
       "    <tr>\n",
       "      <th>199964.0</th>\n",
       "      <th>18356</th>\n",
       "      <td>26</td>\n",
       "      <td>2.0</td>\n",
       "      <td>20.0</td>\n",
       "    </tr>\n",
       "    <tr>\n",
       "      <th>199988.0</th>\n",
       "      <th>25780</th>\n",
       "      <td>23</td>\n",
       "      <td>2.0</td>\n",
       "      <td>4.0</td>\n",
       "    </tr>\n",
       "  </tbody>\n",
       "</table>\n",
       "<p>5720 rows × 3 columns</p>\n",
       "</div>"
      ],
      "text/plain": [
       "                     TEXT_full  TEXT_discharge  TEXT\n",
       "HADM_ID  SUBJECT_ID                                 \n",
       "100006.0 9895               22             2.0  14.0\n",
       "100031.0 6892               22             2.0  14.0\n",
       "100036.0 30078              21             2.0   5.0\n",
       "100041.0 9588                9             2.0   4.0\n",
       "100112.0 25418               9             2.0   3.0\n",
       "...                        ...             ...   ...\n",
       "199952.0 22711              50             2.0   3.0\n",
       "199961.0 20620              19             2.0  11.0\n",
       "199962.0 53283               6             4.0   NaN\n",
       "199964.0 18356              26             2.0  20.0\n",
       "199988.0 25780              23             2.0   4.0\n",
       "\n",
       "[5720 rows x 3 columns]"
      ]
     },
     "execution_count": 40,
     "metadata": {},
     "output_type": "execute_result"
    }
   ],
   "source": [
    "# confirm some individuals have more than one discharge note\n",
    "joined[joined['TEXT_discharge'] > 1]"
   ]
  },
  {
   "cell_type": "code",
   "execution_count": 42,
   "metadata": {},
   "outputs": [
    {
     "data": {
      "text/html": [
       "<div>\n",
       "<style scoped>\n",
       "    .dataframe tbody tr th:only-of-type {\n",
       "        vertical-align: middle;\n",
       "    }\n",
       "\n",
       "    .dataframe tbody tr th {\n",
       "        vertical-align: top;\n",
       "    }\n",
       "\n",
       "    .dataframe thead th {\n",
       "        text-align: right;\n",
       "    }\n",
       "</style>\n",
       "<table border=\"1\" class=\"dataframe\">\n",
       "  <thead>\n",
       "    <tr style=\"text-align: right;\">\n",
       "      <th></th>\n",
       "      <th>ROW_ID</th>\n",
       "      <th>SUBJECT_ID</th>\n",
       "      <th>HADM_ID</th>\n",
       "      <th>CHARTDATE</th>\n",
       "      <th>CHARTTIME</th>\n",
       "      <th>STORETIME</th>\n",
       "      <th>CATEGORY</th>\n",
       "      <th>DESCRIPTION</th>\n",
       "      <th>CGID</th>\n",
       "      <th>ISERROR</th>\n",
       "      <th>TEXT</th>\n",
       "    </tr>\n",
       "  </thead>\n",
       "  <tbody>\n",
       "    <tr>\n",
       "      <th>29215</th>\n",
       "      <td>40795</td>\n",
       "      <td>53283</td>\n",
       "      <td>199962.0</td>\n",
       "      <td>2118-07-24</td>\n",
       "      <td>NaN</td>\n",
       "      <td>NaN</td>\n",
       "      <td>Discharge summary</td>\n",
       "      <td>Report</td>\n",
       "      <td>NaN</td>\n",
       "      <td>NaN</td>\n",
       "      <td>Admission Date:  [**2118-7-16**]              ...</td>\n",
       "    </tr>\n",
       "    <tr>\n",
       "      <th>29216</th>\n",
       "      <td>40796</td>\n",
       "      <td>53283</td>\n",
       "      <td>199962.0</td>\n",
       "      <td>2118-07-28</td>\n",
       "      <td>NaN</td>\n",
       "      <td>NaN</td>\n",
       "      <td>Discharge summary</td>\n",
       "      <td>Report</td>\n",
       "      <td>NaN</td>\n",
       "      <td>NaN</td>\n",
       "      <td>Admission Date:  [**2118-7-26**]              ...</td>\n",
       "    </tr>\n",
       "    <tr>\n",
       "      <th>58214</th>\n",
       "      <td>58400</td>\n",
       "      <td>53283</td>\n",
       "      <td>199962.0</td>\n",
       "      <td>2118-07-24</td>\n",
       "      <td>NaN</td>\n",
       "      <td>NaN</td>\n",
       "      <td>Discharge summary</td>\n",
       "      <td>Addendum</td>\n",
       "      <td>NaN</td>\n",
       "      <td>NaN</td>\n",
       "      <td>Name:  [**Known lastname 14110**],[**Known fir...</td>\n",
       "    </tr>\n",
       "    <tr>\n",
       "      <th>58268</th>\n",
       "      <td>58391</td>\n",
       "      <td>53283</td>\n",
       "      <td>199962.0</td>\n",
       "      <td>2118-07-24</td>\n",
       "      <td>NaN</td>\n",
       "      <td>NaN</td>\n",
       "      <td>Discharge summary</td>\n",
       "      <td>Addendum</td>\n",
       "      <td>NaN</td>\n",
       "      <td>NaN</td>\n",
       "      <td>Name:  [**Known lastname 14110**],[**Known fir...</td>\n",
       "    </tr>\n",
       "    <tr>\n",
       "      <th>246064</th>\n",
       "      <td>247577</td>\n",
       "      <td>53283</td>\n",
       "      <td>199962.0</td>\n",
       "      <td>2118-07-27</td>\n",
       "      <td>NaN</td>\n",
       "      <td>NaN</td>\n",
       "      <td>ECG</td>\n",
       "      <td>Report</td>\n",
       "      <td>NaN</td>\n",
       "      <td>NaN</td>\n",
       "      <td>Normal sinus rhythm. Tracing is within normal ...</td>\n",
       "    </tr>\n",
       "    <tr>\n",
       "      <th>1173180</th>\n",
       "      <td>1201157</td>\n",
       "      <td>53283</td>\n",
       "      <td>199962.0</td>\n",
       "      <td>2118-07-26</td>\n",
       "      <td>2118-07-26 16:21:00</td>\n",
       "      <td>NaN</td>\n",
       "      <td>Radiology</td>\n",
       "      <td>R WRIST(3 + VIEWS) RIGHT</td>\n",
       "      <td>NaN</td>\n",
       "      <td>NaN</td>\n",
       "      <td>[**2118-7-26**] 4:21 PM\\n FOREARM (AP &amp; LAT) R...</td>\n",
       "    </tr>\n",
       "  </tbody>\n",
       "</table>\n",
       "</div>"
      ],
      "text/plain": [
       "          ROW_ID  SUBJECT_ID   HADM_ID   CHARTDATE            CHARTTIME  \\\n",
       "29215      40795       53283  199962.0  2118-07-24                  NaN   \n",
       "29216      40796       53283  199962.0  2118-07-28                  NaN   \n",
       "58214      58400       53283  199962.0  2118-07-24                  NaN   \n",
       "58268      58391       53283  199962.0  2118-07-24                  NaN   \n",
       "246064    247577       53283  199962.0  2118-07-27                  NaN   \n",
       "1173180  1201157       53283  199962.0  2118-07-26  2118-07-26 16:21:00   \n",
       "\n",
       "        STORETIME           CATEGORY               DESCRIPTION  CGID  ISERROR  \\\n",
       "29215         NaN  Discharge summary                    Report   NaN      NaN   \n",
       "29216         NaN  Discharge summary                    Report   NaN      NaN   \n",
       "58214         NaN  Discharge summary                  Addendum   NaN      NaN   \n",
       "58268         NaN  Discharge summary                  Addendum   NaN      NaN   \n",
       "246064        NaN                ECG                    Report   NaN      NaN   \n",
       "1173180       NaN          Radiology  R WRIST(3 + VIEWS) RIGHT   NaN      NaN   \n",
       "\n",
       "                                                      TEXT  \n",
       "29215    Admission Date:  [**2118-7-16**]              ...  \n",
       "29216    Admission Date:  [**2118-7-26**]              ...  \n",
       "58214    Name:  [**Known lastname 14110**],[**Known fir...  \n",
       "58268    Name:  [**Known lastname 14110**],[**Known fir...  \n",
       "246064   Normal sinus rhythm. Tracing is within normal ...  \n",
       "1173180  [**2118-7-26**] 4:21 PM\\n FOREARM (AP & LAT) R...  "
      ]
     },
     "execution_count": 42,
     "metadata": {},
     "output_type": "execute_result"
    }
   ],
   "source": [
    "# example person with more than one discharge\n",
    "notes_hospital[notes_hospital['HADM_ID']==199962]"
   ]
  },
  {
   "cell_type": "markdown",
   "metadata": {},
   "source": [
    "Select a single note per HADM_ID and SUBJECT_ID to use in predictive model. Choose according to the logic: Choose reports over addendums; if multiple reports, choose report with later CHARTDATE (or CHARTTIME or ROW_ID)."
   ]
  },
  {
   "cell_type": "code",
   "execution_count": 46,
   "metadata": {},
   "outputs": [
    {
     "name": "stderr",
     "output_type": "stream",
     "text": [
      "/tmp/ipykernel_26080/209090201.py:1: SettingWithCopyWarning: \n",
      "A value is trying to be set on a copy of a slice from a DataFrame.\n",
      "Try using .loc[row_indexer,col_indexer] = value instead\n",
      "\n",
      "See the caveats in the documentation: https://pandas.pydata.org/pandas-docs/stable/user_guide/indexing.html#returning-a-view-versus-a-copy\n",
      "  notes_hospital['CHARTDATE'] = pd.to_datetime(notes_hospital['CHARTDATE'])\n",
      "/tmp/ipykernel_26080/209090201.py:2: SettingWithCopyWarning: \n",
      "A value is trying to be set on a copy of a slice from a DataFrame.\n",
      "Try using .loc[row_indexer,col_indexer] = value instead\n",
      "\n",
      "See the caveats in the documentation: https://pandas.pydata.org/pandas-docs/stable/user_guide/indexing.html#returning-a-view-versus-a-copy\n",
      "  notes_hospital['CHARTTIME'] = pd.to_datetime(notes_hospital['CHARTTIME'])\n"
     ]
    }
   ],
   "source": [
    "notes_hospital['CHARTDATE'] = pd.to_datetime(notes_hospital['CHARTDATE'])\n",
    "notes_hospital['CHARTTIME'] = pd.to_datetime(notes_hospital['CHARTTIME'])"
   ]
  },
  {
   "cell_type": "code",
   "execution_count": 87,
   "metadata": {},
   "outputs": [
    {
     "name": "stdout",
     "output_type": "stream",
     "text": [
      "No Report Discharge Summaries - problem?\n",
      "HADM_ID missing report discharge: 180183.0\n",
      "Adding addendum.. \n",
      "No Report Discharge Summaries - problem?\n",
      "HADM_ID missing report discharge: 133672.0\n",
      "Adding addendum.. \n",
      "No Report Discharge Summaries - problem?\n",
      "HADM_ID missing report discharge: 174094.0\n",
      "Adding addendum.. \n",
      "No Report Discharge Summaries - problem?\n",
      "HADM_ID missing report discharge: 129192.0\n",
      "Adding addendum.. \n",
      "(58361, 6)\n"
     ]
    },
    {
     "data": {
      "text/html": [
       "<div>\n",
       "<style scoped>\n",
       "    .dataframe tbody tr th:only-of-type {\n",
       "        vertical-align: middle;\n",
       "    }\n",
       "\n",
       "    .dataframe tbody tr th {\n",
       "        vertical-align: top;\n",
       "    }\n",
       "\n",
       "    .dataframe thead th {\n",
       "        text-align: right;\n",
       "    }\n",
       "</style>\n",
       "<table border=\"1\" class=\"dataframe\">\n",
       "  <thead>\n",
       "    <tr style=\"text-align: right;\">\n",
       "      <th></th>\n",
       "      <th>SUBJECT_ID</th>\n",
       "      <th>HADM_ID</th>\n",
       "      <th>TEXT</th>\n",
       "      <th>IS_DISCHARGE</th>\n",
       "      <th>IS_NURSING</th>\n",
       "      <th>IS_OTHER</th>\n",
       "    </tr>\n",
       "  </thead>\n",
       "  <tbody>\n",
       "    <tr>\n",
       "      <th>0</th>\n",
       "      <td>22532</td>\n",
       "      <td>167853</td>\n",
       "      <td>['Admission Date:  [**2151-7-16**]       Disch...</td>\n",
       "      <td>1</td>\n",
       "      <td>0</td>\n",
       "      <td>0</td>\n",
       "    </tr>\n",
       "    <tr>\n",
       "      <th>1</th>\n",
       "      <td>13702</td>\n",
       "      <td>107527</td>\n",
       "      <td>['Admission Date:  [**2118-6-2**]       Discha...</td>\n",
       "      <td>1</td>\n",
       "      <td>0</td>\n",
       "      <td>0</td>\n",
       "    </tr>\n",
       "    <tr>\n",
       "      <th>2</th>\n",
       "      <td>13702</td>\n",
       "      <td>167118</td>\n",
       "      <td>['Admission Date:  [**2119-5-4**]             ...</td>\n",
       "      <td>1</td>\n",
       "      <td>0</td>\n",
       "      <td>0</td>\n",
       "    </tr>\n",
       "    <tr>\n",
       "      <th>3</th>\n",
       "      <td>13702</td>\n",
       "      <td>196489</td>\n",
       "      <td>[\"Admission Date:  [**2124-7-21**]            ...</td>\n",
       "      <td>1</td>\n",
       "      <td>0</td>\n",
       "      <td>0</td>\n",
       "    </tr>\n",
       "    <tr>\n",
       "      <th>4</th>\n",
       "      <td>26880</td>\n",
       "      <td>135453</td>\n",
       "      <td>['Admission Date:  [**2162-3-3**]             ...</td>\n",
       "      <td>1</td>\n",
       "      <td>0</td>\n",
       "      <td>0</td>\n",
       "    </tr>\n",
       "  </tbody>\n",
       "</table>\n",
       "</div>"
      ],
      "text/plain": [
       "   SUBJECT_ID  HADM_ID                                               TEXT  \\\n",
       "0       22532   167853  ['Admission Date:  [**2151-7-16**]       Disch...   \n",
       "1       13702   107527  ['Admission Date:  [**2118-6-2**]       Discha...   \n",
       "2       13702   167118  ['Admission Date:  [**2119-5-4**]             ...   \n",
       "3       13702   196489  [\"Admission Date:  [**2124-7-21**]            ...   \n",
       "4       26880   135453  ['Admission Date:  [**2162-3-3**]             ...   \n",
       "\n",
       "   IS_DISCHARGE  IS_NURSING  IS_OTHER  \n",
       "0             1           0         0  \n",
       "1             1           0         0  \n",
       "2             1           0         0  \n",
       "3             1           0         0  \n",
       "4             1           0         0  "
      ]
     },
     "execution_count": 87,
     "metadata": {},
     "output_type": "execute_result"
    }
   ],
   "source": [
    "# for each stay, choose a single note\n",
    "hadms = notes_hospital['HADM_ID'].unique()\n",
    "#best_note_df = pd.DataFrame(columns=['SUBJECT_ID','HADM_ID','TEXT','IS_DISCHARGE','IS_NURSING','IS_OTHER'])\n",
    "best_notes = []\n",
    "\n",
    "for hadm in hadms:\n",
    "    hadm_df = notes_hospital[notes_hospital['HADM_ID']==hadm]\n",
    "    \n",
    "    # starting with discharges, the priorit note\n",
    "    discharges = hadm_df[hadm_df['CATEGORY'] == 'Discharge summary']\n",
    "    # if only a single discharge, use it\n",
    "    if discharges.shape[0] == 1:\n",
    "        best_notes.append([int(discharges['SUBJECT_ID'].values),int(discharges['HADM_ID'].values),\\\n",
    "            str(discharges['TEXT'].values),1,0,0])\n",
    "    # if multiple discharges...\n",
    "    elif discharges.shape[0] > 1:\n",
    "        discharges = discharges[discharges['DESCRIPTION'] == 'Report']\n",
    "        # if only a single Report discharge summary, use this\n",
    "        if discharges.shape[0] == 1:\n",
    "            best_notes.append([int(discharges['SUBJECT_ID'].values),int(discharges['HADM_ID'].values),\\\n",
    "            str(discharges['TEXT'].values),1,0,0])\n",
    "        elif discharges.shape[0] == 0:\n",
    "            print('No Report Discharge Summaries - problem?')\n",
    "            print('HADM_ID missing report discharge:',hadm)\n",
    "            print('Adding addendum.. ')\n",
    "            nonreports = hadm_df[hadm_df['CATEGORY'] == 'Discharge summary']\n",
    "            if nonreports.shape[0] == 1:\n",
    "                best_notes.append([int(nonreports['SUBJECT_ID'].values),int(nonreports['HADM_ID'].values),\\\n",
    "                    str(nonreports['TEXT'].values),1,0,0])\n",
    "            else:\n",
    "                max_row_id = max(nonreports['ROW_ID'])\n",
    "                max_nonreports = nonreports[nonreports['ROW_ID'] == max_row_id]\n",
    "                #print(max_nonreports)\n",
    "                #print('max_discharge',max_date)\n",
    "                best_notes.append([int(max_nonreports['SUBJECT_ID'].values),int(max_nonreports['HADM_ID'].values),\\\n",
    "                    str(max_nonreports['TEXT'].values),1,0,0])                 \n",
    "        else:\n",
    "            # choose max ROW_ID discharge summary (note discharge summaries don't have\n",
    "            # CHARTTIME entries, and CHARTDATEs can be the same)\n",
    "            max_row_id = max(discharges['ROW_ID'])\n",
    "            max_discharge = discharges[discharges['ROW_ID'] == max_row_id]\n",
    "            #print('max_discharge',max_date)\n",
    "            best_notes.append([int(max_discharge['SUBJECT_ID'].values),int(max_discharge['HADM_ID'].values),\\\n",
    "                str(max_discharge['TEXT'].values),1,0,0])   \n",
    "    \n",
    "    else:\n",
    "        # moving on to nursing notes, our second-preferred kind\n",
    "        nursing = hadm_df[(hadm_df['CATEGORY'] == 'Nursing') | \\\n",
    "            (hadm_df['CATEGORY'] == 'Nursing/other')]\n",
    "        # if only a single nursing note, choose that\n",
    "        if nursing.shape[0] == 1:\n",
    "            best_notes.append([int(nursing['SUBJECT_ID'].values),int(nursing['HADM_ID'].values),\\\n",
    "                str(nursing['TEXT'].values),0,1,0])\n",
    "        # if multiple nursing notes, choose the latest one according to STORETIME \n",
    "        # (CHARTTIME can have duplicates)\n",
    "        elif nursing.shape[0] > 1:\n",
    "            max_row_id = max(nursing['ROW_ID'])    \n",
    "            max_nursing = nursing[nursing['ROW_ID']==max_row_id] \n",
    "            #print('max nursing',max_nursing)\n",
    "            #print('max nursing',max_date)\n",
    "            best_notes.append([int(max_nursing['SUBJECT_ID'].values),int(max_nursing['HADM_ID'].values),\\\n",
    "                str(max_nursing['TEXT'].values),0,1,0])\n",
    "        else:\n",
    "            # if no nursing or discharge, choose the latest STORETIME note\n",
    "            max_row_id = max(hadm_df['ROW_ID'])    \n",
    "            max_hadm = hadm_df[hadm_df['ROW_ID']==max_row_id] \n",
    "            #print('max other notes',max_hadm)\n",
    "            best_notes.append([int(max_hadm['SUBJECT_ID'].values),int(max_hadm['HADM_ID'].values),\\\n",
    "                str(max_hadm['TEXT'].values),0,0,1])       \n",
    "\n",
    "best_note_df = pd.DataFrame.from_records(best_notes,\\\n",
    "    columns=['SUBJECT_ID','HADM_ID','TEXT','IS_DISCHARGE','IS_NURSING','IS_OTHER'])\n",
    "\n",
    "print(best_note_df.shape)\n",
    "best_note_df.head()"
   ]
  },
  {
   "cell_type": "code",
   "execution_count": 91,
   "metadata": {},
   "outputs": [],
   "source": [
    "# pickle df to save\n",
    "best_note_df.to_pickle('./data/best_note_df.pkl')"
   ]
  },
  {
   "cell_type": "code",
   "execution_count": 77,
   "metadata": {},
   "outputs": [
    {
     "data": {
      "text/plain": [
       "\"Name:  [**Known lastname 2797**], [**Known firstname 739**]                     Unit No:  [**Numeric Identifier 4340**]\\n\\nAdmission Date:  [**2101-6-28**]     Discharge Date:  [**2101-7-17**]\\n\\nDate of Birth:   [**2051-7-5**]     Sex:  F\\n\\nService:  [**Hospital1 248**] MED\\n\\nADDENDUM:\\n\\nHOSPITAL COURSE:   The [**Hospital 1325**] hospital course in the\\nMedical Intensive Care Unit was previously dictated.\\n\\nMiss [**Known lastname **] is a 50 year old female with diabetes mellitus,\\nend-stage renal disease status post kidney transplant, and\\nstatus post cardiac arrest of unknown etiology, who presented\\nwith mental status changes and a right humeral fracture.\\n\\nHer hospital course is as follows:\\n\\n1.  INFECTIOUS DISEASE:  On a previous admission in [**2101-10-22**], urine cultures were positive for enterococci and the\\npatient was treated with Ampicillin 500 mg p.o. q. eight\\nhours for two weeks.  She was discharged to a nursing home\\nfor further care.  While at this nursing home, the patient\\nagain had a positive urine culture growing enterococcus and\\nshe was started on Levofloxacin and Bactrim.  When one out of\\nfour blood cultures from the nursing home in early [**Month (only) 1176**] grew\\nout Gram positive cocci, the patient was changed to\\nVancomycin.\\n\\nUpon admission to [**Hospital1 536**] on\\n[**6-28**], the patient was treated broadly with Vancomycin,\\nCeftazidime and Flagyl until cultures later returned.  Repeat\\nurine cultures on [**6-29**], while on antibiotics, showed less\\nthan 10,000 organisms, which were presumed to be\\nenterococcus.  None of the blood cultures at that time grew\\nanything.  She was placed on ampicillin instead for her\\nurinary tract infection.\\n\\nSince she continued to have low grade temperatures to 100.0\\nF., and her white blood cell count remained elevated, a renal\\nultrasound was performed on [**7-8**] which showed air in the\\ncollecting system of the transplanted kidney, leading to a\\nquestion of possible emphysematous cystitis.\\n\\nAn Infectious Disease consultation was then obtained to help\\nwith management of her infection.  They recommended an\\nabdominal CT scan with contrast which also showed air in the\\ncollecting system and bladder, but there was no evidence of\\nabscess.  This led the renal consult attending to believe\\nthat the air on ultrasound and CT scan was evidence of an old\\ninfection, possibly a cystitis, that had since begun to\\nresolve.  Levofloxacin was added prophylactically after she\\nwent for repair of her right humeral fracture.\\n\\nShe was continued on Ampicillin intravenously and\\nLevofloxacin p.o. until two repeat urinalyses on [**7-14**]\\nreturned positive with white blood cells, bacteria and yeast.\\nShe was also spiking fevers at that time to 101.0 F., and her\\nantibiotic regimen was changed to Ceftazidime intravenously\\nempirically while awaiting return of blood cultures and urine\\ncultures.\\n\\nWhen the urine culture returned with greater than 100,000\\nyeast, the Foley was discontinued and she was started on\\nFluconazole 200 mg p.o. q. day times ten days.  The final\\nresults of the blood cultures from [**7-14**] were pending at\\nthe time of this dictation.\\n\\n2.  END-STAGE RENAL DISEASE STATUS POST TRANSPLANT:  The\\npatient was followed by the Renal Consultation Service.  She\\nwas continued on Azathioprine and cyclosporin.  Her\\ncreatinine remained stable until returning from the Operating\\nRoom for her right humeral fracture.  It increased from 1.1\\nto a maximum of 1.5 over a few days.  FENA, urine sodium and\\nBUN to creatinine ratio were all consistent with a prerenal\\npicture.  Urine eosinophils were negative.\\n\\nThe patient received several normal saline boluses and she\\neventually started producing more urine.  Her creatinine\\nimproved towards baseline.  Renal Service requested a CT scan\\nof the abdomen and pelvis which was scheduled for [**7-17**],\\nthe results of which are not available at the time of this\\ndictation.\\n\\n3.  STATUS POST CARDIAC ARREST:  The patient went into\\nasystole in the Emergency Department [**6-28**].  She was given\\nepinephrine and atropine which changed her rhythm to\\npulseless ventricular tachycardia.  She was shocked and\\nintubated and sent to the Medical Intensive Care Unit.\\n\\nThe cause of this cardiac arrest remains unknown at the time\\nof this dictation.  Arterial blood gases surrounding the time\\nof the event was 7.54, pCO2 of 27, pO2 of 447, and a\\nbicarbonate of 24.  Potassium at that time was 3.3.  The\\npatient was not hypothermic.  Urine toxicology screens which\\nwere collected after intubation only showed benzodiazepine\\nwhich had been used during intubation.\\n\\nChest CT scan showed no evidence of pneumothorax and no\\nevidence of pulmonary embolism.  In comparison to tests\\nperformed in [**2100-4-21**], there were no new changes on\\ncardiac catheterization or echocardiogram.  The patient\\ndeclined any further electrophysiology studies for work-up of\\nher cardiac arrest, so she was instead maximized on her beta\\nblocker for its anti-arrhythmic effects.  She was continued\\non Telemetry throughout the hospital course with no events\\noccurring at the time of this dictation.\\n\\n4.  CORONARY ARTERY DISEASE:  An echocardiogram on [**6-28**],\\nshowed a normal ejection fraction at greater than 55%, mild\\nmitral regurgitation, mild left ventricular hypertrophy and\\nno significant change from the previous echocardiogram in [**2100-4-21**].\\n\\nCardiac catheterization on [**7-4**], again also showed no\\nsignificant changes from the previous cardiac catheterization\\nin [**2100-4-21**] with an 80% native left circumflex lesion.  On\\n[**7-14**], while in the work-up of her postoperative renal\\ninsufficiency, she was found to have borderline troponin\\nleaks of 1.1, 1.0 and 0.8, but this was not felt to be an\\nacute myocardial infarction as there were no changes on EKG\\nand she was completely asymptomatic.\\n\\n5.  HYPERTENSION:  Her pressures began to rise while on the\\n[**Hospital1 **] Service.  Metoprolol was therefore increased to 200 mg\\np.o. twice a day and Amlodipine 5 mg p.o. q. day was added\\nfor adequate blood pressure control.  Her pressures remained\\nstable in the 140s over 70s.  An ACE inhibitor was not added\\ndue to a brief period of renal insufficiency, but the renal\\nconsult service felt that she would benefit from the addition\\nof an ACE inhibitor as an outpatient.\\n\\n6.  RIGHT HUMERAL FRACTURE:  The patient originally developed\\na fracture through the distal third of her humerus after\\nfalling on [**2101-7-8**].  Orthopedic Surgery followed her\\ncourse throughout her hospital stay.  The patient remained in\\na sling but this fracture turned into an open fracture on\\n[**2101-7-7**], when the edge of the bone punctured through\\nthe skin due to excessive arm movement.\\n\\nThe patient went to the Operating Room on [**7-12**] for an\\nopen reduction and internal fixation of her right humeral\\nfracture.  Wound cultures were obtained in the Operating Room\\nbut the cultures were negative.\\n\\nPostoperatively, an Occupational Therapy consultation was\\nobtained for range of motion and the patient tolerated the\\nOccupational Therapy exercises very well.  She had a full\\nrange of motion at her wrist, elbow and shoulder.  She was\\nalso started on Levofloxacin prophylactically and was treated\\nwith it for five days.  It was changed to ceftazidime on [**7-15**] after she spiked a fever to 101.0 F., despite being on\\nAmpicillin and Levofloxacin.  Wound cultures were repeated\\nwhen the sites where the bone had pierced through the skin\\nwas found to be draining serosanguinous fluid which returned\\nas negative.  She was continued on daily dressing changes.\\n\\n7.  MENTAL STATUS CHANGES:  The cause for her mental status\\nchanges remains a mystery at the time of this dictation.\\nHead CT scan from [**6-30**] showed no hemorrhage or acute\\ninfarction.  An arterial blood gas most recently from [**7-4**]\\nwas within normal limits.  All electrolytes had been within\\nnormal limits.\\n\\nAgain, cardiac catheterization and echocardiogram during this\\nhospital course showed no change from previous examinations\\nin [**2100-4-21**].  Laboratory results were also not consistent\\nwith diabetic ketoacidosis.  Other than a brief period of\\nvolume depletion postoperatively there were no signs of acute\\nrenal failure.\\n\\nChest CT angiogram from [**6-28**], showed no pneumonia or\\npulmonary embolism.  There was also no evidence for liver\\nfailure.  Cyclosporin levels were checked periodically\\nthroughout the hospital course and they were always within\\nthe therapeutic range.  TSH was checked which was elevated to\\n5.3, but the T4 was within normal limits at 6.7.\\n\\nThe patient continued to have waxing and [**Doctor Last Name 2364**] mental status\\nwith disturbed sleep wake cycles.  She is usually oriented to\\nperson, place and time and when she gets confused, she is\\neasily redirected by conversation.  Her course is also\\ncomplicated by the fact that the patient is blind and cannot\\nfind out what time of day it is unless someone tells her.\\n\\nHer delirium has worsened since she returned from the\\nOperating Room which was felt to be due to pain medications\\nas well as to a possible new infection.  Her condition,\\nhowever, has been improving slowly over the past few days.\\n\\n8.  DIABETES MELLITUS:  The patient was placed on Regular\\ninsulin sliding scale and Glargine at dinnertime with\\nmoderate control of her blood sugars.  Fingersticks generally\\nranged from 100 to 200.\\n\\n9.  GASTROPARESIS:  The patient was continued on\\nMetoclopramide.  She did not develop any nausea, vomiting or\\ndiarrhea.\\n\\n10. ANEMIA:  The patient had a bloody bowel movement on [**7-10**].  Her hematocrit dropped from 31.5 to 29.1.  In the\\nOperating Room, she lost approximately 700 cc of blood and\\nreceived two units of packed red blood cells.  Her hematocrit\\npostoperatively was 34.0 but she was then found to be volume\\ndepleted as evidenced by her prerenal insufficiency.  She was\\naggressively hydrated which dropped her hematocrit down to\\n25.9 and she received another unit of blood.\\n\\nAt the time of this dictation, it was felt that the volume\\ndepletion had been masking her anemia, and that there were no\\novert signs of bleeding.\\n\\n11. CASE MANAGEMENT:  Due to the patient's tenuous health\\ncourse, it was felt that the patient needed a health proxy.\\nThe patient agreed to make her husband, [**Name (NI) **] [**Name (NI) **], her\\nhealth proxy and official documentation was signed.\\n\\nThe remainder of her hospital course as well as discharge\\ndiagnoses and discharge medications will be dictated at a\\nlater time.\\n\\n\\n                          [**Name6 (MD) **] [**Name8 (MD) **], M.D.  [**MD Number(1) 4341**]\\n\\nDictated By:[**Last Name (STitle) 3647**]\\n\\nMEDQUIST36\\n\\nD:  [**2101-7-17**]  18:04\\nT:  [**2101-7-17**]  19:21\\nJOB#:  [**Job Number 4342**]\\n\""
      ]
     },
     "execution_count": 77,
     "metadata": {},
     "output_type": "execute_result"
    }
   ],
   "source": [
    "# (potential reason for choosing earlier notes over later - NOT essential)\n",
    "\n",
    "# this example and idx 55069 are both from same day, Discharge Summary Addendum texts, but in this case\n",
    "# seems we would actually want the first one (as identified by ROW_ID), as the second says it's\n",
    "# additional information to add to this first.. but may be someone who doesn't know how to file \n",
    "# records?\n",
    "notes_hospital['TEXT'][55068]"
   ]
  },
  {
   "cell_type": "markdown",
   "metadata": {},
   "source": [
    "### Using RoBERTa to create embeddings from notes"
   ]
  },
  {
   "cell_type": "code",
   "execution_count": 3,
   "metadata": {},
   "outputs": [],
   "source": [
    "# unpickle if not running from scratch\n",
    "best_note_df = pd.read_pickle('./data/best_note_df.pkl')"
   ]
  },
  {
   "cell_type": "code",
   "execution_count": 5,
   "metadata": {},
   "outputs": [],
   "source": [
    "#For RoBERTA:\n",
    "from transformers import RobertaConfig, RobertaModel\n",
    "from transformers import RobertaTokenizer\n",
    "\n",
    "#Tokenizer:\n",
    "tokenizer_r = RobertaTokenizer.from_pretrained(\"roberta-base\")\n",
    "\n",
    "\n",
    "# Initializing a RoBERTa configuration\n",
    "configuration = RobertaConfig()\n",
    "\n",
    "# Initializing a model from the configuration\n",
    "model_r = RobertaModel(configuration)"
   ]
  },
  {
   "cell_type": "code",
   "execution_count": 6,
   "metadata": {},
   "outputs": [],
   "source": [
    "tokenized_r = best_note_df['TEXT'].apply((lambda x: tokenizer_r.encode(x, truncation=True, \\\n",
    "    padding=\"max_length\", add_special_tokens=True)))\n",
    "#max_len = 0\n",
    "#for i in tokenized_r.values:\n",
    "#    if len(i) > max_len:\n",
    "#        max_len = len(i)\n",
    "\n",
    "#padded_r = np.array([i + [0]*(max_len-len(i)) for i in tokenized_r.values])\n",
    "tokenized_np = np.array(tokenized_r, dtype=int)"
   ]
  },
  {
   "cell_type": "code",
   "execution_count": null,
   "metadata": {},
   "outputs": [],
   "source": [
    "sparse_roberta = sparse.csr_matrix(tokenized_np)\n",
    "sparse_roberta_file = DATA_DIR + '/sparse_roberta'\n",
    "sparse.save_npz(sparse_roberta_file, sparse_roberta)"
   ]
  },
  {
   "cell_type": "code",
   "execution_count": null,
   "metadata": {},
   "outputs": [],
   "source": []
  },
  {
   "cell_type": "markdown",
   "metadata": {},
   "source": [
    "### Using BioClinicalBERT"
   ]
  },
  {
   "cell_type": "code",
   "execution_count": 4,
   "metadata": {},
   "outputs": [
    {
     "name": "stderr",
     "output_type": "stream",
     "text": [
      "Some weights of the model checkpoint at emilyalsentzer/Bio_ClinicalBERT were not used when initializing BertModel: ['cls.predictions.bias', 'cls.predictions.transform.dense.bias', 'cls.predictions.transform.dense.weight', 'cls.seq_relationship.weight', 'cls.predictions.decoder.weight', 'cls.seq_relationship.bias', 'cls.predictions.transform.LayerNorm.bias', 'cls.predictions.transform.LayerNorm.weight']\n",
      "- This IS expected if you are initializing BertModel from the checkpoint of a model trained on another task or with another architecture (e.g. initializing a BertForSequenceClassification model from a BertForPreTraining model).\n",
      "- This IS NOT expected if you are initializing BertModel from the checkpoint of a model that you expect to be exactly identical (initializing a BertForSequenceClassification model from a BertForSequenceClassification model).\n"
     ]
    }
   ],
   "source": [
    "#from transformers import AutoTokenizer, AutoModel\n",
    "tokenizer = ppb.AutoTokenizer.from_pretrained(\"emilyalsentzer/Bio_ClinicalBERT\")\n",
    "model = ppb.AutoModel.from_pretrained(\"emilyalsentzer/Bio_ClinicalBERT\")"
   ]
  },
  {
   "cell_type": "code",
   "execution_count": 11,
   "metadata": {},
   "outputs": [
    {
     "name": "stdout",
     "output_type": "stream",
     "text": [
      "BioClinicalBERT tokenized shape: (2083180,)\n"
     ]
    },
    {
     "data": {
      "text/plain": [
       "0    [101, 10296, 2236, 131, 164, 115, 115, 18615, ...\n",
       "1    [101, 10296, 2236, 131, 164, 115, 115, 20915, ...\n",
       "2    [101, 10296, 2236, 131, 164, 115, 115, 20915, ...\n",
       "3    [101, 10296, 2236, 131, 164, 115, 115, 19538, ...\n",
       "4    [101, 10296, 2236, 131, 164, 115, 115, 22148, ...\n",
       "Name: TEXT, dtype: object"
      ]
     },
     "execution_count": 11,
     "metadata": {},
     "output_type": "execute_result"
    }
   ],
   "source": [
    "#Tokenize: \n",
    "tokenized_bc = full_notes['TEXT'].apply((lambda x: tokenizer.encode(x, add_special_tokens=True)))\n",
    "print('BioClinicalBERT tokenized shape:',tokenized_bc.shape)\n",
    "tokenized_bc.head()"
   ]
  },
  {
   "cell_type": "code",
   "execution_count": 5,
   "metadata": {},
   "outputs": [
    {
     "name": "stdout",
     "output_type": "stream",
     "text": [
      "BioClinicalBERT tokenized shape: (2083180,)\n"
     ]
    },
    {
     "data": {
      "text/plain": [
       "0    [101, 10296, 2236, 131, 164, 115, 115, 18615, ...\n",
       "1    [101, 10296, 2236, 131, 164, 115, 115, 20915, ...\n",
       "2    [101, 10296, 2236, 131, 164, 115, 115, 20915, ...\n",
       "3    [101, 10296, 2236, 131, 164, 115, 115, 19538, ...\n",
       "4    [101, 10296, 2236, 131, 164, 115, 115, 22148, ...\n",
       "Name: TEXT, dtype: object"
      ]
     },
     "execution_count": 5,
     "metadata": {},
     "output_type": "execute_result"
    }
   ],
   "source": [
    "#Tokenize and pad: \n",
    "tokenized_bc = full_notes['TEXT'].apply((lambda x: tokenizer.encode(x, truncation=True, max_length=512, \\\n",
    "    padding=\"max_length\", add_special_tokens=True)))\n",
    "\n",
    "print('BioClinicalBERT tokenized shape:',tokenized_bc.shape)\n",
    "tokenized_bc.head()"
   ]
  },
  {
   "cell_type": "code",
   "execution_count": 6,
   "metadata": {},
   "outputs": [
    {
     "data": {
      "text/plain": [
       "512"
      ]
     },
     "execution_count": 6,
     "metadata": {},
     "output_type": "execute_result"
    }
   ],
   "source": [
    "len(tokenized_bc[0])"
   ]
  },
  {
   "cell_type": "code",
   "execution_count": 7,
   "metadata": {},
   "outputs": [],
   "source": [
    "# didn't work\n",
    "tokenized_bc_np = np.array(tokenized_bc, dtype=int)"
   ]
  },
  {
   "cell_type": "code",
   "execution_count": 14,
   "metadata": {},
   "outputs": [],
   "source": [
    "# didn't work\n",
    "sparse_bc = sparse.csr_matrix(np.array(tokenized_bc, dtype=int))"
   ]
  },
  {
   "cell_type": "code",
   "execution_count": null,
   "metadata": {},
   "outputs": [],
   "source": []
  },
  {
   "cell_type": "code",
   "execution_count": null,
   "metadata": {},
   "outputs": [],
   "source": [
    "from numpy import asarray\n",
    "from numpy import savetxt\n",
    "\n",
    "padded_bc_ar = asarray(padded_bc)\n",
    "padded_r_file = DATA_DIR + '/padded_bc'\n",
    "savetxt(padded_r_file, padded_bc_ar, delimiter=\",\")"
   ]
  },
  {
   "cell_type": "markdown",
   "metadata": {},
   "source": [
    "### Using NLTK to tokenize and manually produce vocab"
   ]
  },
  {
   "cell_type": "code",
   "execution_count": 4,
   "metadata": {},
   "outputs": [
    {
     "name": "stdout",
     "output_type": "stream",
     "text": [
      "Number of documents: 2083180\n"
     ]
    }
   ],
   "source": [
    "from collections import Counter\n",
    "import json\n",
    "from pathlib import Path\n",
    "\n",
    "from nltk.tokenize import WordPunctTokenizer\n",
    "tokenizer = WordPunctTokenizer()\n",
    "counter = Counter()\n",
    "counter.update(['<pad>', '<unk>'])\n",
    "notes_text_list = list(full_notes['TEXT'])\n",
    "print(f\"Number of documents: {len(notes_text_list)}\")"
   ]
  },
  {
   "cell_type": "code",
   "execution_count": 7,
   "metadata": {},
   "outputs": [
    {
     "name": "stdout",
     "output_type": "stream",
     "text": [
      "Vocab size after frequency filtering: 552755\n"
     ]
    }
   ],
   "source": [
    "for i, line in enumerate(notes_text_list):\n",
    "    tokens = tokenizer.tokenize(line)\n",
    "    tokens = [t.lower() for t in tokens]\n",
    "    counter.update(tokens)\n",
    "    #if i < 3:\n",
    "    #    print(f\"String of line {i}: {line.strip()}\")\n",
    "    #    print(f\"Tokens of line {i}: {tokens}\")\n",
    "counter = dict(counter)\n",
    "\n",
    "#print(f\"Vocab size before frequency filtering: {len(counter)}\")\n",
    "\n",
    "vocab = {}\n",
    "for word, freq in counter.items():\n",
    "    #if freq < 3 and word not in ['<pad>', '<unk>']:\n",
    "    #    continue\n",
    "    vocab[word] = len(vocab)\n",
    "\n",
    "print(f\"Vocab size after frequency filtering: {len(vocab)}\")\n",
    "output_filepath = DATA_DIR + '/unigram_vocab.json'\n",
    "json.dump(vocab, open(output_filepath, mode='w'))"
   ]
  },
  {
   "cell_type": "code",
   "execution_count": 15,
   "metadata": {},
   "outputs": [
    {
     "name": "stdout",
     "output_type": "stream",
     "text": [
      "Number of documents: 2083180\n"
     ]
    }
   ],
   "source": [
    "print('Number of documents:',full_notes.shape[0])"
   ]
  },
  {
   "cell_type": "code",
   "execution_count": 9,
   "metadata": {},
   "outputs": [
    {
     "name": "stdout",
     "output_type": "stream",
     "text": [
      "Number of tokens: 753498364\n"
     ]
    }
   ],
   "source": [
    "print('Number of tokens:',sum(counter.values()))"
   ]
  },
  {
   "cell_type": "code",
   "execution_count": null,
   "metadata": {},
   "outputs": [],
   "source": []
  },
  {
   "cell_type": "markdown",
   "metadata": {},
   "source": [
    "Below is code for manually tokenizing; so far has been killing kernel so moved on to nltk above"
   ]
  },
  {
   "cell_type": "code",
   "execution_count": 14,
   "metadata": {},
   "outputs": [
    {
     "data": {
      "text/plain": [
       "['Admission',\n",
       " 'Date:',\n",
       " '[**2151-7-16**]',\n",
       " 'Discharge',\n",
       " 'Date:',\n",
       " '[**2151-8-4**]',\n",
       " 'Service:',\n",
       " 'ADDENDUM:',\n",
       " 'RADIOLOGIC',\n",
       " 'STUDIES:',\n",
       " 'Radiologic',\n",
       " 'studies',\n",
       " 'also',\n",
       " 'included',\n",
       " 'a',\n",
       " 'chest',\n",
       " 'CT,',\n",
       " 'which',\n",
       " 'confirmed',\n",
       " 'cavitary',\n",
       " 'lesions',\n",
       " 'in',\n",
       " 'the',\n",
       " 'left',\n",
       " 'lung',\n",
       " 'apex',\n",
       " 'consistent',\n",
       " 'with',\n",
       " 'infectious',\n",
       " 'process/tuberculosis.',\n",
       " 'This',\n",
       " 'also',\n",
       " 'moderate-sized',\n",
       " 'left',\n",
       " 'pleural',\n",
       " 'effusion.',\n",
       " 'HEAD',\n",
       " 'CT:',\n",
       " 'Head',\n",
       " 'CT',\n",
       " 'showed',\n",
       " 'no',\n",
       " 'intracranial',\n",
       " 'hemorrhage',\n",
       " 'or',\n",
       " 'mass',\n",
       " 'effect,',\n",
       " 'but',\n",
       " 'old',\n",
       " 'infarction',\n",
       " 'consistent',\n",
       " 'with',\n",
       " 'past',\n",
       " 'medical',\n",
       " 'history.',\n",
       " 'ABDOMINAL',\n",
       " 'CT:',\n",
       " 'Abdominal',\n",
       " 'CT',\n",
       " 'showed',\n",
       " 'lesions',\n",
       " 'of',\n",
       " 'T10',\n",
       " 'and',\n",
       " 'sacrum',\n",
       " 'most',\n",
       " 'likely',\n",
       " 'secondary',\n",
       " 'to',\n",
       " 'osteoporosis.',\n",
       " 'These',\n",
       " 'can',\n",
       " 'be',\n",
       " 'followed',\n",
       " 'by',\n",
       " 'repeat',\n",
       " 'imaging',\n",
       " 'as',\n",
       " 'an',\n",
       " 'outpatient.',\n",
       " '[**First',\n",
       " 'Name8',\n",
       " '(NamePattern2)',\n",
       " '**]',\n",
       " '[**First',\n",
       " 'Name4',\n",
       " '(NamePattern1)',\n",
       " '1775**]',\n",
       " '[**Last',\n",
       " 'Name',\n",
       " '(NamePattern1)',\n",
       " '**],',\n",
       " 'M.D.',\n",
       " '[**MD',\n",
       " 'Number(1)',\n",
       " '1776**]',\n",
       " 'Dictated',\n",
       " 'By:[**Hospital',\n",
       " '1807**]',\n",
       " 'MEDQUIST36',\n",
       " 'D:',\n",
       " '[**2151-8-5**]',\n",
       " '12:11',\n",
       " 'T:',\n",
       " '[**2151-8-5**]',\n",
       " '12:21',\n",
       " 'JOB#:',\n",
       " '[**Job',\n",
       " 'Number',\n",
       " '1808**]',\n",
       " '']"
      ]
     },
     "execution_count": 14,
     "metadata": {},
     "output_type": "execute_result"
    }
   ],
   "source": [
    "# split on both spaces and the \"\\n\" character for more accurate word count\n",
    "re.split(\"\\s+|\\n\",full_notes['TEXT'][0])"
   ]
  },
  {
   "cell_type": "code",
   "execution_count": 15,
   "metadata": {},
   "outputs": [
    {
     "data": {
      "text/plain": [
       "111"
      ]
     },
     "execution_count": 15,
     "metadata": {},
     "output_type": "execute_result"
    }
   ],
   "source": [
    "len(re.split(\"\\s+|\\n\",full_notes['TEXT'][0]))"
   ]
  },
  {
   "cell_type": "markdown",
   "metadata": {},
   "source": [
    "Test splitting into words on small sample (killed kernel after 12 min on first attempt to run the full dataset)"
   ]
  },
  {
   "cell_type": "code",
   "execution_count": 5,
   "metadata": {},
   "outputs": [],
   "source": [
    "sample_notes = full_notes.sample(n = 200, random_state=53)"
   ]
  },
  {
   "cell_type": "code",
   "execution_count": 6,
   "metadata": {},
   "outputs": [
    {
     "data": {
      "text/html": [
       "<div>\n",
       "<style scoped>\n",
       "    .dataframe tbody tr th:only-of-type {\n",
       "        vertical-align: middle;\n",
       "    }\n",
       "\n",
       "    .dataframe tbody tr th {\n",
       "        vertical-align: top;\n",
       "    }\n",
       "\n",
       "    .dataframe thead th {\n",
       "        text-align: right;\n",
       "    }\n",
       "</style>\n",
       "<table border=\"1\" class=\"dataframe\">\n",
       "  <thead>\n",
       "    <tr style=\"text-align: right;\">\n",
       "      <th></th>\n",
       "      <th>ROW_ID</th>\n",
       "      <th>SUBJECT_ID</th>\n",
       "      <th>HADM_ID</th>\n",
       "      <th>CHARTDATE</th>\n",
       "      <th>CHARTTIME</th>\n",
       "      <th>STORETIME</th>\n",
       "      <th>CATEGORY</th>\n",
       "      <th>DESCRIPTION</th>\n",
       "      <th>CGID</th>\n",
       "      <th>ISERROR</th>\n",
       "      <th>TEXT</th>\n",
       "      <th>WORDS</th>\n",
       "    </tr>\n",
       "  </thead>\n",
       "  <tbody>\n",
       "    <tr>\n",
       "      <th>956690</th>\n",
       "      <td>961313</td>\n",
       "      <td>14734</td>\n",
       "      <td>NaN</td>\n",
       "      <td>2127-05-21</td>\n",
       "      <td>2127-05-21 09:01:00</td>\n",
       "      <td>NaN</td>\n",
       "      <td>Radiology</td>\n",
       "      <td>ABDOMEN (SUPINE ONLY)</td>\n",
       "      <td>NaN</td>\n",
       "      <td>NaN</td>\n",
       "      <td>[**2127-5-21**] 9:01 AM\\n ABDOMEN (SUPINE ONLY...</td>\n",
       "      <td>[[**2127-5-21**], 9:01, AM, ABDOMEN, (SUPINE, ...</td>\n",
       "    </tr>\n",
       "    <tr>\n",
       "      <th>1712826</th>\n",
       "      <td>1713696</td>\n",
       "      <td>2576</td>\n",
       "      <td>110661.0</td>\n",
       "      <td>2169-11-15</td>\n",
       "      <td>2169-11-15 19:49:00</td>\n",
       "      <td>2169-11-15 19:50:00</td>\n",
       "      <td>Nursing/other</td>\n",
       "      <td>Report</td>\n",
       "      <td>21232.0</td>\n",
       "      <td>NaN</td>\n",
       "      <td>Agree with above note by [**Initials (NamePatt...</td>\n",
       "      <td>[Agree, with, above, note, by, [**Initials, (N...</td>\n",
       "    </tr>\n",
       "    <tr>\n",
       "      <th>1033727</th>\n",
       "      <td>1043826</td>\n",
       "      <td>63616</td>\n",
       "      <td>175657.0</td>\n",
       "      <td>2113-11-21</td>\n",
       "      <td>2113-11-21 08:28:00</td>\n",
       "      <td>NaN</td>\n",
       "      <td>Radiology</td>\n",
       "      <td>CHEST (PA &amp; LAT)</td>\n",
       "      <td>NaN</td>\n",
       "      <td>NaN</td>\n",
       "      <td>[**Last Name (LF) **],[**First Name3 (LF) **] ...</td>\n",
       "      <td>[[**Last, Name, (LF), **],[**First, Name3, (LF...</td>\n",
       "    </tr>\n",
       "    <tr>\n",
       "      <th>1004537</th>\n",
       "      <td>1007150</td>\n",
       "      <td>28502</td>\n",
       "      <td>183617.0</td>\n",
       "      <td>2199-02-26</td>\n",
       "      <td>2199-02-26 03:15:00</td>\n",
       "      <td>NaN</td>\n",
       "      <td>Radiology</td>\n",
       "      <td>CHEST (PORTABLE AP)</td>\n",
       "      <td>NaN</td>\n",
       "      <td>NaN</td>\n",
       "      <td>[**2199-2-26**] 3:15 AM\\n CHEST (PORTABLE AP) ...</td>\n",
       "      <td>[[**2199-2-26**], 3:15, AM, CHEST, (PORTABLE, ...</td>\n",
       "    </tr>\n",
       "    <tr>\n",
       "      <th>1044022</th>\n",
       "      <td>1055606</td>\n",
       "      <td>96629</td>\n",
       "      <td>NaN</td>\n",
       "      <td>2118-02-17</td>\n",
       "      <td>2118-02-17 11:00:00</td>\n",
       "      <td>NaN</td>\n",
       "      <td>Radiology</td>\n",
       "      <td>CT C-SPINE W/O CONTRAST</td>\n",
       "      <td>NaN</td>\n",
       "      <td>NaN</td>\n",
       "      <td>[**2118-2-17**] 11:00 AM\\n CT C-SPINE W/O CONT...</td>\n",
       "      <td>[[**2118-2-17**], 11:00, AM, CT, C-SPINE, W/O,...</td>\n",
       "    </tr>\n",
       "  </tbody>\n",
       "</table>\n",
       "</div>"
      ],
      "text/plain": [
       "          ROW_ID  SUBJECT_ID   HADM_ID   CHARTDATE            CHARTTIME  \\\n",
       "956690    961313       14734       NaN  2127-05-21  2127-05-21 09:01:00   \n",
       "1712826  1713696        2576  110661.0  2169-11-15  2169-11-15 19:49:00   \n",
       "1033727  1043826       63616  175657.0  2113-11-21  2113-11-21 08:28:00   \n",
       "1004537  1007150       28502  183617.0  2199-02-26  2199-02-26 03:15:00   \n",
       "1044022  1055606       96629       NaN  2118-02-17  2118-02-17 11:00:00   \n",
       "\n",
       "                   STORETIME       CATEGORY              DESCRIPTION     CGID  \\\n",
       "956690                   NaN      Radiology    ABDOMEN (SUPINE ONLY)      NaN   \n",
       "1712826  2169-11-15 19:50:00  Nursing/other                   Report  21232.0   \n",
       "1033727                  NaN      Radiology         CHEST (PA & LAT)      NaN   \n",
       "1004537                  NaN      Radiology      CHEST (PORTABLE AP)      NaN   \n",
       "1044022                  NaN      Radiology  CT C-SPINE W/O CONTRAST      NaN   \n",
       "\n",
       "         ISERROR                                               TEXT  \\\n",
       "956690       NaN  [**2127-5-21**] 9:01 AM\\n ABDOMEN (SUPINE ONLY...   \n",
       "1712826      NaN  Agree with above note by [**Initials (NamePatt...   \n",
       "1033727      NaN  [**Last Name (LF) **],[**First Name3 (LF) **] ...   \n",
       "1004537      NaN  [**2199-2-26**] 3:15 AM\\n CHEST (PORTABLE AP) ...   \n",
       "1044022      NaN  [**2118-2-17**] 11:00 AM\\n CT C-SPINE W/O CONT...   \n",
       "\n",
       "                                                     WORDS  \n",
       "956690   [[**2127-5-21**], 9:01, AM, ABDOMEN, (SUPINE, ...  \n",
       "1712826  [Agree, with, above, note, by, [**Initials, (N...  \n",
       "1033727  [[**Last, Name, (LF), **],[**First, Name3, (LF...  \n",
       "1004537  [[**2199-2-26**], 3:15, AM, CHEST, (PORTABLE, ...  \n",
       "1044022  [[**2118-2-17**], 11:00, AM, CT, C-SPINE, W/O,...  "
      ]
     },
     "execution_count": 6,
     "metadata": {},
     "output_type": "execute_result"
    }
   ],
   "source": [
    "sample_notes['WORDS'] = sample_notes['TEXT'].str.split(\"\\s+|\\n\")\n",
    "sample_notes.head()"
   ]
  },
  {
   "cell_type": "code",
   "execution_count": 4,
   "metadata": {},
   "outputs": [
    {
     "name": "stdout",
     "output_type": "stream",
     "text": [
      "split size for easier processing: 694393\n",
      "notes shapes: (694393, 11) (694393, 11) (347196, 11) (347198, 11)\n"
     ]
    }
   ],
   "source": [
    "n_rows = full_notes.shape[0]\n",
    "split_size = round(n_rows/3)\n",
    "print('split size for easier processing:', split_size)\n",
    "\n",
    "notes_1 = full_notes.iloc[:split_size]\n",
    "notes_2 = full_notes.iloc[split_size:split_size*2]\n",
    "# splitting the last third into 2 due to some extremely large notes in final third (killed kernel mutliple times)\n",
    "notes_3 = full_notes.iloc[split_size*2:round(split_size*2.5)]\n",
    "notes_4 = full_notes.iloc[round(split_size*2.5):]\n",
    "print('notes shapes:',notes_1.shape, notes_2.shape, notes_3.shape, notes_4.shape)"
   ]
  },
  {
   "cell_type": "code",
   "execution_count": 5,
   "metadata": {},
   "outputs": [
    {
     "name": "stderr",
     "output_type": "stream",
     "text": [
      "/tmp/ipykernel_22105/3614905419.py:2: SettingWithCopyWarning: \n",
      "A value is trying to be set on a copy of a slice from a DataFrame.\n",
      "Try using .loc[row_indexer,col_indexer] = value instead\n",
      "\n",
      "See the caveats in the documentation: https://pandas.pydata.org/pandas-docs/stable/user_guide/indexing.html#returning-a-view-versus-a-copy\n",
      "  notes_1['WORDS'] = notes_1['TEXT'].str.split(\"\\s+|\\n\")\n"
     ]
    }
   ],
   "source": [
    "# takes approx 1.5 min to run\n",
    "notes_1['WORDS'] = notes_1['TEXT'].str.split(\"\\s+|\\n\")"
   ]
  },
  {
   "cell_type": "code",
   "execution_count": null,
   "metadata": {},
   "outputs": [],
   "source": [
    "full_notes_toks = pd.concat([notes_1, notes_2, notes_3, notes_4])\n",
    "full_notes_toks.shape"
   ]
  },
  {
   "cell_type": "code",
   "execution_count": null,
   "metadata": {},
   "outputs": [],
   "source": []
  },
  {
   "cell_type": "markdown",
   "metadata": {},
   "source": [
    "### References"
   ]
  },
  {
   "cell_type": "markdown",
   "metadata": {},
   "source": [
    "[Analytics Vidhya: Fine-tune a RoBERTa Encoder-Decoder model trained on MLM for Text Generation](https://medium.com/analytics-vidhya/fine-tune-a-roberta-encoder-decoder-model-trained-on-mlm-for-text-generation-23da5f3c1858)  \n",
    "[StackOverflow: nlp - How to use Bert for long text classification?](https://stackoverflow.com/questions/58636587/how-to-use-bert-for-long-text-classification)  \n",
    "[StackExchange: Convert a list of lists into a Pandas Dataframe](https://datascience.stackexchange.com/questions/26333/convert-a-list-of-lists-into-a-pandas-dataframe)    \n"
   ]
  },
  {
   "cell_type": "markdown",
   "metadata": {},
   "source": []
  }
 ],
 "metadata": {
  "interpreter": {
   "hash": "40f6b8985ae3d3af9736205d555f7ff87522357a9f5bdb6e88eda9160976b228"
  },
  "kernelspec": {
   "display_name": "Python 3.9.10 64-bit ('venv': venv)",
   "language": "python",
   "name": "python3"
  },
  "language_info": {
   "codemirror_mode": {
    "name": "ipython",
    "version": 3
   },
   "file_extension": ".py",
   "mimetype": "text/x-python",
   "name": "python",
   "nbconvert_exporter": "python",
   "pygments_lexer": "ipython3",
   "version": "3.9.10"
  },
  "orig_nbformat": 4
 },
 "nbformat": 4,
 "nbformat_minor": 2
}
