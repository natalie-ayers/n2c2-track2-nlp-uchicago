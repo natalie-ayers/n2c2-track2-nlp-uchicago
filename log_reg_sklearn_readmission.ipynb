{
 "cells": [
  {
   "cell_type": "code",
   "execution_count": 373,
   "id": "a701eea7",
   "metadata": {},
   "outputs": [],
   "source": [
    "import sklearn\n",
    "import pandas as pd\n",
    "import numpy as np\n",
    "from sklearn.linear_model import LogisticRegression\n",
    "from sklearn.model_selection import GridSearchCV\n",
    "from sklearn.model_selection import KFold\n",
    "from sklearn.metrics import auc\n",
    "from sklearn.metrics import confusion_matrix\n",
    "from sklearn.metrics import average_precision_score\n",
    "from sklearn.metrics import accuracy_score"
   ]
  },
  {
   "cell_type": "code",
   "execution_count": 3,
   "id": "78e1d1f2",
   "metadata": {},
   "outputs": [],
   "source": [
    "def lower_col_names(df):\n",
    "    '''\n",
    "    lowercase the column names of a pd df\n",
    "    Input: pd dataframe\n",
    "    Output: lower - a pd dataframe with lowercase columns \n",
    "    '''\n",
    "    df.columns= df.columns.str.strip().str.lower()\n",
    "    \n",
    "    return df\n",
    "    \n",
    "\n"
   ]
  },
  {
   "cell_type": "code",
   "execution_count": 4,
   "id": "344458f2",
   "metadata": {},
   "outputs": [],
   "source": [
    "# Configure Target Variables:\n",
    "data_dir = \"data/merged_data\"\n",
    "data_dir_rob = data_dir + \"/roberta_los_read\"\n",
    "data_dir_bc = data_dir + \"/bc_los_read\"\n",
    "\n"
   ]
  },
  {
   "cell_type": "code",
   "execution_count": 138,
   "id": "034a4ab0",
   "metadata": {},
   "outputs": [
    {
     "name": "stdout",
     "output_type": "stream",
     "text": [
      "\u001b[34mbc_512_los_read\u001b[m\u001b[m/  \u001b[34mbc_512_read\u001b[m\u001b[m/      \u001b[34mroberta_los_read\u001b[m\u001b[m/ \u001b[34mroberta_read\u001b[m\u001b[m/\r\n"
     ]
    }
   ],
   "source": [
    "ls data/merged_data"
   ]
  },
  {
   "cell_type": "code",
   "execution_count": 5,
   "id": "51616707",
   "metadata": {},
   "outputs": [],
   "source": [
    "from os import listdir\n",
    "from os.path import isfile, join\n",
    "onlyfiles = [f for f in listdir(data_dir_rob) if isfile(join(data_dir_rob, f))]\n",
    "onlyfiles.sort()"
   ]
  },
  {
   "cell_type": "code",
   "execution_count": 6,
   "id": "8a7176e2",
   "metadata": {},
   "outputs": [
    {
     "data": {
      "text/plain": [
       "['roberta_los_read_x_test.pkl',\n",
       " 'roberta_los_read_x_train.pkl',\n",
       " 'roberta_los_read_x_val.pkl',\n",
       " 'roberta_los_read_y_test.pkl',\n",
       " 'roberta_los_read_y_train.pkl',\n",
       " 'roberta_los_read_y_val.pkl']"
      ]
     },
     "execution_count": 6,
     "metadata": {},
     "output_type": "execute_result"
    }
   ],
   "source": [
    "onlyfiles"
   ]
  },
  {
   "cell_type": "code",
   "execution_count": 160,
   "id": "483e9dcd",
   "metadata": {},
   "outputs": [],
   "source": [
    "x_test_unclean = pd.read_pickle(data_dir_rob + \"/\" + onlyfiles[0])\n",
    "x_train_unclean = pd.read_pickle(data_dir_rob + \"/\" + onlyfiles[1])\n",
    "x_val_unclean = pd.read_pickle(data_dir_rob + \"/\" + onlyfiles[2])\n",
    "y_test_unclean = pd.read_pickle(data_dir_rob + \"/\" + onlyfiles[3])\n",
    "y_train_unclean = pd.read_pickle(data_dir_rob + \"/\" + onlyfiles[4])\n",
    "y_val_unclean = pd.read_pickle(data_dir_rob + \"/\" + onlyfiles[5])"
   ]
  },
  {
   "cell_type": "code",
   "execution_count": null,
   "id": "2a1a02e2",
   "metadata": {},
   "outputs": [],
   "source": []
  },
  {
   "cell_type": "code",
   "execution_count": 224,
   "id": "5b652399",
   "metadata": {},
   "outputs": [],
   "source": [
    "def process_x(df, emb_name):\n",
    "    '''\n",
    "    Function to preprocess x dataset\n",
    "    Input: \n",
    "        df (dataframe) - x_train, dev, or test\n",
    "        emb_name (string) - colname in df that accesses embeddings\n",
    "    \n",
    "    Output: df (dataframe) - the same dataset just processed \n",
    "    '''    \n",
    "    #Drop diagnosis\n",
    "    df = df.drop([\"diagnosis\", \"icd9_code\"], axis=1, inplace = False)\n",
    "    \n",
    "    #Go get embedding series of list\n",
    "    embeddings = pd.Series(df[emb_name])\n",
    "\n",
    "    #dop embeddings\n",
    "    df = df.drop(emb_name, axis=1, inplace = False)\n",
    "    \n",
    "    \n",
    "    #Convert embeddings to a usable df:\n",
    "    emb_df = pd.DataFrame.from_dict(dict(zip(embeddings.index, embeddings.values))).T\n",
    "    emb_df.columns = emb_df.columns.astype(str)\n",
    "\n",
    "\n",
    "    #concatenate embeddings and df\n",
    "    df_full = pd.concat([df, emb_df], axis =1)\n",
    "    \n",
    "    #get new \n",
    "    df_full = lower_col_names(df_full)\n",
    "    \n",
    "    \n",
    "    return df_full\n",
    "    "
   ]
  },
  {
   "cell_type": "code",
   "execution_count": 179,
   "id": "41f3f39b",
   "metadata": {},
   "outputs": [],
   "source": [
    "def process_y(y_val, col):\n",
    "    '''\n",
    "    Input: \n",
    "        y_val (df) - one of y_train, y_dev, y_test\n",
    "        col (string) - name of string of column to use to forcast\n",
    "    Output: clean_y_val\n",
    "    '''\n",
    "    \n",
    "    return y_val[col]"
   ]
  },
  {
   "cell_type": "code",
   "execution_count": 322,
   "id": "465d8207",
   "metadata": {},
   "outputs": [],
   "source": [
    "x_train = process_x(x_train_unclean, \"roberta\")\n",
    "x_val = process_x(x_val_unclean, \"roberta\")\n",
    "x_test = process_x(x_test_unclean, \"roberta\")\n",
    "x_train_long = pd.concat([x_train, x_val], axis = 0)\n"
   ]
  },
  {
   "cell_type": "code",
   "execution_count": 250,
   "id": "69ae6596",
   "metadata": {},
   "outputs": [],
   "source": [
    "y_train = process_y(y_train_unclean, \"readmit\")\n",
    "y_val = process_y(y_val_unclean, \"readmit\")\n",
    "y_test = process_y(y_test_unclean, \"readmit\")\n",
    "y_train_long = pd.concat([y_train, y_val], axis= 0)\n",
    "\n"
   ]
  },
  {
   "cell_type": "code",
   "execution_count": null,
   "id": "ae4e7bb9",
   "metadata": {},
   "outputs": [],
   "source": []
  },
  {
   "cell_type": "code",
   "execution_count": null,
   "id": "487ae950",
   "metadata": {},
   "outputs": [],
   "source": []
  },
  {
   "cell_type": "code",
   "execution_count": 289,
   "id": "e235bbfb",
   "metadata": {},
   "outputs": [
    {
     "name": "stderr",
     "output_type": "stream",
     "text": [
      "/Users/gabemorrison/opt/anaconda3/lib/python3.9/site-packages/sklearn/linear_model/_logistic.py:1322: UserWarning: Setting penalty='none' will ignore the C and l1_ratio parameters\n",
      "  warnings.warn(\n",
      "/Users/gabemorrison/opt/anaconda3/lib/python3.9/site-packages/sklearn/linear_model/_logistic.py:1322: UserWarning: Setting penalty='none' will ignore the C and l1_ratio parameters\n",
      "  warnings.warn(\n",
      "/Users/gabemorrison/opt/anaconda3/lib/python3.9/site-packages/sklearn/linear_model/_logistic.py:1322: UserWarning: Setting penalty='none' will ignore the C and l1_ratio parameters\n",
      "  warnings.warn(\n",
      "/Users/gabemorrison/opt/anaconda3/lib/python3.9/site-packages/sklearn/linear_model/_logistic.py:1322: UserWarning: Setting penalty='none' will ignore the C and l1_ratio parameters\n",
      "  warnings.warn(\n",
      "/Users/gabemorrison/opt/anaconda3/lib/python3.9/site-packages/sklearn/linear_model/_logistic.py:1322: UserWarning: Setting penalty='none' will ignore the C and l1_ratio parameters\n",
      "  warnings.warn(\n",
      "/Users/gabemorrison/opt/anaconda3/lib/python3.9/site-packages/sklearn/linear_model/_logistic.py:1322: UserWarning: Setting penalty='none' will ignore the C and l1_ratio parameters\n",
      "  warnings.warn(\n",
      "/Users/gabemorrison/opt/anaconda3/lib/python3.9/site-packages/sklearn/linear_model/_logistic.py:1322: UserWarning: Setting penalty='none' will ignore the C and l1_ratio parameters\n",
      "  warnings.warn(\n",
      "/Users/gabemorrison/opt/anaconda3/lib/python3.9/site-packages/sklearn/linear_model/_logistic.py:1322: UserWarning: Setting penalty='none' will ignore the C and l1_ratio parameters\n",
      "  warnings.warn(\n",
      "/Users/gabemorrison/opt/anaconda3/lib/python3.9/site-packages/sklearn/linear_model/_logistic.py:1322: UserWarning: Setting penalty='none' will ignore the C and l1_ratio parameters\n",
      "  warnings.warn(\n",
      "/Users/gabemorrison/opt/anaconda3/lib/python3.9/site-packages/sklearn/linear_model/_logistic.py:1322: UserWarning: Setting penalty='none' will ignore the C and l1_ratio parameters\n",
      "  warnings.warn(\n",
      "/Users/gabemorrison/opt/anaconda3/lib/python3.9/site-packages/sklearn/linear_model/_logistic.py:1322: UserWarning: Setting penalty='none' will ignore the C and l1_ratio parameters\n",
      "  warnings.warn(\n",
      "/Users/gabemorrison/opt/anaconda3/lib/python3.9/site-packages/sklearn/linear_model/_logistic.py:1322: UserWarning: Setting penalty='none' will ignore the C and l1_ratio parameters\n",
      "  warnings.warn(\n",
      "/Users/gabemorrison/opt/anaconda3/lib/python3.9/site-packages/sklearn/linear_model/_logistic.py:1322: UserWarning: Setting penalty='none' will ignore the C and l1_ratio parameters\n",
      "  warnings.warn(\n",
      "/Users/gabemorrison/opt/anaconda3/lib/python3.9/site-packages/sklearn/linear_model/_logistic.py:1322: UserWarning: Setting penalty='none' will ignore the C and l1_ratio parameters\n",
      "  warnings.warn(\n",
      "/Users/gabemorrison/opt/anaconda3/lib/python3.9/site-packages/sklearn/linear_model/_logistic.py:1322: UserWarning: Setting penalty='none' will ignore the C and l1_ratio parameters\n",
      "  warnings.warn(\n",
      "/Users/gabemorrison/opt/anaconda3/lib/python3.9/site-packages/sklearn/linear_model/_logistic.py:1322: UserWarning: Setting penalty='none' will ignore the C and l1_ratio parameters\n",
      "  warnings.warn(\n",
      "/Users/gabemorrison/opt/anaconda3/lib/python3.9/site-packages/sklearn/linear_model/_logistic.py:1322: UserWarning: Setting penalty='none' will ignore the C and l1_ratio parameters\n",
      "  warnings.warn(\n",
      "/Users/gabemorrison/opt/anaconda3/lib/python3.9/site-packages/sklearn/linear_model/_logistic.py:1322: UserWarning: Setting penalty='none' will ignore the C and l1_ratio parameters\n",
      "  warnings.warn(\n",
      "/Users/gabemorrison/opt/anaconda3/lib/python3.9/site-packages/sklearn/linear_model/_logistic.py:1322: UserWarning: Setting penalty='none' will ignore the C and l1_ratio parameters\n",
      "  warnings.warn(\n",
      "/Users/gabemorrison/opt/anaconda3/lib/python3.9/site-packages/sklearn/linear_model/_logistic.py:1322: UserWarning: Setting penalty='none' will ignore the C and l1_ratio parameters\n",
      "  warnings.warn(\n",
      "/Users/gabemorrison/opt/anaconda3/lib/python3.9/site-packages/sklearn/linear_model/_logistic.py:1322: UserWarning: Setting penalty='none' will ignore the C and l1_ratio parameters\n",
      "  warnings.warn(\n",
      "/Users/gabemorrison/opt/anaconda3/lib/python3.9/site-packages/sklearn/linear_model/_logistic.py:1322: UserWarning: Setting penalty='none' will ignore the C and l1_ratio parameters\n",
      "  warnings.warn(\n",
      "/Users/gabemorrison/opt/anaconda3/lib/python3.9/site-packages/sklearn/linear_model/_logistic.py:1322: UserWarning: Setting penalty='none' will ignore the C and l1_ratio parameters\n",
      "  warnings.warn(\n",
      "/Users/gabemorrison/opt/anaconda3/lib/python3.9/site-packages/sklearn/linear_model/_logistic.py:1322: UserWarning: Setting penalty='none' will ignore the C and l1_ratio parameters\n",
      "  warnings.warn(\n",
      "/Users/gabemorrison/opt/anaconda3/lib/python3.9/site-packages/sklearn/linear_model/_logistic.py:1322: UserWarning: Setting penalty='none' will ignore the C and l1_ratio parameters\n",
      "  warnings.warn(\n",
      "/Users/gabemorrison/opt/anaconda3/lib/python3.9/site-packages/sklearn/linear_model/_logistic.py:1322: UserWarning: Setting penalty='none' will ignore the C and l1_ratio parameters\n",
      "  warnings.warn(\n",
      "/Users/gabemorrison/opt/anaconda3/lib/python3.9/site-packages/sklearn/linear_model/_logistic.py:1322: UserWarning: Setting penalty='none' will ignore the C and l1_ratio parameters\n",
      "  warnings.warn(\n",
      "/Users/gabemorrison/opt/anaconda3/lib/python3.9/site-packages/sklearn/linear_model/_logistic.py:1322: UserWarning: Setting penalty='none' will ignore the C and l1_ratio parameters\n",
      "  warnings.warn(\n",
      "/Users/gabemorrison/opt/anaconda3/lib/python3.9/site-packages/sklearn/linear_model/_logistic.py:1322: UserWarning: Setting penalty='none' will ignore the C and l1_ratio parameters\n",
      "  warnings.warn(\n",
      "/Users/gabemorrison/opt/anaconda3/lib/python3.9/site-packages/sklearn/linear_model/_logistic.py:1322: UserWarning: Setting penalty='none' will ignore the C and l1_ratio parameters\n",
      "  warnings.warn(\n",
      "/Users/gabemorrison/opt/anaconda3/lib/python3.9/site-packages/sklearn/linear_model/_logistic.py:1322: UserWarning: Setting penalty='none' will ignore the C and l1_ratio parameters\n",
      "  warnings.warn(\n",
      "/Users/gabemorrison/opt/anaconda3/lib/python3.9/site-packages/sklearn/linear_model/_logistic.py:1322: UserWarning: Setting penalty='none' will ignore the C and l1_ratio parameters\n",
      "  warnings.warn(\n",
      "/Users/gabemorrison/opt/anaconda3/lib/python3.9/site-packages/sklearn/linear_model/_logistic.py:1322: UserWarning: Setting penalty='none' will ignore the C and l1_ratio parameters\n",
      "  warnings.warn(\n",
      "/Users/gabemorrison/opt/anaconda3/lib/python3.9/site-packages/sklearn/linear_model/_logistic.py:1322: UserWarning: Setting penalty='none' will ignore the C and l1_ratio parameters\n",
      "  warnings.warn(\n",
      "/Users/gabemorrison/opt/anaconda3/lib/python3.9/site-packages/sklearn/linear_model/_logistic.py:1322: UserWarning: Setting penalty='none' will ignore the C and l1_ratio parameters\n",
      "  warnings.warn(\n",
      "/Users/gabemorrison/opt/anaconda3/lib/python3.9/site-packages/sklearn/linear_model/_logistic.py:1322: UserWarning: Setting penalty='none' will ignore the C and l1_ratio parameters\n",
      "  warnings.warn(\n",
      "/Users/gabemorrison/opt/anaconda3/lib/python3.9/site-packages/sklearn/linear_model/_logistic.py:1322: UserWarning: Setting penalty='none' will ignore the C and l1_ratio parameters\n",
      "  warnings.warn(\n",
      "/Users/gabemorrison/opt/anaconda3/lib/python3.9/site-packages/sklearn/linear_model/_logistic.py:1322: UserWarning: Setting penalty='none' will ignore the C and l1_ratio parameters\n",
      "  warnings.warn(\n",
      "/Users/gabemorrison/opt/anaconda3/lib/python3.9/site-packages/sklearn/linear_model/_logistic.py:1322: UserWarning: Setting penalty='none' will ignore the C and l1_ratio parameters\n",
      "  warnings.warn(\n",
      "/Users/gabemorrison/opt/anaconda3/lib/python3.9/site-packages/sklearn/linear_model/_logistic.py:1322: UserWarning: Setting penalty='none' will ignore the C and l1_ratio parameters\n",
      "  warnings.warn(\n",
      "/Users/gabemorrison/opt/anaconda3/lib/python3.9/site-packages/sklearn/linear_model/_logistic.py:1322: UserWarning: Setting penalty='none' will ignore the C and l1_ratio parameters\n",
      "  warnings.warn(\n",
      "/Users/gabemorrison/opt/anaconda3/lib/python3.9/site-packages/sklearn/linear_model/_logistic.py:1322: UserWarning: Setting penalty='none' will ignore the C and l1_ratio parameters\n",
      "  warnings.warn(\n"
     ]
    },
    {
     "name": "stderr",
     "output_type": "stream",
     "text": [
      "/Users/gabemorrison/opt/anaconda3/lib/python3.9/site-packages/sklearn/linear_model/_logistic.py:1322: UserWarning: Setting penalty='none' will ignore the C and l1_ratio parameters\n",
      "  warnings.warn(\n",
      "/Users/gabemorrison/opt/anaconda3/lib/python3.9/site-packages/sklearn/linear_model/_logistic.py:1322: UserWarning: Setting penalty='none' will ignore the C and l1_ratio parameters\n",
      "  warnings.warn(\n",
      "/Users/gabemorrison/opt/anaconda3/lib/python3.9/site-packages/sklearn/linear_model/_logistic.py:1322: UserWarning: Setting penalty='none' will ignore the C and l1_ratio parameters\n",
      "  warnings.warn(\n",
      "/Users/gabemorrison/opt/anaconda3/lib/python3.9/site-packages/sklearn/linear_model/_logistic.py:1322: UserWarning: Setting penalty='none' will ignore the C and l1_ratio parameters\n",
      "  warnings.warn(\n",
      "/Users/gabemorrison/opt/anaconda3/lib/python3.9/site-packages/sklearn/linear_model/_logistic.py:1322: UserWarning: Setting penalty='none' will ignore the C and l1_ratio parameters\n",
      "  warnings.warn(\n",
      "/Users/gabemorrison/opt/anaconda3/lib/python3.9/site-packages/sklearn/linear_model/_logistic.py:1322: UserWarning: Setting penalty='none' will ignore the C and l1_ratio parameters\n",
      "  warnings.warn(\n",
      "/Users/gabemorrison/opt/anaconda3/lib/python3.9/site-packages/sklearn/linear_model/_logistic.py:1322: UserWarning: Setting penalty='none' will ignore the C and l1_ratio parameters\n",
      "  warnings.warn(\n",
      "/Users/gabemorrison/opt/anaconda3/lib/python3.9/site-packages/sklearn/linear_model/_logistic.py:1322: UserWarning: Setting penalty='none' will ignore the C and l1_ratio parameters\n",
      "  warnings.warn(\n"
     ]
    }
   ],
   "source": [
    "#Running sklearn log reg:\n",
    "\n",
    "#Hyper parameters to tune: \n",
    "penalty = [\"l2\", \"none\"]\n",
    "\n",
    "C_options = [10, 1, 0.1, 0.01]\n",
    "param_dict = {\"penalty\":penalty, \"C\":C_options}\n",
    "cv = KFold(n_splits=10)\n",
    "\n",
    "\n",
    "\n",
    "#Logistic Regression:\n",
    "lr = LogisticRegression(random_state=0,  max_iter=1000)\n",
    "lr_grid = GridSearchCV(estimator = lr,\n",
    "                       param_grid = param_dict,\n",
    "                       cv = cv,\n",
    "                       scoring = \"average_precision\")\n",
    "grid_res = lr_grid.fit(x_train, y_train)"
   ]
  },
  {
   "cell_type": "code",
   "execution_count": 341,
   "id": "3c3e5900",
   "metadata": {},
   "outputs": [
    {
     "name": "stdout",
     "output_type": "stream",
     "text": [
      "Best: 0.054130 using {'C': 1000, 'penalty': 'l2'}\n"
     ]
    }
   ],
   "source": [
    "print(\"Best: %f using %s\" % (grid_res.best_score_, grid_res.best_params_))"
   ]
  },
  {
   "cell_type": "code",
   "execution_count": 377,
   "id": "8f79aab8",
   "metadata": {},
   "outputs": [],
   "source": [
    "lr_fin_r = LogisticRegression(random_state=0,  max_iter=1000, C = 1000, penalty = 'l2')\n",
    "lr_fin_r.fit(x_val, y_val)\n",
    "preds = lr_fin_r.predict(x_test)"
   ]
  },
  {
   "cell_type": "code",
   "execution_count": 328,
   "id": "584a7398",
   "metadata": {},
   "outputs": [
    {
     "data": {
      "text/plain": [
       "20"
      ]
     },
     "execution_count": 328,
     "metadata": {},
     "output_type": "execute_result"
    }
   ],
   "source": []
  },
  {
   "cell_type": "code",
   "execution_count": 329,
   "id": "a716627d",
   "metadata": {},
   "outputs": [
    {
     "data": {
      "text/plain": [
       "0.0024412280096944025"
      ]
     },
     "execution_count": 329,
     "metadata": {},
     "output_type": "execute_result"
    }
   ],
   "source": [
    "average_precision_score(np.array(preds), np.array(y_test))"
   ]
  },
  {
   "cell_type": "code",
   "execution_count": 378,
   "id": "1e9138b0",
   "metadata": {},
   "outputs": [
    {
     "data": {
      "text/plain": [
       "0.9579011592434411"
      ]
     },
     "execution_count": 378,
     "metadata": {},
     "output_type": "execute_result"
    }
   ],
   "source": [
    "accuracy_score(np.array(preds), np.array(y_test))"
   ]
  },
  {
   "cell_type": "code",
   "execution_count": 304,
   "id": "dca76c6c",
   "metadata": {},
   "outputs": [
    {
     "data": {
      "text/plain": [
       "(34416, 767)"
      ]
     },
     "execution_count": 304,
     "metadata": {},
     "output_type": "execute_result"
    }
   ],
   "source": [
    "#Get no word data:\n",
    "#WORDS DO BETTER THAN NO WORDS: \n",
    "x_train.shape"
   ]
  },
  {
   "cell_type": "code",
   "execution_count": 356,
   "id": "31b4cf63",
   "metadata": {},
   "outputs": [],
   "source": [
    "x_train_no_word = x_train.iloc[:, 0:(767-512)]\n",
    "x_val_no_word = x_val.iloc[:, 0:(767-512)]\n",
    "x_test_no_word = x_test.iloc[:, 0:(767-512)]"
   ]
  },
  {
   "cell_type": "code",
   "execution_count": 379,
   "id": "dc021249",
   "metadata": {},
   "outputs": [],
   "source": [
    "lr = LogisticRegression(random_state=0,  max_iter=1000)\n",
    "\n",
    "\n",
    "lr_fin_r.fit(x_val_no_word, y_val)\n",
    "preds_no_word = lr_fin_r.predict(x_test_no_word)"
   ]
  },
  {
   "cell_type": "code",
   "execution_count": 380,
   "id": "f7b8e2ef",
   "metadata": {},
   "outputs": [
    {
     "name": "stderr",
     "output_type": "stream",
     "text": [
      "/Users/gabemorrison/opt/anaconda3/lib/python3.9/site-packages/sklearn/metrics/_ranking.py:817: RuntimeWarning: invalid value encountered in true_divide\n",
      "  recall = tps / tps[-1]\n"
     ]
    },
    {
     "data": {
      "text/plain": [
       "nan"
      ]
     },
     "execution_count": 380,
     "metadata": {},
     "output_type": "execute_result"
    }
   ],
   "source": [
    "average_precision_score(np.array(preds_no_word), np.array(y_test))"
   ]
  },
  {
   "cell_type": "code",
   "execution_count": 381,
   "id": "257f89d7",
   "metadata": {},
   "outputs": [
    {
     "data": {
      "text/plain": [
       "0.9591214154972544"
      ]
     },
     "execution_count": 381,
     "metadata": {},
     "output_type": "execute_result"
    }
   ],
   "source": [
    "accuracy_score(np.array(preds_no_word), np.array(y_test))"
   ]
  },
  {
   "cell_type": "code",
   "execution_count": null,
   "id": "6356d20c",
   "metadata": {},
   "outputs": [],
   "source": []
  },
  {
   "cell_type": "code",
   "execution_count": 239,
   "id": "0a7c6f75",
   "metadata": {},
   "outputs": [
    {
     "name": "stdout",
     "output_type": "stream",
     "text": [
      "\u001b[34mbc_512_los_read\u001b[m\u001b[m  \u001b[34mbc_512_read\u001b[m\u001b[m      \u001b[34mroberta_los_read\u001b[m\u001b[m \u001b[34mroberta_read\u001b[m\u001b[m\r\n"
     ]
    }
   ],
   "source": [
    "!ls data/merged_data"
   ]
  },
  {
   "cell_type": "code",
   "execution_count": null,
   "id": "8169c6f7",
   "metadata": {},
   "outputs": [],
   "source": [
    "#Bioclinical BERT Runs:"
   ]
  },
  {
   "cell_type": "code",
   "execution_count": 336,
   "id": "f8625015",
   "metadata": {},
   "outputs": [
    {
     "data": {
      "text/plain": [
       "['bc_512_los_read_x_test.pkl',\n",
       " 'bc_512_los_read_x_train.pkl',\n",
       " 'bc_512_los_read_x_val.pkl',\n",
       " 'bc_512_los_read_y_test.pkl',\n",
       " 'bc_512_los_read_y_train.pkl',\n",
       " 'bc_512_los_read_y_val.pkl']"
      ]
     },
     "execution_count": 336,
     "metadata": {},
     "output_type": "execute_result"
    }
   ],
   "source": [
    "data_dir_b = data_dir + \"/bc_512_los_read\"\n",
    "onlyfiles_b = [f for f in listdir(data_dir_b) if isfile(join(data_dir_b, f))]\n",
    "onlyfiles_b.sort()\n",
    "onlyfiles_b"
   ]
  },
  {
   "cell_type": "code",
   "execution_count": 337,
   "id": "762c3fb5",
   "metadata": {},
   "outputs": [],
   "source": [
    "x_test_unclean_b = pd.read_pickle(data_dir_b + \"/\" + onlyfiles_b[0])\n",
    "x_train_unclean_b = pd.read_pickle(data_dir_b + \"/\" + onlyfiles_b[1])\n",
    "x_val_unclean_b = pd.read_pickle(data_dir_b + \"/\" + onlyfiles_b[2])\n",
    "y_test_unclean_b = pd.read_pickle(data_dir_b + \"/\" + onlyfiles_b[3])\n",
    "y_train_unclean_b = pd.read_pickle(data_dir_b + \"/\" + onlyfiles_b[4])\n",
    "y_val_unclean_b = pd.read_pickle(data_dir_b + \"/\" + onlyfiles_b[5])"
   ]
  },
  {
   "cell_type": "code",
   "execution_count": 338,
   "id": "65e2df81",
   "metadata": {},
   "outputs": [],
   "source": [
    "x_train_b = process_x(x_train_unclean_b, \"bc_512\")\n",
    "x_val_b = process_x(x_val_unclean_b, \"bc_512\")\n",
    "x_test_b = process_x(x_test_unclean_b, \"bc_512\")\n",
    "x_train_long_b = pd.concat([x_train_b, x_val_b], axis = 0)\n",
    "\n"
   ]
  },
  {
   "cell_type": "code",
   "execution_count": 255,
   "id": "76453c70",
   "metadata": {},
   "outputs": [
    {
     "data": {
      "text/plain": [
       "(45889, 767)"
      ]
     },
     "execution_count": 255,
     "metadata": {},
     "output_type": "execute_result"
    }
   ],
   "source": [
    "x_train_long_b.shape"
   ]
  },
  {
   "cell_type": "code",
   "execution_count": 346,
   "id": "1de21cfd",
   "metadata": {},
   "outputs": [
    {
     "name": "stderr",
     "output_type": "stream",
     "text": [
      "/Users/gabemorrison/opt/anaconda3/lib/python3.9/site-packages/sklearn/linear_model/_logistic.py:1322: UserWarning: Setting penalty='none' will ignore the C and l1_ratio parameters\n",
      "  warnings.warn(\n",
      "/Users/gabemorrison/opt/anaconda3/lib/python3.9/site-packages/sklearn/linear_model/_logistic.py:1322: UserWarning: Setting penalty='none' will ignore the C and l1_ratio parameters\n",
      "  warnings.warn(\n",
      "/Users/gabemorrison/opt/anaconda3/lib/python3.9/site-packages/sklearn/linear_model/_logistic.py:1322: UserWarning: Setting penalty='none' will ignore the C and l1_ratio parameters\n",
      "  warnings.warn(\n",
      "/Users/gabemorrison/opt/anaconda3/lib/python3.9/site-packages/sklearn/linear_model/_logistic.py:1322: UserWarning: Setting penalty='none' will ignore the C and l1_ratio parameters\n",
      "  warnings.warn(\n",
      "/Users/gabemorrison/opt/anaconda3/lib/python3.9/site-packages/sklearn/linear_model/_logistic.py:1322: UserWarning: Setting penalty='none' will ignore the C and l1_ratio parameters\n",
      "  warnings.warn(\n",
      "/Users/gabemorrison/opt/anaconda3/lib/python3.9/site-packages/sklearn/linear_model/_logistic.py:1322: UserWarning: Setting penalty='none' will ignore the C and l1_ratio parameters\n",
      "  warnings.warn(\n",
      "/Users/gabemorrison/opt/anaconda3/lib/python3.9/site-packages/sklearn/linear_model/_logistic.py:1322: UserWarning: Setting penalty='none' will ignore the C and l1_ratio parameters\n",
      "  warnings.warn(\n",
      "/Users/gabemorrison/opt/anaconda3/lib/python3.9/site-packages/sklearn/linear_model/_logistic.py:1322: UserWarning: Setting penalty='none' will ignore the C and l1_ratio parameters\n",
      "  warnings.warn(\n",
      "/Users/gabemorrison/opt/anaconda3/lib/python3.9/site-packages/sklearn/linear_model/_logistic.py:1322: UserWarning: Setting penalty='none' will ignore the C and l1_ratio parameters\n",
      "  warnings.warn(\n",
      "/Users/gabemorrison/opt/anaconda3/lib/python3.9/site-packages/sklearn/linear_model/_logistic.py:1322: UserWarning: Setting penalty='none' will ignore the C and l1_ratio parameters\n",
      "  warnings.warn(\n",
      "/Users/gabemorrison/opt/anaconda3/lib/python3.9/site-packages/sklearn/linear_model/_logistic.py:1322: UserWarning: Setting penalty='none' will ignore the C and l1_ratio parameters\n",
      "  warnings.warn(\n",
      "/Users/gabemorrison/opt/anaconda3/lib/python3.9/site-packages/sklearn/linear_model/_logistic.py:1322: UserWarning: Setting penalty='none' will ignore the C and l1_ratio parameters\n",
      "  warnings.warn(\n",
      "/Users/gabemorrison/opt/anaconda3/lib/python3.9/site-packages/sklearn/linear_model/_logistic.py:1322: UserWarning: Setting penalty='none' will ignore the C and l1_ratio parameters\n",
      "  warnings.warn(\n",
      "/Users/gabemorrison/opt/anaconda3/lib/python3.9/site-packages/sklearn/linear_model/_logistic.py:1322: UserWarning: Setting penalty='none' will ignore the C and l1_ratio parameters\n",
      "  warnings.warn(\n",
      "/Users/gabemorrison/opt/anaconda3/lib/python3.9/site-packages/sklearn/linear_model/_logistic.py:1322: UserWarning: Setting penalty='none' will ignore the C and l1_ratio parameters\n",
      "  warnings.warn(\n",
      "/Users/gabemorrison/opt/anaconda3/lib/python3.9/site-packages/sklearn/linear_model/_logistic.py:1322: UserWarning: Setting penalty='none' will ignore the C and l1_ratio parameters\n",
      "  warnings.warn(\n",
      "/Users/gabemorrison/opt/anaconda3/lib/python3.9/site-packages/sklearn/linear_model/_logistic.py:1322: UserWarning: Setting penalty='none' will ignore the C and l1_ratio parameters\n",
      "  warnings.warn(\n",
      "/Users/gabemorrison/opt/anaconda3/lib/python3.9/site-packages/sklearn/linear_model/_logistic.py:1322: UserWarning: Setting penalty='none' will ignore the C and l1_ratio parameters\n",
      "  warnings.warn(\n",
      "/Users/gabemorrison/opt/anaconda3/lib/python3.9/site-packages/sklearn/linear_model/_logistic.py:1322: UserWarning: Setting penalty='none' will ignore the C and l1_ratio parameters\n",
      "  warnings.warn(\n",
      "/Users/gabemorrison/opt/anaconda3/lib/python3.9/site-packages/sklearn/linear_model/_logistic.py:1322: UserWarning: Setting penalty='none' will ignore the C and l1_ratio parameters\n",
      "  warnings.warn(\n",
      "/Users/gabemorrison/opt/anaconda3/lib/python3.9/site-packages/sklearn/linear_model/_logistic.py:1322: UserWarning: Setting penalty='none' will ignore the C and l1_ratio parameters\n",
      "  warnings.warn(\n",
      "/Users/gabemorrison/opt/anaconda3/lib/python3.9/site-packages/sklearn/linear_model/_logistic.py:1322: UserWarning: Setting penalty='none' will ignore the C and l1_ratio parameters\n",
      "  warnings.warn(\n",
      "/Users/gabemorrison/opt/anaconda3/lib/python3.9/site-packages/sklearn/linear_model/_logistic.py:1322: UserWarning: Setting penalty='none' will ignore the C and l1_ratio parameters\n",
      "  warnings.warn(\n",
      "/Users/gabemorrison/opt/anaconda3/lib/python3.9/site-packages/sklearn/linear_model/_logistic.py:1322: UserWarning: Setting penalty='none' will ignore the C and l1_ratio parameters\n",
      "  warnings.warn(\n",
      "/Users/gabemorrison/opt/anaconda3/lib/python3.9/site-packages/sklearn/linear_model/_logistic.py:1322: UserWarning: Setting penalty='none' will ignore the C and l1_ratio parameters\n",
      "  warnings.warn(\n",
      "/Users/gabemorrison/opt/anaconda3/lib/python3.9/site-packages/sklearn/linear_model/_logistic.py:1322: UserWarning: Setting penalty='none' will ignore the C and l1_ratio parameters\n",
      "  warnings.warn(\n",
      "/Users/gabemorrison/opt/anaconda3/lib/python3.9/site-packages/sklearn/linear_model/_logistic.py:1322: UserWarning: Setting penalty='none' will ignore the C and l1_ratio parameters\n",
      "  warnings.warn(\n",
      "/Users/gabemorrison/opt/anaconda3/lib/python3.9/site-packages/sklearn/linear_model/_logistic.py:1322: UserWarning: Setting penalty='none' will ignore the C and l1_ratio parameters\n",
      "  warnings.warn(\n",
      "/Users/gabemorrison/opt/anaconda3/lib/python3.9/site-packages/sklearn/linear_model/_logistic.py:1322: UserWarning: Setting penalty='none' will ignore the C and l1_ratio parameters\n",
      "  warnings.warn(\n",
      "/Users/gabemorrison/opt/anaconda3/lib/python3.9/site-packages/sklearn/linear_model/_logistic.py:1322: UserWarning: Setting penalty='none' will ignore the C and l1_ratio parameters\n",
      "  warnings.warn(\n",
      "/Users/gabemorrison/opt/anaconda3/lib/python3.9/site-packages/sklearn/linear_model/_logistic.py:1322: UserWarning: Setting penalty='none' will ignore the C and l1_ratio parameters\n",
      "  warnings.warn(\n",
      "/Users/gabemorrison/opt/anaconda3/lib/python3.9/site-packages/sklearn/linear_model/_logistic.py:1322: UserWarning: Setting penalty='none' will ignore the C and l1_ratio parameters\n",
      "  warnings.warn(\n",
      "/Users/gabemorrison/opt/anaconda3/lib/python3.9/site-packages/sklearn/linear_model/_logistic.py:1322: UserWarning: Setting penalty='none' will ignore the C and l1_ratio parameters\n",
      "  warnings.warn(\n",
      "/Users/gabemorrison/opt/anaconda3/lib/python3.9/site-packages/sklearn/linear_model/_logistic.py:1322: UserWarning: Setting penalty='none' will ignore the C and l1_ratio parameters\n",
      "  warnings.warn(\n",
      "/Users/gabemorrison/opt/anaconda3/lib/python3.9/site-packages/sklearn/linear_model/_logistic.py:1322: UserWarning: Setting penalty='none' will ignore the C and l1_ratio parameters\n",
      "  warnings.warn(\n",
      "/Users/gabemorrison/opt/anaconda3/lib/python3.9/site-packages/sklearn/linear_model/_logistic.py:1322: UserWarning: Setting penalty='none' will ignore the C and l1_ratio parameters\n",
      "  warnings.warn(\n",
      "/Users/gabemorrison/opt/anaconda3/lib/python3.9/site-packages/sklearn/linear_model/_logistic.py:1322: UserWarning: Setting penalty='none' will ignore the C and l1_ratio parameters\n",
      "  warnings.warn(\n",
      "/Users/gabemorrison/opt/anaconda3/lib/python3.9/site-packages/sklearn/linear_model/_logistic.py:1322: UserWarning: Setting penalty='none' will ignore the C and l1_ratio parameters\n",
      "  warnings.warn(\n",
      "/Users/gabemorrison/opt/anaconda3/lib/python3.9/site-packages/sklearn/linear_model/_logistic.py:1322: UserWarning: Setting penalty='none' will ignore the C and l1_ratio parameters\n",
      "  warnings.warn(\n",
      "/Users/gabemorrison/opt/anaconda3/lib/python3.9/site-packages/sklearn/linear_model/_logistic.py:1322: UserWarning: Setting penalty='none' will ignore the C and l1_ratio parameters\n",
      "  warnings.warn(\n",
      "/Users/gabemorrison/opt/anaconda3/lib/python3.9/site-packages/sklearn/linear_model/_logistic.py:1322: UserWarning: Setting penalty='none' will ignore the C and l1_ratio parameters\n",
      "  warnings.warn(\n",
      "/Users/gabemorrison/opt/anaconda3/lib/python3.9/site-packages/sklearn/linear_model/_logistic.py:1322: UserWarning: Setting penalty='none' will ignore the C and l1_ratio parameters\n",
      "  warnings.warn(\n"
     ]
    },
    {
     "name": "stderr",
     "output_type": "stream",
     "text": [
      "/Users/gabemorrison/opt/anaconda3/lib/python3.9/site-packages/sklearn/linear_model/_logistic.py:1322: UserWarning: Setting penalty='none' will ignore the C and l1_ratio parameters\n",
      "  warnings.warn(\n",
      "/Users/gabemorrison/opt/anaconda3/lib/python3.9/site-packages/sklearn/linear_model/_logistic.py:1322: UserWarning: Setting penalty='none' will ignore the C and l1_ratio parameters\n",
      "  warnings.warn(\n",
      "/Users/gabemorrison/opt/anaconda3/lib/python3.9/site-packages/sklearn/linear_model/_logistic.py:1322: UserWarning: Setting penalty='none' will ignore the C and l1_ratio parameters\n",
      "  warnings.warn(\n",
      "/Users/gabemorrison/opt/anaconda3/lib/python3.9/site-packages/sklearn/linear_model/_logistic.py:1322: UserWarning: Setting penalty='none' will ignore the C and l1_ratio parameters\n",
      "  warnings.warn(\n",
      "/Users/gabemorrison/opt/anaconda3/lib/python3.9/site-packages/sklearn/linear_model/_logistic.py:1322: UserWarning: Setting penalty='none' will ignore the C and l1_ratio parameters\n",
      "  warnings.warn(\n",
      "/Users/gabemorrison/opt/anaconda3/lib/python3.9/site-packages/sklearn/linear_model/_logistic.py:1322: UserWarning: Setting penalty='none' will ignore the C and l1_ratio parameters\n",
      "  warnings.warn(\n",
      "/Users/gabemorrison/opt/anaconda3/lib/python3.9/site-packages/sklearn/linear_model/_logistic.py:1322: UserWarning: Setting penalty='none' will ignore the C and l1_ratio parameters\n",
      "  warnings.warn(\n",
      "/Users/gabemorrison/opt/anaconda3/lib/python3.9/site-packages/sklearn/linear_model/_logistic.py:1322: UserWarning: Setting penalty='none' will ignore the C and l1_ratio parameters\n",
      "  warnings.warn(\n",
      "/Users/gabemorrison/opt/anaconda3/lib/python3.9/site-packages/sklearn/linear_model/_logistic.py:1322: UserWarning: Setting penalty='none' will ignore the C and l1_ratio parameters\n",
      "  warnings.warn(\n"
     ]
    }
   ],
   "source": [
    "#Logistic Regression:\n",
    "lr_long = LogisticRegression(random_state=0,  max_iter=5000)\n",
    "lr_grid_b = GridSearchCV(estimator = lr_long,\n",
    "                       param_grid = param_dict,\n",
    "                       cv = cv,\n",
    "                       scoring = \"average_precision\")\n",
    "grid_res_b = lr_grid_b.fit(x_train_b, y_train)\n",
    "\n",
    "\n"
   ]
  },
  {
   "cell_type": "code",
   "execution_count": 347,
   "id": "7dcd900f",
   "metadata": {},
   "outputs": [
    {
     "name": "stdout",
     "output_type": "stream",
     "text": [
      "Best: 0.060113 using {'C': 1000, 'penalty': 'none'}\n"
     ]
    }
   ],
   "source": [
    "print(\"Best: %f using %s\" % (grid_res_b.best_score_, grid_res_b.best_params_))"
   ]
  },
  {
   "cell_type": "code",
   "execution_count": 384,
   "id": "3ffe7d9b",
   "metadata": {},
   "outputs": [],
   "source": [
    "lr_fin_b = LogisticRegression(random_state=0,  max_iter=5000, penalty = 'none')\n",
    "lr_fin_b.fit(x_val_b, y_val)\n",
    "preds_b = lr_fin_b.predict(x_test_b)"
   ]
  },
  {
   "cell_type": "code",
   "execution_count": 386,
   "id": "73b4e67b",
   "metadata": {},
   "outputs": [
    {
     "data": {
      "text/plain": [
       "26"
      ]
     },
     "execution_count": 386,
     "metadata": {},
     "output_type": "execute_result"
    }
   ],
   "source": [
    "preds_b.sum()"
   ]
  },
  {
   "cell_type": "code",
   "execution_count": 387,
   "id": "139a6e6b",
   "metadata": {},
   "outputs": [
    {
     "data": {
      "text/plain": [
       "0.0024198980424563923"
      ]
     },
     "execution_count": 387,
     "metadata": {},
     "output_type": "execute_result"
    }
   ],
   "source": [
    "average_precision_score(np.array(preds_b), np.array(y_test))"
   ]
  },
  {
   "cell_type": "code",
   "execution_count": 388,
   "id": "9013fd57",
   "metadata": {},
   "outputs": [
    {
     "data": {
      "text/plain": [
       "0.9572038699555478"
      ]
     },
     "execution_count": 388,
     "metadata": {},
     "output_type": "execute_result"
    }
   ],
   "source": [
    "accuracy_score(np.array(preds_b), np.array(y_test))"
   ]
  },
  {
   "cell_type": "code",
   "execution_count": 389,
   "id": "3edf1b5f",
   "metadata": {},
   "outputs": [
    {
     "data": {
      "text/plain": [
       "(34416, 767)"
      ]
     },
     "execution_count": 389,
     "metadata": {},
     "output_type": "execute_result"
    }
   ],
   "source": [
    "x_train_b.shape"
   ]
  },
  {
   "cell_type": "code",
   "execution_count": 359,
   "id": "1d04e235",
   "metadata": {},
   "outputs": [],
   "source": [
    "x_train_b_no_word = x_train_b.iloc[:, 0:(767-512)]\n",
    "x_val_b_no_word = x_val_b.iloc[:, 0:(767-512)]\n",
    "x_test_b_no_word = x_test_b.iloc[:, 0:(767-512)]"
   ]
  },
  {
   "cell_type": "code",
   "execution_count": 361,
   "id": "9c0106be",
   "metadata": {},
   "outputs": [
    {
     "data": {
      "text/html": [
       "<div>\n",
       "<style scoped>\n",
       "    .dataframe tbody tr th:only-of-type {\n",
       "        vertical-align: middle;\n",
       "    }\n",
       "\n",
       "    .dataframe tbody tr th {\n",
       "        vertical-align: top;\n",
       "    }\n",
       "\n",
       "    .dataframe thead th {\n",
       "        text-align: right;\n",
       "    }\n",
       "</style>\n",
       "<table border=\"1\" class=\"dataframe\">\n",
       "  <thead>\n",
       "    <tr style=\"text-align: right;\">\n",
       "      <th></th>\n",
       "      <th>subject_id</th>\n",
       "      <th>hadm_id</th>\n",
       "      <th>is_discharge</th>\n",
       "      <th>is_nursing</th>\n",
       "      <th>is_other</th>\n",
       "      <th>unnamed: 0</th>\n",
       "      <th>tsurg</th>\n",
       "      <th>med</th>\n",
       "      <th>unnamed: 5</th>\n",
       "      <th>cmed</th>\n",
       "      <th>...</th>\n",
       "      <th>ethnicity_patient declined to answer</th>\n",
       "      <th>ethnicity_portuguese</th>\n",
       "      <th>ethnicity_south american</th>\n",
       "      <th>ethnicity_unable to obtain</th>\n",
       "      <th>ethnicity_unknown/not specified</th>\n",
       "      <th>ethnicity_white</th>\n",
       "      <th>ethnicity_white - brazilian</th>\n",
       "      <th>ethnicity_white - eastern european</th>\n",
       "      <th>ethnicity_white - other european</th>\n",
       "      <th>ethnicity_white - russian</th>\n",
       "    </tr>\n",
       "  </thead>\n",
       "  <tbody>\n",
       "    <tr>\n",
       "      <th>6249</th>\n",
       "      <td>8477</td>\n",
       "      <td>154902</td>\n",
       "      <td>1</td>\n",
       "      <td>0</td>\n",
       "      <td>0</td>\n",
       "      <td>10135</td>\n",
       "      <td>0</td>\n",
       "      <td>0</td>\n",
       "      <td>0</td>\n",
       "      <td>0</td>\n",
       "      <td>...</td>\n",
       "      <td>0</td>\n",
       "      <td>0</td>\n",
       "      <td>0</td>\n",
       "      <td>0</td>\n",
       "      <td>0</td>\n",
       "      <td>1</td>\n",
       "      <td>0</td>\n",
       "      <td>0</td>\n",
       "      <td>0</td>\n",
       "      <td>0</td>\n",
       "    </tr>\n",
       "    <tr>\n",
       "      <th>38563</th>\n",
       "      <td>81212</td>\n",
       "      <td>130156</td>\n",
       "      <td>1</td>\n",
       "      <td>0</td>\n",
       "      <td>0</td>\n",
       "      <td>51868</td>\n",
       "      <td>0</td>\n",
       "      <td>1</td>\n",
       "      <td>0</td>\n",
       "      <td>0</td>\n",
       "      <td>...</td>\n",
       "      <td>0</td>\n",
       "      <td>0</td>\n",
       "      <td>0</td>\n",
       "      <td>0</td>\n",
       "      <td>0</td>\n",
       "      <td>1</td>\n",
       "      <td>0</td>\n",
       "      <td>0</td>\n",
       "      <td>0</td>\n",
       "      <td>0</td>\n",
       "    </tr>\n",
       "    <tr>\n",
       "      <th>36134</th>\n",
       "      <td>94049</td>\n",
       "      <td>183737</td>\n",
       "      <td>1</td>\n",
       "      <td>0</td>\n",
       "      <td>0</td>\n",
       "      <td>55875</td>\n",
       "      <td>0</td>\n",
       "      <td>1</td>\n",
       "      <td>0</td>\n",
       "      <td>0</td>\n",
       "      <td>...</td>\n",
       "      <td>0</td>\n",
       "      <td>0</td>\n",
       "      <td>0</td>\n",
       "      <td>0</td>\n",
       "      <td>0</td>\n",
       "      <td>1</td>\n",
       "      <td>0</td>\n",
       "      <td>0</td>\n",
       "      <td>0</td>\n",
       "      <td>0</td>\n",
       "    </tr>\n",
       "    <tr>\n",
       "      <th>53051</th>\n",
       "      <td>49434</td>\n",
       "      <td>146834</td>\n",
       "      <td>0</td>\n",
       "      <td>1</td>\n",
       "      <td>0</td>\n",
       "      <td>41817</td>\n",
       "      <td>0</td>\n",
       "      <td>1</td>\n",
       "      <td>0</td>\n",
       "      <td>0</td>\n",
       "      <td>...</td>\n",
       "      <td>0</td>\n",
       "      <td>0</td>\n",
       "      <td>0</td>\n",
       "      <td>1</td>\n",
       "      <td>0</td>\n",
       "      <td>0</td>\n",
       "      <td>0</td>\n",
       "      <td>0</td>\n",
       "      <td>0</td>\n",
       "      <td>0</td>\n",
       "    </tr>\n",
       "    <tr>\n",
       "      <th>21180</th>\n",
       "      <td>16590</td>\n",
       "      <td>151831</td>\n",
       "      <td>1</td>\n",
       "      <td>0</td>\n",
       "      <td>0</td>\n",
       "      <td>19796</td>\n",
       "      <td>0</td>\n",
       "      <td>0</td>\n",
       "      <td>0</td>\n",
       "      <td>0</td>\n",
       "      <td>...</td>\n",
       "      <td>0</td>\n",
       "      <td>0</td>\n",
       "      <td>0</td>\n",
       "      <td>0</td>\n",
       "      <td>0</td>\n",
       "      <td>1</td>\n",
       "      <td>0</td>\n",
       "      <td>0</td>\n",
       "      <td>0</td>\n",
       "      <td>0</td>\n",
       "    </tr>\n",
       "    <tr>\n",
       "      <th>...</th>\n",
       "      <td>...</td>\n",
       "      <td>...</td>\n",
       "      <td>...</td>\n",
       "      <td>...</td>\n",
       "      <td>...</td>\n",
       "      <td>...</td>\n",
       "      <td>...</td>\n",
       "      <td>...</td>\n",
       "      <td>...</td>\n",
       "      <td>...</td>\n",
       "      <td>...</td>\n",
       "      <td>...</td>\n",
       "      <td>...</td>\n",
       "      <td>...</td>\n",
       "      <td>...</td>\n",
       "      <td>...</td>\n",
       "      <td>...</td>\n",
       "      <td>...</td>\n",
       "      <td>...</td>\n",
       "      <td>...</td>\n",
       "      <td>...</td>\n",
       "    </tr>\n",
       "    <tr>\n",
       "      <th>34058</th>\n",
       "      <td>6133</td>\n",
       "      <td>111487</td>\n",
       "      <td>1</td>\n",
       "      <td>0</td>\n",
       "      <td>0</td>\n",
       "      <td>7339</td>\n",
       "      <td>0</td>\n",
       "      <td>1</td>\n",
       "      <td>0</td>\n",
       "      <td>0</td>\n",
       "      <td>...</td>\n",
       "      <td>0</td>\n",
       "      <td>0</td>\n",
       "      <td>0</td>\n",
       "      <td>0</td>\n",
       "      <td>0</td>\n",
       "      <td>1</td>\n",
       "      <td>0</td>\n",
       "      <td>0</td>\n",
       "      <td>0</td>\n",
       "      <td>0</td>\n",
       "    </tr>\n",
       "    <tr>\n",
       "      <th>46834</th>\n",
       "      <td>56854</td>\n",
       "      <td>109829</td>\n",
       "      <td>1</td>\n",
       "      <td>0</td>\n",
       "      <td>0</td>\n",
       "      <td>44220</td>\n",
       "      <td>0</td>\n",
       "      <td>0</td>\n",
       "      <td>0</td>\n",
       "      <td>0</td>\n",
       "      <td>...</td>\n",
       "      <td>0</td>\n",
       "      <td>0</td>\n",
       "      <td>0</td>\n",
       "      <td>0</td>\n",
       "      <td>0</td>\n",
       "      <td>1</td>\n",
       "      <td>0</td>\n",
       "      <td>0</td>\n",
       "      <td>0</td>\n",
       "      <td>0</td>\n",
       "    </tr>\n",
       "    <tr>\n",
       "      <th>17909</th>\n",
       "      <td>7513</td>\n",
       "      <td>138956</td>\n",
       "      <td>1</td>\n",
       "      <td>0</td>\n",
       "      <td>0</td>\n",
       "      <td>8993</td>\n",
       "      <td>0</td>\n",
       "      <td>0</td>\n",
       "      <td>0</td>\n",
       "      <td>0</td>\n",
       "      <td>...</td>\n",
       "      <td>0</td>\n",
       "      <td>0</td>\n",
       "      <td>0</td>\n",
       "      <td>0</td>\n",
       "      <td>0</td>\n",
       "      <td>1</td>\n",
       "      <td>0</td>\n",
       "      <td>0</td>\n",
       "      <td>0</td>\n",
       "      <td>0</td>\n",
       "    </tr>\n",
       "    <tr>\n",
       "      <th>42301</th>\n",
       "      <td>66058</td>\n",
       "      <td>134558</td>\n",
       "      <td>1</td>\n",
       "      <td>0</td>\n",
       "      <td>0</td>\n",
       "      <td>47159</td>\n",
       "      <td>0</td>\n",
       "      <td>0</td>\n",
       "      <td>0</td>\n",
       "      <td>0</td>\n",
       "      <td>...</td>\n",
       "      <td>0</td>\n",
       "      <td>0</td>\n",
       "      <td>0</td>\n",
       "      <td>0</td>\n",
       "      <td>0</td>\n",
       "      <td>1</td>\n",
       "      <td>0</td>\n",
       "      <td>0</td>\n",
       "      <td>0</td>\n",
       "      <td>0</td>\n",
       "    </tr>\n",
       "    <tr>\n",
       "      <th>21145</th>\n",
       "      <td>7171</td>\n",
       "      <td>126813</td>\n",
       "      <td>1</td>\n",
       "      <td>0</td>\n",
       "      <td>0</td>\n",
       "      <td>8560</td>\n",
       "      <td>0</td>\n",
       "      <td>0</td>\n",
       "      <td>0</td>\n",
       "      <td>0</td>\n",
       "      <td>...</td>\n",
       "      <td>0</td>\n",
       "      <td>0</td>\n",
       "      <td>0</td>\n",
       "      <td>0</td>\n",
       "      <td>0</td>\n",
       "      <td>0</td>\n",
       "      <td>0</td>\n",
       "      <td>0</td>\n",
       "      <td>0</td>\n",
       "      <td>0</td>\n",
       "    </tr>\n",
       "  </tbody>\n",
       "</table>\n",
       "<p>34416 rows × 255 columns</p>\n",
       "</div>"
      ],
      "text/plain": [
       "       subject_id  hadm_id  is_discharge  is_nursing  is_other  unnamed: 0  \\\n",
       "6249         8477   154902             1           0         0       10135   \n",
       "38563       81212   130156             1           0         0       51868   \n",
       "36134       94049   183737             1           0         0       55875   \n",
       "53051       49434   146834             0           1         0       41817   \n",
       "21180       16590   151831             1           0         0       19796   \n",
       "...           ...      ...           ...         ...       ...         ...   \n",
       "34058        6133   111487             1           0         0        7339   \n",
       "46834       56854   109829             1           0         0       44220   \n",
       "17909        7513   138956             1           0         0        8993   \n",
       "42301       66058   134558             1           0         0       47159   \n",
       "21145        7171   126813             1           0         0        8560   \n",
       "\n",
       "       tsurg  med  unnamed: 5  cmed  ...  \\\n",
       "6249       0    0           0     0  ...   \n",
       "38563      0    1           0     0  ...   \n",
       "36134      0    1           0     0  ...   \n",
       "53051      0    1           0     0  ...   \n",
       "21180      0    0           0     0  ...   \n",
       "...      ...  ...         ...   ...  ...   \n",
       "34058      0    1           0     0  ...   \n",
       "46834      0    0           0     0  ...   \n",
       "17909      0    0           0     0  ...   \n",
       "42301      0    0           0     0  ...   \n",
       "21145      0    0           0     0  ...   \n",
       "\n",
       "       ethnicity_patient declined to answer  ethnicity_portuguese  \\\n",
       "6249                                      0                     0   \n",
       "38563                                     0                     0   \n",
       "36134                                     0                     0   \n",
       "53051                                     0                     0   \n",
       "21180                                     0                     0   \n",
       "...                                     ...                   ...   \n",
       "34058                                     0                     0   \n",
       "46834                                     0                     0   \n",
       "17909                                     0                     0   \n",
       "42301                                     0                     0   \n",
       "21145                                     0                     0   \n",
       "\n",
       "       ethnicity_south american  ethnicity_unable to obtain  \\\n",
       "6249                          0                           0   \n",
       "38563                         0                           0   \n",
       "36134                         0                           0   \n",
       "53051                         0                           1   \n",
       "21180                         0                           0   \n",
       "...                         ...                         ...   \n",
       "34058                         0                           0   \n",
       "46834                         0                           0   \n",
       "17909                         0                           0   \n",
       "42301                         0                           0   \n",
       "21145                         0                           0   \n",
       "\n",
       "       ethnicity_unknown/not specified  ethnicity_white  \\\n",
       "6249                                 0                1   \n",
       "38563                                0                1   \n",
       "36134                                0                1   \n",
       "53051                                0                0   \n",
       "21180                                0                1   \n",
       "...                                ...              ...   \n",
       "34058                                0                1   \n",
       "46834                                0                1   \n",
       "17909                                0                1   \n",
       "42301                                0                1   \n",
       "21145                                0                0   \n",
       "\n",
       "       ethnicity_white - brazilian  ethnicity_white - eastern european  \\\n",
       "6249                             0                                   0   \n",
       "38563                            0                                   0   \n",
       "36134                            0                                   0   \n",
       "53051                            0                                   0   \n",
       "21180                            0                                   0   \n",
       "...                            ...                                 ...   \n",
       "34058                            0                                   0   \n",
       "46834                            0                                   0   \n",
       "17909                            0                                   0   \n",
       "42301                            0                                   0   \n",
       "21145                            0                                   0   \n",
       "\n",
       "       ethnicity_white - other european  ethnicity_white - russian  \n",
       "6249                                  0                          0  \n",
       "38563                                 0                          0  \n",
       "36134                                 0                          0  \n",
       "53051                                 0                          0  \n",
       "21180                                 0                          0  \n",
       "...                                 ...                        ...  \n",
       "34058                                 0                          0  \n",
       "46834                                 0                          0  \n",
       "17909                                 0                          0  \n",
       "42301                                 0                          0  \n",
       "21145                                 0                          0  \n",
       "\n",
       "[34416 rows x 255 columns]"
      ]
     },
     "execution_count": 361,
     "metadata": {},
     "output_type": "execute_result"
    }
   ],
   "source": [
    "x_train_b_no_word"
   ]
  },
  {
   "cell_type": "code",
   "execution_count": 362,
   "id": "95e8c24e",
   "metadata": {},
   "outputs": [
    {
     "name": "stderr",
     "output_type": "stream",
     "text": [
      "/Users/gabemorrison/opt/anaconda3/lib/python3.9/site-packages/sklearn/linear_model/_logistic.py:1322: UserWarning: Setting penalty='none' will ignore the C and l1_ratio parameters\n",
      "  warnings.warn(\n",
      "/Users/gabemorrison/opt/anaconda3/lib/python3.9/site-packages/sklearn/linear_model/_logistic.py:1322: UserWarning: Setting penalty='none' will ignore the C and l1_ratio parameters\n",
      "  warnings.warn(\n",
      "/Users/gabemorrison/opt/anaconda3/lib/python3.9/site-packages/sklearn/linear_model/_logistic.py:1322: UserWarning: Setting penalty='none' will ignore the C and l1_ratio parameters\n",
      "  warnings.warn(\n",
      "/Users/gabemorrison/opt/anaconda3/lib/python3.9/site-packages/sklearn/linear_model/_logistic.py:1322: UserWarning: Setting penalty='none' will ignore the C and l1_ratio parameters\n",
      "  warnings.warn(\n",
      "/Users/gabemorrison/opt/anaconda3/lib/python3.9/site-packages/sklearn/linear_model/_logistic.py:1322: UserWarning: Setting penalty='none' will ignore the C and l1_ratio parameters\n",
      "  warnings.warn(\n",
      "/Users/gabemorrison/opt/anaconda3/lib/python3.9/site-packages/sklearn/linear_model/_logistic.py:1322: UserWarning: Setting penalty='none' will ignore the C and l1_ratio parameters\n",
      "  warnings.warn(\n",
      "/Users/gabemorrison/opt/anaconda3/lib/python3.9/site-packages/sklearn/linear_model/_logistic.py:1322: UserWarning: Setting penalty='none' will ignore the C and l1_ratio parameters\n",
      "  warnings.warn(\n",
      "/Users/gabemorrison/opt/anaconda3/lib/python3.9/site-packages/sklearn/linear_model/_logistic.py:1322: UserWarning: Setting penalty='none' will ignore the C and l1_ratio parameters\n",
      "  warnings.warn(\n",
      "/Users/gabemorrison/opt/anaconda3/lib/python3.9/site-packages/sklearn/linear_model/_logistic.py:1322: UserWarning: Setting penalty='none' will ignore the C and l1_ratio parameters\n",
      "  warnings.warn(\n",
      "/Users/gabemorrison/opt/anaconda3/lib/python3.9/site-packages/sklearn/linear_model/_logistic.py:1322: UserWarning: Setting penalty='none' will ignore the C and l1_ratio parameters\n",
      "  warnings.warn(\n",
      "/Users/gabemorrison/opt/anaconda3/lib/python3.9/site-packages/sklearn/linear_model/_logistic.py:1322: UserWarning: Setting penalty='none' will ignore the C and l1_ratio parameters\n",
      "  warnings.warn(\n",
      "/Users/gabemorrison/opt/anaconda3/lib/python3.9/site-packages/sklearn/linear_model/_logistic.py:1322: UserWarning: Setting penalty='none' will ignore the C and l1_ratio parameters\n",
      "  warnings.warn(\n",
      "/Users/gabemorrison/opt/anaconda3/lib/python3.9/site-packages/sklearn/linear_model/_logistic.py:1322: UserWarning: Setting penalty='none' will ignore the C and l1_ratio parameters\n",
      "  warnings.warn(\n",
      "/Users/gabemorrison/opt/anaconda3/lib/python3.9/site-packages/sklearn/linear_model/_logistic.py:1322: UserWarning: Setting penalty='none' will ignore the C and l1_ratio parameters\n",
      "  warnings.warn(\n",
      "/Users/gabemorrison/opt/anaconda3/lib/python3.9/site-packages/sklearn/linear_model/_logistic.py:1322: UserWarning: Setting penalty='none' will ignore the C and l1_ratio parameters\n",
      "  warnings.warn(\n",
      "/Users/gabemorrison/opt/anaconda3/lib/python3.9/site-packages/sklearn/linear_model/_logistic.py:1322: UserWarning: Setting penalty='none' will ignore the C and l1_ratio parameters\n",
      "  warnings.warn(\n",
      "/Users/gabemorrison/opt/anaconda3/lib/python3.9/site-packages/sklearn/linear_model/_logistic.py:1322: UserWarning: Setting penalty='none' will ignore the C and l1_ratio parameters\n",
      "  warnings.warn(\n",
      "/Users/gabemorrison/opt/anaconda3/lib/python3.9/site-packages/sklearn/linear_model/_logistic.py:1322: UserWarning: Setting penalty='none' will ignore the C and l1_ratio parameters\n",
      "  warnings.warn(\n",
      "/Users/gabemorrison/opt/anaconda3/lib/python3.9/site-packages/sklearn/linear_model/_logistic.py:1322: UserWarning: Setting penalty='none' will ignore the C and l1_ratio parameters\n",
      "  warnings.warn(\n",
      "/Users/gabemorrison/opt/anaconda3/lib/python3.9/site-packages/sklearn/linear_model/_logistic.py:1322: UserWarning: Setting penalty='none' will ignore the C and l1_ratio parameters\n",
      "  warnings.warn(\n",
      "/Users/gabemorrison/opt/anaconda3/lib/python3.9/site-packages/sklearn/linear_model/_logistic.py:1322: UserWarning: Setting penalty='none' will ignore the C and l1_ratio parameters\n",
      "  warnings.warn(\n",
      "/Users/gabemorrison/opt/anaconda3/lib/python3.9/site-packages/sklearn/linear_model/_logistic.py:1322: UserWarning: Setting penalty='none' will ignore the C and l1_ratio parameters\n",
      "  warnings.warn(\n",
      "/Users/gabemorrison/opt/anaconda3/lib/python3.9/site-packages/sklearn/linear_model/_logistic.py:1322: UserWarning: Setting penalty='none' will ignore the C and l1_ratio parameters\n",
      "  warnings.warn(\n",
      "/Users/gabemorrison/opt/anaconda3/lib/python3.9/site-packages/sklearn/linear_model/_logistic.py:1322: UserWarning: Setting penalty='none' will ignore the C and l1_ratio parameters\n",
      "  warnings.warn(\n",
      "/Users/gabemorrison/opt/anaconda3/lib/python3.9/site-packages/sklearn/linear_model/_logistic.py:1322: UserWarning: Setting penalty='none' will ignore the C and l1_ratio parameters\n",
      "  warnings.warn(\n",
      "/Users/gabemorrison/opt/anaconda3/lib/python3.9/site-packages/sklearn/linear_model/_logistic.py:1322: UserWarning: Setting penalty='none' will ignore the C and l1_ratio parameters\n",
      "  warnings.warn(\n",
      "/Users/gabemorrison/opt/anaconda3/lib/python3.9/site-packages/sklearn/linear_model/_logistic.py:1322: UserWarning: Setting penalty='none' will ignore the C and l1_ratio parameters\n",
      "  warnings.warn(\n",
      "/Users/gabemorrison/opt/anaconda3/lib/python3.9/site-packages/sklearn/linear_model/_logistic.py:1322: UserWarning: Setting penalty='none' will ignore the C and l1_ratio parameters\n",
      "  warnings.warn(\n",
      "/Users/gabemorrison/opt/anaconda3/lib/python3.9/site-packages/sklearn/linear_model/_logistic.py:1322: UserWarning: Setting penalty='none' will ignore the C and l1_ratio parameters\n",
      "  warnings.warn(\n",
      "/Users/gabemorrison/opt/anaconda3/lib/python3.9/site-packages/sklearn/linear_model/_logistic.py:1322: UserWarning: Setting penalty='none' will ignore the C and l1_ratio parameters\n",
      "  warnings.warn(\n",
      "/Users/gabemorrison/opt/anaconda3/lib/python3.9/site-packages/sklearn/linear_model/_logistic.py:1322: UserWarning: Setting penalty='none' will ignore the C and l1_ratio parameters\n",
      "  warnings.warn(\n",
      "/Users/gabemorrison/opt/anaconda3/lib/python3.9/site-packages/sklearn/linear_model/_logistic.py:1322: UserWarning: Setting penalty='none' will ignore the C and l1_ratio parameters\n",
      "  warnings.warn(\n",
      "/Users/gabemorrison/opt/anaconda3/lib/python3.9/site-packages/sklearn/linear_model/_logistic.py:1322: UserWarning: Setting penalty='none' will ignore the C and l1_ratio parameters\n",
      "  warnings.warn(\n",
      "/Users/gabemorrison/opt/anaconda3/lib/python3.9/site-packages/sklearn/linear_model/_logistic.py:1322: UserWarning: Setting penalty='none' will ignore the C and l1_ratio parameters\n",
      "  warnings.warn(\n",
      "/Users/gabemorrison/opt/anaconda3/lib/python3.9/site-packages/sklearn/linear_model/_logistic.py:1322: UserWarning: Setting penalty='none' will ignore the C and l1_ratio parameters\n",
      "  warnings.warn(\n",
      "/Users/gabemorrison/opt/anaconda3/lib/python3.9/site-packages/sklearn/linear_model/_logistic.py:1322: UserWarning: Setting penalty='none' will ignore the C and l1_ratio parameters\n",
      "  warnings.warn(\n",
      "/Users/gabemorrison/opt/anaconda3/lib/python3.9/site-packages/sklearn/linear_model/_logistic.py:1322: UserWarning: Setting penalty='none' will ignore the C and l1_ratio parameters\n",
      "  warnings.warn(\n",
      "/Users/gabemorrison/opt/anaconda3/lib/python3.9/site-packages/sklearn/linear_model/_logistic.py:1322: UserWarning: Setting penalty='none' will ignore the C and l1_ratio parameters\n",
      "  warnings.warn(\n",
      "/Users/gabemorrison/opt/anaconda3/lib/python3.9/site-packages/sklearn/linear_model/_logistic.py:1322: UserWarning: Setting penalty='none' will ignore the C and l1_ratio parameters\n",
      "  warnings.warn(\n",
      "/Users/gabemorrison/opt/anaconda3/lib/python3.9/site-packages/sklearn/linear_model/_logistic.py:1322: UserWarning: Setting penalty='none' will ignore the C and l1_ratio parameters\n",
      "  warnings.warn(\n",
      "/Users/gabemorrison/opt/anaconda3/lib/python3.9/site-packages/sklearn/linear_model/_logistic.py:1322: UserWarning: Setting penalty='none' will ignore the C and l1_ratio parameters\n",
      "  warnings.warn(\n",
      "/Users/gabemorrison/opt/anaconda3/lib/python3.9/site-packages/sklearn/linear_model/_logistic.py:1322: UserWarning: Setting penalty='none' will ignore the C and l1_ratio parameters\n",
      "  warnings.warn(\n"
     ]
    },
    {
     "name": "stderr",
     "output_type": "stream",
     "text": [
      "/Users/gabemorrison/opt/anaconda3/lib/python3.9/site-packages/sklearn/linear_model/_logistic.py:1322: UserWarning: Setting penalty='none' will ignore the C and l1_ratio parameters\n",
      "  warnings.warn(\n",
      "/Users/gabemorrison/opt/anaconda3/lib/python3.9/site-packages/sklearn/linear_model/_logistic.py:1322: UserWarning: Setting penalty='none' will ignore the C and l1_ratio parameters\n",
      "  warnings.warn(\n",
      "/Users/gabemorrison/opt/anaconda3/lib/python3.9/site-packages/sklearn/linear_model/_logistic.py:1322: UserWarning: Setting penalty='none' will ignore the C and l1_ratio parameters\n",
      "  warnings.warn(\n",
      "/Users/gabemorrison/opt/anaconda3/lib/python3.9/site-packages/sklearn/linear_model/_logistic.py:1322: UserWarning: Setting penalty='none' will ignore the C and l1_ratio parameters\n",
      "  warnings.warn(\n",
      "/Users/gabemorrison/opt/anaconda3/lib/python3.9/site-packages/sklearn/linear_model/_logistic.py:1322: UserWarning: Setting penalty='none' will ignore the C and l1_ratio parameters\n",
      "  warnings.warn(\n",
      "/Users/gabemorrison/opt/anaconda3/lib/python3.9/site-packages/sklearn/linear_model/_logistic.py:1322: UserWarning: Setting penalty='none' will ignore the C and l1_ratio parameters\n",
      "  warnings.warn(\n",
      "/Users/gabemorrison/opt/anaconda3/lib/python3.9/site-packages/sklearn/linear_model/_logistic.py:1322: UserWarning: Setting penalty='none' will ignore the C and l1_ratio parameters\n",
      "  warnings.warn(\n",
      "/Users/gabemorrison/opt/anaconda3/lib/python3.9/site-packages/sklearn/linear_model/_logistic.py:1322: UserWarning: Setting penalty='none' will ignore the C and l1_ratio parameters\n",
      "  warnings.warn(\n"
     ]
    }
   ],
   "source": [
    "lr_grid_b = GridSearchCV(estimator = lr_long,\n",
    "                       param_grid = param_dict,\n",
    "                       cv = cv,\n",
    "                       scoring = \"average_precision\")\n",
    "grid_res_b = lr_grid_b.fit(x_train_b_no_word, y_train)"
   ]
  },
  {
   "cell_type": "code",
   "execution_count": 363,
   "id": "b5f589cc",
   "metadata": {},
   "outputs": [
    {
     "name": "stdout",
     "output_type": "stream",
     "text": [
      "Best: 0.045394 using {'C': 1000, 'penalty': 'l2'}\n"
     ]
    }
   ],
   "source": [
    "print(\"Best: %f using %s\" % (grid_res_b.best_score_, grid_res_b.best_params_))"
   ]
  },
  {
   "cell_type": "code",
   "execution_count": 369,
   "id": "be0b8b58",
   "metadata": {},
   "outputs": [],
   "source": [
    "lr_fin_b_no_word = LogisticRegression(random_state=0,  max_iter=5000, penalty = 'l2', C=1000)\n",
    "lr_fin_b_no_word.fit(x_val_b_no_word, y_val)\n",
    "preds_b_no_word = lr_fin_b_no_word.predict(x_test_b_no_word)"
   ]
  },
  {
   "cell_type": "code",
   "execution_count": 375,
   "id": "cac25323",
   "metadata": {},
   "outputs": [
    {
     "name": "stderr",
     "output_type": "stream",
     "text": [
      "/Users/gabemorrison/opt/anaconda3/lib/python3.9/site-packages/sklearn/metrics/_ranking.py:817: RuntimeWarning: invalid value encountered in true_divide\n",
      "  recall = tps / tps[-1]\n"
     ]
    },
    {
     "data": {
      "text/plain": [
       "nan"
      ]
     },
     "execution_count": 375,
     "metadata": {},
     "output_type": "execute_result"
    }
   ],
   "source": [
    "average_precision_score(np.array(preds_b_no_word), np.array(y_test))"
   ]
  },
  {
   "cell_type": "code",
   "execution_count": 376,
   "id": "06b3c144",
   "metadata": {},
   "outputs": [
    {
     "data": {
      "text/plain": [
       "0.9591214154972544"
      ]
     },
     "execution_count": 376,
     "metadata": {},
     "output_type": "execute_result"
    }
   ],
   "source": [
    "accuracy_score(np.array(preds_b_no_word), np.array(y_test))"
   ]
  },
  {
   "cell_type": "code",
   "execution_count": 385,
   "id": "c21eef01",
   "metadata": {},
   "outputs": [
    {
     "data": {
      "text/plain": [
       "0"
      ]
     },
     "execution_count": 385,
     "metadata": {},
     "output_type": "execute_result"
    }
   ],
   "source": [
    "preds_b_no_word.sum()"
   ]
  },
  {
   "cell_type": "code",
   "execution_count": null,
   "id": "375520f5",
   "metadata": {},
   "outputs": [],
   "source": []
  },
  {
   "cell_type": "code",
   "execution_count": null,
   "id": "919a2ca7",
   "metadata": {},
   "outputs": [],
   "source": []
  },
  {
   "cell_type": "code",
   "execution_count": null,
   "id": "5641e4bd",
   "metadata": {},
   "outputs": [],
   "source": []
  },
  {
   "cell_type": "code",
   "execution_count": 128,
   "id": "5b939203",
   "metadata": {},
   "outputs": [],
   "source": [
    "#Read:\n",
    "\n",
    "\n",
    "\n",
    "\n",
    "labels = pd.read_pickle(data_dir + 'labels_final_df.pkl')\n",
    "labels = lower_col_names(labels)\n",
    "\n",
    "non_text = pd.read_csv(data_dir + \"non_text_features.csv\", index_col=False)\n",
    "\n",
    "if \"Unnamed: 0\" in non_text.columns:\n",
    "    non_text.drop(\"Unnamed: 0\", axis =1, inplace=True)\n",
    "    \n",
    "    \n",
    "nt_labels = pd.merge(non_text, labels, on = [\"subject_id\", \"hadm_id\"])"
   ]
  },
  {
   "cell_type": "code",
   "execution_count": 85,
   "id": "ca47847a",
   "metadata": {},
   "outputs": [
    {
     "data": {
      "text/html": [
       "<div>\n",
       "<style scoped>\n",
       "    .dataframe tbody tr th:only-of-type {\n",
       "        vertical-align: middle;\n",
       "    }\n",
       "\n",
       "    .dataframe tbody tr th {\n",
       "        vertical-align: top;\n",
       "    }\n",
       "\n",
       "    .dataframe thead th {\n",
       "        text-align: right;\n",
       "    }\n",
       "</style>\n",
       "<table border=\"1\" class=\"dataframe\">\n",
       "  <thead>\n",
       "    <tr style=\"text-align: right;\">\n",
       "      <th></th>\n",
       "      <th>subject_id</th>\n",
       "      <th>hadm_id</th>\n",
       "      <th>readmit</th>\n",
       "      <th>stay_length_sec</th>\n",
       "      <th>icd9_code</th>\n",
       "    </tr>\n",
       "  </thead>\n",
       "  <tbody>\n",
       "    <tr>\n",
       "      <th>0</th>\n",
       "      <td>17</td>\n",
       "      <td>194023</td>\n",
       "      <td>0</td>\n",
       "      <td>31800</td>\n",
       "      <td>7455</td>\n",
       "    </tr>\n",
       "    <tr>\n",
       "      <th>1</th>\n",
       "      <td>17</td>\n",
       "      <td>161087</td>\n",
       "      <td>0</td>\n",
       "      <td>1740</td>\n",
       "      <td>4239</td>\n",
       "    </tr>\n",
       "    <tr>\n",
       "      <th>2</th>\n",
       "      <td>21</td>\n",
       "      <td>109451</td>\n",
       "      <td>0</td>\n",
       "      <td>14280</td>\n",
       "      <td>41071</td>\n",
       "    </tr>\n",
       "    <tr>\n",
       "      <th>3</th>\n",
       "      <td>21</td>\n",
       "      <td>111970</td>\n",
       "      <td>0</td>\n",
       "      <td>19080</td>\n",
       "      <td>0388</td>\n",
       "    </tr>\n",
       "    <tr>\n",
       "      <th>4</th>\n",
       "      <td>23</td>\n",
       "      <td>152223</td>\n",
       "      <td>0</td>\n",
       "      <td>42900</td>\n",
       "      <td>41401</td>\n",
       "    </tr>\n",
       "    <tr>\n",
       "      <th>...</th>\n",
       "      <td>...</td>\n",
       "      <td>...</td>\n",
       "      <td>...</td>\n",
       "      <td>...</td>\n",
       "      <td>...</td>\n",
       "    </tr>\n",
       "    <tr>\n",
       "      <th>58924</th>\n",
       "      <td>99985</td>\n",
       "      <td>176670</td>\n",
       "      <td>0</td>\n",
       "      <td>51480</td>\n",
       "      <td>0389</td>\n",
       "    </tr>\n",
       "    <tr>\n",
       "      <th>58925</th>\n",
       "      <td>99991</td>\n",
       "      <td>151118</td>\n",
       "      <td>0</td>\n",
       "      <td>13500</td>\n",
       "      <td>56211</td>\n",
       "    </tr>\n",
       "    <tr>\n",
       "      <th>58926</th>\n",
       "      <td>99992</td>\n",
       "      <td>197084</td>\n",
       "      <td>0</td>\n",
       "      <td>85980</td>\n",
       "      <td>9999</td>\n",
       "    </tr>\n",
       "    <tr>\n",
       "      <th>58927</th>\n",
       "      <td>99995</td>\n",
       "      <td>137810</td>\n",
       "      <td>0</td>\n",
       "      <td>18900</td>\n",
       "      <td>4414</td>\n",
       "    </tr>\n",
       "    <tr>\n",
       "      <th>58928</th>\n",
       "      <td>99999</td>\n",
       "      <td>113369</td>\n",
       "      <td>0</td>\n",
       "      <td>33300</td>\n",
       "      <td>75612</td>\n",
       "    </tr>\n",
       "  </tbody>\n",
       "</table>\n",
       "<p>58929 rows × 5 columns</p>\n",
       "</div>"
      ],
      "text/plain": [
       "       subject_id  hadm_id  readmit  stay_length_sec icd9_code\n",
       "0              17   194023        0            31800      7455\n",
       "1              17   161087        0             1740      4239\n",
       "2              21   109451        0            14280     41071\n",
       "3              21   111970        0            19080      0388\n",
       "4              23   152223        0            42900     41401\n",
       "...           ...      ...      ...              ...       ...\n",
       "58924       99985   176670        0            51480      0389\n",
       "58925       99991   151118        0            13500     56211\n",
       "58926       99992   197084        0            85980      9999\n",
       "58927       99995   137810        0            18900      4414\n",
       "58928       99999   113369        0            33300     75612\n",
       "\n",
       "[58929 rows x 5 columns]"
      ]
     },
     "execution_count": 85,
     "metadata": {},
     "output_type": "execute_result"
    }
   ],
   "source": [
    "labels"
   ]
  },
  {
   "cell_type": "code",
   "execution_count": 129,
   "id": "0aabb4e3",
   "metadata": {},
   "outputs": [],
   "source": [
    "X = nt_labels.drop([\"readmit\", \"stay_length_sec\", \"icd9_code\", \"diagnosis\"], axis = 1)\n",
    "Y = nt_labels[\"readmit\"]\n",
    "\n",
    "\n",
    "X_train = X.loc[0:46200, ]\n",
    "X_test = X.loc[46201:57749, ]\n",
    "Y_train = Y.loc[0:46200, ]\n",
    "Y_test = Y.loc[46201:57749, ]"
   ]
  },
  {
   "cell_type": "code",
   "execution_count": 69,
   "id": "8b0f6776",
   "metadata": {},
   "outputs": [
    {
     "name": "stdout",
     "output_type": "stream",
     "text": [
      "admission_type_NEWBORN\n"
     ]
    }
   ],
   "source": [
    "for col in X_train.columns:\n",
    "    if \"NEWBORN\" in col:\n",
    "        print(col)"
   ]
  },
  {
   "cell_type": "code",
   "execution_count": 203,
   "id": "cfecf54f",
   "metadata": {},
   "outputs": [
    {
     "ename": "NameError",
     "evalue": "name 'confusion_matrix' is not defined",
     "output_type": "error",
     "traceback": [
      "\u001b[0;31m---------------------------------------------------------------------------\u001b[0m",
      "\u001b[0;31mNameError\u001b[0m                                 Traceback (most recent call last)",
      "\u001b[0;32m/var/folders/f2/xkm2p9256_ldnpncxxgb38m40000gn/T/ipykernel_23039/3405546050.py\u001b[0m in \u001b[0;36m<module>\u001b[0;34m\u001b[0m\n\u001b[0;32m----> 1\u001b[0;31m \u001b[0mtn\u001b[0m\u001b[0;34m,\u001b[0m \u001b[0mfp\u001b[0m\u001b[0;34m,\u001b[0m \u001b[0mfn\u001b[0m\u001b[0;34m,\u001b[0m \u001b[0mtp\u001b[0m \u001b[0;34m=\u001b[0m \u001b[0mconfusion_matrix\u001b[0m\u001b[0;34m(\u001b[0m\u001b[0;34m[\u001b[0m\u001b[0;36m0\u001b[0m\u001b[0;34m,\u001b[0m \u001b[0;36m1\u001b[0m\u001b[0;34m,\u001b[0m \u001b[0;36m0\u001b[0m\u001b[0;34m,\u001b[0m \u001b[0;36m1\u001b[0m\u001b[0;34m]\u001b[0m\u001b[0;34m,\u001b[0m \u001b[0;34m[\u001b[0m\u001b[0;36m1\u001b[0m\u001b[0;34m,\u001b[0m \u001b[0;36m1\u001b[0m\u001b[0;34m,\u001b[0m \u001b[0;36m1\u001b[0m\u001b[0;34m,\u001b[0m \u001b[0;36m0\u001b[0m\u001b[0;34m]\u001b[0m\u001b[0;34m)\u001b[0m\u001b[0;34m\u001b[0m\u001b[0;34m\u001b[0m\u001b[0m\n\u001b[0m",
      "\u001b[0;31mNameError\u001b[0m: name 'confusion_matrix' is not defined"
     ]
    }
   ],
   "source": [
    "tn, fp, fn, tp = confusion_matrix([0, 1, 0, 1], [1, 1, 1, 0])"
   ]
  },
  {
   "cell_type": "code",
   "execution_count": null,
   "id": "a479ba8e",
   "metadata": {},
   "outputs": [],
   "source": []
  },
  {
   "cell_type": "code",
   "execution_count": null,
   "id": "1e9551c8",
   "metadata": {},
   "outputs": [],
   "source": []
  },
  {
   "cell_type": "code",
   "execution_count": null,
   "id": "1c86d9e5",
   "metadata": {},
   "outputs": [],
   "source": []
  },
  {
   "cell_type": "code",
   "execution_count": 202,
   "id": "bdc9ca93",
   "metadata": {},
   "outputs": [
    {
     "ename": "ValueError",
     "evalue": "'auc' is not a valid scoring value. Use sorted(sklearn.metrics.SCORERS.keys()) to get valid options.",
     "output_type": "error",
     "traceback": [
      "\u001b[0;31m---------------------------------------------------------------------------\u001b[0m",
      "\u001b[0;31mKeyError\u001b[0m                                  Traceback (most recent call last)",
      "\u001b[0;32m~/opt/anaconda3/lib/python3.9/site-packages/sklearn/metrics/_scorer.py\u001b[0m in \u001b[0;36mget_scorer\u001b[0;34m(scoring)\u001b[0m\n\u001b[1;32m    384\u001b[0m         \u001b[0;32mtry\u001b[0m\u001b[0;34m:\u001b[0m\u001b[0;34m\u001b[0m\u001b[0;34m\u001b[0m\u001b[0m\n\u001b[0;32m--> 385\u001b[0;31m             \u001b[0mscorer\u001b[0m \u001b[0;34m=\u001b[0m \u001b[0mSCORERS\u001b[0m\u001b[0;34m[\u001b[0m\u001b[0mscoring\u001b[0m\u001b[0;34m]\u001b[0m\u001b[0;34m\u001b[0m\u001b[0;34m\u001b[0m\u001b[0m\n\u001b[0m\u001b[1;32m    386\u001b[0m         \u001b[0;32mexcept\u001b[0m \u001b[0mKeyError\u001b[0m\u001b[0;34m:\u001b[0m\u001b[0;34m\u001b[0m\u001b[0;34m\u001b[0m\u001b[0m\n",
      "\u001b[0;31mKeyError\u001b[0m: 'auc'",
      "\nDuring handling of the above exception, another exception occurred:\n",
      "\u001b[0;31mValueError\u001b[0m                                Traceback (most recent call last)",
      "\u001b[0;32m/var/folders/f2/xkm2p9256_ldnpncxxgb38m40000gn/T/ipykernel_23039/2561313636.py\u001b[0m in \u001b[0;36m<module>\u001b[0;34m\u001b[0m\n\u001b[1;32m     14\u001b[0m                        scoring = \"auc\")\n\u001b[1;32m     15\u001b[0m \u001b[0mcv\u001b[0m \u001b[0;34m=\u001b[0m \u001b[0mKFold\u001b[0m\u001b[0;34m(\u001b[0m\u001b[0mn_splits\u001b[0m\u001b[0;34m=\u001b[0m\u001b[0;36m10\u001b[0m\u001b[0;34m)\u001b[0m\u001b[0;34m\u001b[0m\u001b[0;34m\u001b[0m\u001b[0m\n\u001b[0;32m---> 16\u001b[0;31m \u001b[0mgrid_res\u001b[0m \u001b[0;34m=\u001b[0m \u001b[0mlr_grid\u001b[0m\u001b[0;34m.\u001b[0m\u001b[0mfit\u001b[0m\u001b[0;34m(\u001b[0m\u001b[0mx_train\u001b[0m\u001b[0;34m,\u001b[0m \u001b[0my_train\u001b[0m\u001b[0;34m)\u001b[0m\u001b[0;34m\u001b[0m\u001b[0;34m\u001b[0m\u001b[0m\n\u001b[0m",
      "\u001b[0;32m~/opt/anaconda3/lib/python3.9/site-packages/sklearn/utils/validation.py\u001b[0m in \u001b[0;36minner_f\u001b[0;34m(*args, **kwargs)\u001b[0m\n\u001b[1;32m     61\u001b[0m             \u001b[0mextra_args\u001b[0m \u001b[0;34m=\u001b[0m \u001b[0mlen\u001b[0m\u001b[0;34m(\u001b[0m\u001b[0margs\u001b[0m\u001b[0;34m)\u001b[0m \u001b[0;34m-\u001b[0m \u001b[0mlen\u001b[0m\u001b[0;34m(\u001b[0m\u001b[0mall_args\u001b[0m\u001b[0;34m)\u001b[0m\u001b[0;34m\u001b[0m\u001b[0;34m\u001b[0m\u001b[0m\n\u001b[1;32m     62\u001b[0m             \u001b[0;32mif\u001b[0m \u001b[0mextra_args\u001b[0m \u001b[0;34m<=\u001b[0m \u001b[0;36m0\u001b[0m\u001b[0;34m:\u001b[0m\u001b[0;34m\u001b[0m\u001b[0;34m\u001b[0m\u001b[0m\n\u001b[0;32m---> 63\u001b[0;31m                 \u001b[0;32mreturn\u001b[0m \u001b[0mf\u001b[0m\u001b[0;34m(\u001b[0m\u001b[0;34m*\u001b[0m\u001b[0margs\u001b[0m\u001b[0;34m,\u001b[0m \u001b[0;34m**\u001b[0m\u001b[0mkwargs\u001b[0m\u001b[0;34m)\u001b[0m\u001b[0;34m\u001b[0m\u001b[0;34m\u001b[0m\u001b[0m\n\u001b[0m\u001b[1;32m     64\u001b[0m \u001b[0;34m\u001b[0m\u001b[0m\n\u001b[1;32m     65\u001b[0m             \u001b[0;31m# extra_args > 0\u001b[0m\u001b[0;34m\u001b[0m\u001b[0;34m\u001b[0m\u001b[0m\n",
      "\u001b[0;32m~/opt/anaconda3/lib/python3.9/site-packages/sklearn/model_selection/_search.py\u001b[0m in \u001b[0;36mfit\u001b[0;34m(self, X, y, groups, **fit_params)\u001b[0m\n\u001b[1;32m    751\u001b[0m             \u001b[0mscorers\u001b[0m \u001b[0;34m=\u001b[0m \u001b[0mself\u001b[0m\u001b[0;34m.\u001b[0m\u001b[0mscoring\u001b[0m\u001b[0;34m\u001b[0m\u001b[0;34m\u001b[0m\u001b[0m\n\u001b[1;32m    752\u001b[0m         \u001b[0;32melif\u001b[0m \u001b[0mself\u001b[0m\u001b[0;34m.\u001b[0m\u001b[0mscoring\u001b[0m \u001b[0;32mis\u001b[0m \u001b[0;32mNone\u001b[0m \u001b[0;32mor\u001b[0m \u001b[0misinstance\u001b[0m\u001b[0;34m(\u001b[0m\u001b[0mself\u001b[0m\u001b[0;34m.\u001b[0m\u001b[0mscoring\u001b[0m\u001b[0;34m,\u001b[0m \u001b[0mstr\u001b[0m\u001b[0;34m)\u001b[0m\u001b[0;34m:\u001b[0m\u001b[0;34m\u001b[0m\u001b[0;34m\u001b[0m\u001b[0m\n\u001b[0;32m--> 753\u001b[0;31m             \u001b[0mscorers\u001b[0m \u001b[0;34m=\u001b[0m \u001b[0mcheck_scoring\u001b[0m\u001b[0;34m(\u001b[0m\u001b[0mself\u001b[0m\u001b[0;34m.\u001b[0m\u001b[0mestimator\u001b[0m\u001b[0;34m,\u001b[0m \u001b[0mself\u001b[0m\u001b[0;34m.\u001b[0m\u001b[0mscoring\u001b[0m\u001b[0;34m)\u001b[0m\u001b[0;34m\u001b[0m\u001b[0;34m\u001b[0m\u001b[0m\n\u001b[0m\u001b[1;32m    754\u001b[0m         \u001b[0;32melse\u001b[0m\u001b[0;34m:\u001b[0m\u001b[0;34m\u001b[0m\u001b[0;34m\u001b[0m\u001b[0m\n\u001b[1;32m    755\u001b[0m             \u001b[0mscorers\u001b[0m \u001b[0;34m=\u001b[0m \u001b[0m_check_multimetric_scoring\u001b[0m\u001b[0;34m(\u001b[0m\u001b[0mself\u001b[0m\u001b[0;34m.\u001b[0m\u001b[0mestimator\u001b[0m\u001b[0;34m,\u001b[0m \u001b[0mself\u001b[0m\u001b[0;34m.\u001b[0m\u001b[0mscoring\u001b[0m\u001b[0;34m)\u001b[0m\u001b[0;34m\u001b[0m\u001b[0;34m\u001b[0m\u001b[0m\n",
      "\u001b[0;32m~/opt/anaconda3/lib/python3.9/site-packages/sklearn/utils/validation.py\u001b[0m in \u001b[0;36minner_f\u001b[0;34m(*args, **kwargs)\u001b[0m\n\u001b[1;32m     61\u001b[0m             \u001b[0mextra_args\u001b[0m \u001b[0;34m=\u001b[0m \u001b[0mlen\u001b[0m\u001b[0;34m(\u001b[0m\u001b[0margs\u001b[0m\u001b[0;34m)\u001b[0m \u001b[0;34m-\u001b[0m \u001b[0mlen\u001b[0m\u001b[0;34m(\u001b[0m\u001b[0mall_args\u001b[0m\u001b[0;34m)\u001b[0m\u001b[0;34m\u001b[0m\u001b[0;34m\u001b[0m\u001b[0m\n\u001b[1;32m     62\u001b[0m             \u001b[0;32mif\u001b[0m \u001b[0mextra_args\u001b[0m \u001b[0;34m<=\u001b[0m \u001b[0;36m0\u001b[0m\u001b[0;34m:\u001b[0m\u001b[0;34m\u001b[0m\u001b[0;34m\u001b[0m\u001b[0m\n\u001b[0;32m---> 63\u001b[0;31m                 \u001b[0;32mreturn\u001b[0m \u001b[0mf\u001b[0m\u001b[0;34m(\u001b[0m\u001b[0;34m*\u001b[0m\u001b[0margs\u001b[0m\u001b[0;34m,\u001b[0m \u001b[0;34m**\u001b[0m\u001b[0mkwargs\u001b[0m\u001b[0;34m)\u001b[0m\u001b[0;34m\u001b[0m\u001b[0;34m\u001b[0m\u001b[0m\n\u001b[0m\u001b[1;32m     64\u001b[0m \u001b[0;34m\u001b[0m\u001b[0m\n\u001b[1;32m     65\u001b[0m             \u001b[0;31m# extra_args > 0\u001b[0m\u001b[0;34m\u001b[0m\u001b[0;34m\u001b[0m\u001b[0m\n",
      "\u001b[0;32m~/opt/anaconda3/lib/python3.9/site-packages/sklearn/metrics/_scorer.py\u001b[0m in \u001b[0;36mcheck_scoring\u001b[0;34m(estimator, scoring, allow_none)\u001b[0m\n\u001b[1;32m    428\u001b[0m                         \"'fit' method, %r was passed\" % estimator)\n\u001b[1;32m    429\u001b[0m     \u001b[0;32mif\u001b[0m \u001b[0misinstance\u001b[0m\u001b[0;34m(\u001b[0m\u001b[0mscoring\u001b[0m\u001b[0;34m,\u001b[0m \u001b[0mstr\u001b[0m\u001b[0;34m)\u001b[0m\u001b[0;34m:\u001b[0m\u001b[0;34m\u001b[0m\u001b[0;34m\u001b[0m\u001b[0m\n\u001b[0;32m--> 430\u001b[0;31m         \u001b[0;32mreturn\u001b[0m \u001b[0mget_scorer\u001b[0m\u001b[0;34m(\u001b[0m\u001b[0mscoring\u001b[0m\u001b[0;34m)\u001b[0m\u001b[0;34m\u001b[0m\u001b[0;34m\u001b[0m\u001b[0m\n\u001b[0m\u001b[1;32m    431\u001b[0m     \u001b[0;32melif\u001b[0m \u001b[0mcallable\u001b[0m\u001b[0;34m(\u001b[0m\u001b[0mscoring\u001b[0m\u001b[0;34m)\u001b[0m\u001b[0;34m:\u001b[0m\u001b[0;34m\u001b[0m\u001b[0;34m\u001b[0m\u001b[0m\n\u001b[1;32m    432\u001b[0m         \u001b[0;31m# Heuristic to ensure user has not passed a metric\u001b[0m\u001b[0;34m\u001b[0m\u001b[0;34m\u001b[0m\u001b[0m\n",
      "\u001b[0;32m~/opt/anaconda3/lib/python3.9/site-packages/sklearn/metrics/_scorer.py\u001b[0m in \u001b[0;36mget_scorer\u001b[0;34m(scoring)\u001b[0m\n\u001b[1;32m    385\u001b[0m             \u001b[0mscorer\u001b[0m \u001b[0;34m=\u001b[0m \u001b[0mSCORERS\u001b[0m\u001b[0;34m[\u001b[0m\u001b[0mscoring\u001b[0m\u001b[0;34m]\u001b[0m\u001b[0;34m\u001b[0m\u001b[0;34m\u001b[0m\u001b[0m\n\u001b[1;32m    386\u001b[0m         \u001b[0;32mexcept\u001b[0m \u001b[0mKeyError\u001b[0m\u001b[0;34m:\u001b[0m\u001b[0;34m\u001b[0m\u001b[0;34m\u001b[0m\u001b[0m\n\u001b[0;32m--> 387\u001b[0;31m             raise ValueError('%r is not a valid scoring value. '\n\u001b[0m\u001b[1;32m    388\u001b[0m                              \u001b[0;34m'Use sorted(sklearn.metrics.SCORERS.keys()) '\u001b[0m\u001b[0;34m\u001b[0m\u001b[0;34m\u001b[0m\u001b[0m\n\u001b[1;32m    389\u001b[0m                              'to get valid options.' % scoring)\n",
      "\u001b[0;31mValueError\u001b[0m: 'auc' is not a valid scoring value. Use sorted(sklearn.metrics.SCORERS.keys()) to get valid options."
     ]
    }
   ],
   "source": [
    "#Running sklearn log reg:\n",
    "\n",
    "#Hyper parameters to tune: \n",
    "penalty = [\"l2\", \"none\"]\n",
    "C_options = [1000, 100, 1, 0.1, 0.001, 0.0001]\n",
    "\n",
    "param_dict = {\"penalty\":penalty, \"C\":C_options}\n",
    "\n",
    "#Logistic Regression:\n",
    "lr = LogisticRegression(random_state=0)\n",
    "lr_grid = GridSearchCV(estimator = lr,\n",
    "                       param_grid = param_dict,\n",
    "                       cv = cv,\n",
    "                       scoring = \"auc\")\n",
    "cv = KFold(n_splits=10)\n",
    "grid_res = lr_grid.fit(x_train, y_train)"
   ]
  },
  {
   "cell_type": "code",
   "execution_count": 133,
   "id": "9198f208",
   "metadata": {
    "scrolled": true
   },
   "outputs": [
    {
     "name": "stdout",
     "output_type": "stream",
     "text": [
      "Best: 0.959114 using {'C': 1000, 'penalty': 'l2'}\n"
     ]
    }
   ],
   "source": [
    "print(\"Best: %f using %s\" % (grid_res.best_score_, grid_res.best_params_))\n"
   ]
  },
  {
   "cell_type": "code",
   "execution_count": 126,
   "id": "723c78f6",
   "metadata": {},
   "outputs": [
    {
     "data": {
      "text/plain": [
       "LogisticRegression(random_state=0)"
      ]
     },
     "execution_count": 126,
     "metadata": {},
     "output_type": "execute_result"
    }
   ],
   "source": [
    "X_train2 = X_train.drop(\"diagnosis\", axis=1)\n",
    "lr.fit(X_train2, Y_train)\n",
    "\n",
    "#X_train2[\"is_female\"].unique()"
   ]
  },
  {
   "cell_type": "code",
   "execution_count": null,
   "id": "392cbcbd",
   "metadata": {},
   "outputs": [],
   "source": []
  },
  {
   "cell_type": "code",
   "execution_count": 113,
   "id": "dd48bd68",
   "metadata": {},
   "outputs": [
    {
     "ename": "NameError",
     "evalue": "name 'nt_labels' is not defined",
     "output_type": "error",
     "traceback": [
      "\u001b[0;31m---------------------------------------------------------------------------\u001b[0m",
      "\u001b[0;31mNameError\u001b[0m                                 Traceback (most recent call last)",
      "\u001b[0;32m/var/folders/f2/xkm2p9256_ldnpncxxgb38m40000gn/T/ipykernel_23039/772247256.py\u001b[0m in \u001b[0;36m<module>\u001b[0;34m\u001b[0m\n\u001b[0;32m----> 1\u001b[0;31m \u001b[0mnt_labels\u001b[0m\u001b[0;34m.\u001b[0m\u001b[0mcolumns\u001b[0m\u001b[0;34m\u001b[0m\u001b[0;34m\u001b[0m\u001b[0m\n\u001b[0m",
      "\u001b[0;31mNameError\u001b[0m: name 'nt_labels' is not defined"
     ]
    }
   ],
   "source": []
  },
  {
   "cell_type": "code",
   "execution_count": 390,
   "id": "b882f54f",
   "metadata": {},
   "outputs": [
    {
     "data": {
      "text/html": [
       "<div>\n",
       "<style scoped>\n",
       "    .dataframe tbody tr th:only-of-type {\n",
       "        vertical-align: middle;\n",
       "    }\n",
       "\n",
       "    .dataframe tbody tr th {\n",
       "        vertical-align: top;\n",
       "    }\n",
       "\n",
       "    .dataframe thead th {\n",
       "        text-align: right;\n",
       "    }\n",
       "</style>\n",
       "<table border=\"1\" class=\"dataframe\">\n",
       "  <thead>\n",
       "    <tr style=\"text-align: right;\">\n",
       "      <th></th>\n",
       "      <th>subject_id</th>\n",
       "      <th>hadm_id</th>\n",
       "      <th>is_discharge</th>\n",
       "      <th>is_nursing</th>\n",
       "      <th>is_other</th>\n",
       "      <th>roberta</th>\n",
       "      <th>icd9_code</th>\n",
       "      <th>unnamed: 0</th>\n",
       "      <th>tsurg</th>\n",
       "      <th>med</th>\n",
       "      <th>...</th>\n",
       "      <th>ethnicity_patient declined to answer</th>\n",
       "      <th>ethnicity_portuguese</th>\n",
       "      <th>ethnicity_south american</th>\n",
       "      <th>ethnicity_unable to obtain</th>\n",
       "      <th>ethnicity_unknown/not specified</th>\n",
       "      <th>ethnicity_white</th>\n",
       "      <th>ethnicity_white - brazilian</th>\n",
       "      <th>ethnicity_white - eastern european</th>\n",
       "      <th>ethnicity_white - other european</th>\n",
       "      <th>ethnicity_white - russian</th>\n",
       "    </tr>\n",
       "  </thead>\n",
       "  <tbody>\n",
       "    <tr>\n",
       "      <th>19692</th>\n",
       "      <td>28114</td>\n",
       "      <td>108195</td>\n",
       "      <td>1</td>\n",
       "      <td>0</td>\n",
       "      <td>0</td>\n",
       "      <td>[0, 48759, 9167, 12478, 10566, 35, 1437, 646, ...</td>\n",
       "      <td>9352</td>\n",
       "      <td>33585</td>\n",
       "      <td>0</td>\n",
       "      <td>1</td>\n",
       "      <td>...</td>\n",
       "      <td>0</td>\n",
       "      <td>0</td>\n",
       "      <td>0</td>\n",
       "      <td>0</td>\n",
       "      <td>0</td>\n",
       "      <td>1</td>\n",
       "      <td>0</td>\n",
       "      <td>0</td>\n",
       "      <td>0</td>\n",
       "      <td>0</td>\n",
       "    </tr>\n",
       "    <tr>\n",
       "      <th>4046</th>\n",
       "      <td>82512</td>\n",
       "      <td>169761</td>\n",
       "      <td>1</td>\n",
       "      <td>0</td>\n",
       "      <td>0</td>\n",
       "      <td>[0, 48759, 9167, 12478, 10566, 35, 1437, 646, ...</td>\n",
       "      <td>4241</td>\n",
       "      <td>52341</td>\n",
       "      <td>0</td>\n",
       "      <td>0</td>\n",
       "      <td>...</td>\n",
       "      <td>0</td>\n",
       "      <td>0</td>\n",
       "      <td>0</td>\n",
       "      <td>0</td>\n",
       "      <td>0</td>\n",
       "      <td>1</td>\n",
       "      <td>0</td>\n",
       "      <td>0</td>\n",
       "      <td>0</td>\n",
       "      <td>0</td>\n",
       "    </tr>\n",
       "    <tr>\n",
       "      <th>39366</th>\n",
       "      <td>90414</td>\n",
       "      <td>199046</td>\n",
       "      <td>1</td>\n",
       "      <td>0</td>\n",
       "      <td>0</td>\n",
       "      <td>[0, 48759, 9167, 12478, 10566, 35, 1437, 646, ...</td>\n",
       "      <td>99666</td>\n",
       "      <td>54700</td>\n",
       "      <td>0</td>\n",
       "      <td>1</td>\n",
       "      <td>...</td>\n",
       "      <td>0</td>\n",
       "      <td>0</td>\n",
       "      <td>0</td>\n",
       "      <td>0</td>\n",
       "      <td>0</td>\n",
       "      <td>1</td>\n",
       "      <td>0</td>\n",
       "      <td>0</td>\n",
       "      <td>0</td>\n",
       "      <td>0</td>\n",
       "    </tr>\n",
       "    <tr>\n",
       "      <th>7578</th>\n",
       "      <td>30575</td>\n",
       "      <td>107242</td>\n",
       "      <td>1</td>\n",
       "      <td>0</td>\n",
       "      <td>0</td>\n",
       "      <td>[0, 48759, 9167, 12478, 10566, 35, 1437, 646, ...</td>\n",
       "      <td>51881</td>\n",
       "      <td>36383</td>\n",
       "      <td>0</td>\n",
       "      <td>1</td>\n",
       "      <td>...</td>\n",
       "      <td>0</td>\n",
       "      <td>0</td>\n",
       "      <td>0</td>\n",
       "      <td>0</td>\n",
       "      <td>0</td>\n",
       "      <td>1</td>\n",
       "      <td>0</td>\n",
       "      <td>0</td>\n",
       "      <td>0</td>\n",
       "      <td>0</td>\n",
       "    </tr>\n",
       "    <tr>\n",
       "      <th>41771</th>\n",
       "      <td>14080</td>\n",
       "      <td>181637</td>\n",
       "      <td>1</td>\n",
       "      <td>0</td>\n",
       "      <td>0</td>\n",
       "      <td>[0, 49329, 9167, 12478, 10566, 35, 1437, 646, ...</td>\n",
       "      <td>85226</td>\n",
       "      <td>16839</td>\n",
       "      <td>0</td>\n",
       "      <td>0</td>\n",
       "      <td>...</td>\n",
       "      <td>0</td>\n",
       "      <td>0</td>\n",
       "      <td>0</td>\n",
       "      <td>0</td>\n",
       "      <td>0</td>\n",
       "      <td>1</td>\n",
       "      <td>0</td>\n",
       "      <td>0</td>\n",
       "      <td>0</td>\n",
       "      <td>0</td>\n",
       "    </tr>\n",
       "    <tr>\n",
       "      <th>...</th>\n",
       "      <td>...</td>\n",
       "      <td>...</td>\n",
       "      <td>...</td>\n",
       "      <td>...</td>\n",
       "      <td>...</td>\n",
       "      <td>...</td>\n",
       "      <td>...</td>\n",
       "      <td>...</td>\n",
       "      <td>...</td>\n",
       "      <td>...</td>\n",
       "      <td>...</td>\n",
       "      <td>...</td>\n",
       "      <td>...</td>\n",
       "      <td>...</td>\n",
       "      <td>...</td>\n",
       "      <td>...</td>\n",
       "      <td>...</td>\n",
       "      <td>...</td>\n",
       "      <td>...</td>\n",
       "      <td>...</td>\n",
       "      <td>...</td>\n",
       "    </tr>\n",
       "    <tr>\n",
       "      <th>1699</th>\n",
       "      <td>23959</td>\n",
       "      <td>131919</td>\n",
       "      <td>1</td>\n",
       "      <td>0</td>\n",
       "      <td>0</td>\n",
       "      <td>[0, 48759, 9167, 12478, 10566, 35, 1437, 646, ...</td>\n",
       "      <td>44023</td>\n",
       "      <td>28615</td>\n",
       "      <td>0</td>\n",
       "      <td>0</td>\n",
       "      <td>...</td>\n",
       "      <td>0</td>\n",
       "      <td>0</td>\n",
       "      <td>0</td>\n",
       "      <td>0</td>\n",
       "      <td>0</td>\n",
       "      <td>1</td>\n",
       "      <td>0</td>\n",
       "      <td>0</td>\n",
       "      <td>0</td>\n",
       "      <td>0</td>\n",
       "    </tr>\n",
       "    <tr>\n",
       "      <th>47766</th>\n",
       "      <td>97232</td>\n",
       "      <td>189495</td>\n",
       "      <td>1</td>\n",
       "      <td>0</td>\n",
       "      <td>0</td>\n",
       "      <td>[0, 48759, 9167, 12478, 10566, 35, 1437, 646, ...</td>\n",
       "      <td>41071</td>\n",
       "      <td>56911</td>\n",
       "      <td>0</td>\n",
       "      <td>0</td>\n",
       "      <td>...</td>\n",
       "      <td>0</td>\n",
       "      <td>0</td>\n",
       "      <td>0</td>\n",
       "      <td>0</td>\n",
       "      <td>1</td>\n",
       "      <td>0</td>\n",
       "      <td>0</td>\n",
       "      <td>0</td>\n",
       "      <td>0</td>\n",
       "      <td>0</td>\n",
       "    </tr>\n",
       "    <tr>\n",
       "      <th>16576</th>\n",
       "      <td>7510</td>\n",
       "      <td>143474</td>\n",
       "      <td>1</td>\n",
       "      <td>0</td>\n",
       "      <td>0</td>\n",
       "      <td>[0, 49329, 9167, 12478, 10566, 35, 646, 12606,...</td>\n",
       "      <td>V3001</td>\n",
       "      <td>8989</td>\n",
       "      <td>0</td>\n",
       "      <td>0</td>\n",
       "      <td>...</td>\n",
       "      <td>0</td>\n",
       "      <td>0</td>\n",
       "      <td>0</td>\n",
       "      <td>0</td>\n",
       "      <td>0</td>\n",
       "      <td>1</td>\n",
       "      <td>0</td>\n",
       "      <td>0</td>\n",
       "      <td>0</td>\n",
       "      <td>0</td>\n",
       "    </tr>\n",
       "    <tr>\n",
       "      <th>24121</th>\n",
       "      <td>16030</td>\n",
       "      <td>194963</td>\n",
       "      <td>1</td>\n",
       "      <td>0</td>\n",
       "      <td>0</td>\n",
       "      <td>[0, 49329, 9167, 12478, 10566, 35, 1437, 646, ...</td>\n",
       "      <td>80502</td>\n",
       "      <td>19112</td>\n",
       "      <td>0</td>\n",
       "      <td>0</td>\n",
       "      <td>...</td>\n",
       "      <td>0</td>\n",
       "      <td>0</td>\n",
       "      <td>0</td>\n",
       "      <td>0</td>\n",
       "      <td>0</td>\n",
       "      <td>0</td>\n",
       "      <td>0</td>\n",
       "      <td>0</td>\n",
       "      <td>0</td>\n",
       "      <td>0</td>\n",
       "    </tr>\n",
       "    <tr>\n",
       "      <th>48943</th>\n",
       "      <td>42937</td>\n",
       "      <td>176468</td>\n",
       "      <td>1</td>\n",
       "      <td>0</td>\n",
       "      <td>0</td>\n",
       "      <td>[0, 49329, 9167, 12478, 10566, 35, 1437, 646, ...</td>\n",
       "      <td>41041</td>\n",
       "      <td>39812</td>\n",
       "      <td>0</td>\n",
       "      <td>0</td>\n",
       "      <td>...</td>\n",
       "      <td>0</td>\n",
       "      <td>0</td>\n",
       "      <td>0</td>\n",
       "      <td>0</td>\n",
       "      <td>0</td>\n",
       "      <td>0</td>\n",
       "      <td>0</td>\n",
       "      <td>0</td>\n",
       "      <td>0</td>\n",
       "      <td>0</td>\n",
       "    </tr>\n",
       "  </tbody>\n",
       "</table>\n",
       "<p>11473 rows × 258 columns</p>\n",
       "</div>"
      ],
      "text/plain": [
       "       subject_id  hadm_id  is_discharge  is_nursing  is_other  \\\n",
       "19692       28114   108195             1           0         0   \n",
       "4046        82512   169761             1           0         0   \n",
       "39366       90414   199046             1           0         0   \n",
       "7578        30575   107242             1           0         0   \n",
       "41771       14080   181637             1           0         0   \n",
       "...           ...      ...           ...         ...       ...   \n",
       "1699        23959   131919             1           0         0   \n",
       "47766       97232   189495             1           0         0   \n",
       "16576        7510   143474             1           0         0   \n",
       "24121       16030   194963             1           0         0   \n",
       "48943       42937   176468             1           0         0   \n",
       "\n",
       "                                                 roberta icd9_code  \\\n",
       "19692  [0, 48759, 9167, 12478, 10566, 35, 1437, 646, ...      9352   \n",
       "4046   [0, 48759, 9167, 12478, 10566, 35, 1437, 646, ...      4241   \n",
       "39366  [0, 48759, 9167, 12478, 10566, 35, 1437, 646, ...     99666   \n",
       "7578   [0, 48759, 9167, 12478, 10566, 35, 1437, 646, ...     51881   \n",
       "41771  [0, 49329, 9167, 12478, 10566, 35, 1437, 646, ...     85226   \n",
       "...                                                  ...       ...   \n",
       "1699   [0, 48759, 9167, 12478, 10566, 35, 1437, 646, ...     44023   \n",
       "47766  [0, 48759, 9167, 12478, 10566, 35, 1437, 646, ...     41071   \n",
       "16576  [0, 49329, 9167, 12478, 10566, 35, 646, 12606,...     V3001   \n",
       "24121  [0, 49329, 9167, 12478, 10566, 35, 1437, 646, ...     80502   \n",
       "48943  [0, 49329, 9167, 12478, 10566, 35, 1437, 646, ...     41041   \n",
       "\n",
       "       unnamed: 0  tsurg  med  ...  ethnicity_patient declined to answer  \\\n",
       "19692       33585      0    1  ...                                     0   \n",
       "4046        52341      0    0  ...                                     0   \n",
       "39366       54700      0    1  ...                                     0   \n",
       "7578        36383      0    1  ...                                     0   \n",
       "41771       16839      0    0  ...                                     0   \n",
       "...           ...    ...  ...  ...                                   ...   \n",
       "1699        28615      0    0  ...                                     0   \n",
       "47766       56911      0    0  ...                                     0   \n",
       "16576        8989      0    0  ...                                     0   \n",
       "24121       19112      0    0  ...                                     0   \n",
       "48943       39812      0    0  ...                                     0   \n",
       "\n",
       "       ethnicity_portuguese  ethnicity_south american  \\\n",
       "19692                     0                         0   \n",
       "4046                      0                         0   \n",
       "39366                     0                         0   \n",
       "7578                      0                         0   \n",
       "41771                     0                         0   \n",
       "...                     ...                       ...   \n",
       "1699                      0                         0   \n",
       "47766                     0                         0   \n",
       "16576                     0                         0   \n",
       "24121                     0                         0   \n",
       "48943                     0                         0   \n",
       "\n",
       "       ethnicity_unable to obtain  ethnicity_unknown/not specified  \\\n",
       "19692                           0                                0   \n",
       "4046                            0                                0   \n",
       "39366                           0                                0   \n",
       "7578                            0                                0   \n",
       "41771                           0                                0   \n",
       "...                           ...                              ...   \n",
       "1699                            0                                0   \n",
       "47766                           0                                1   \n",
       "16576                           0                                0   \n",
       "24121                           0                                0   \n",
       "48943                           0                                0   \n",
       "\n",
       "       ethnicity_white  ethnicity_white - brazilian  \\\n",
       "19692                1                            0   \n",
       "4046                 1                            0   \n",
       "39366                1                            0   \n",
       "7578                 1                            0   \n",
       "41771                1                            0   \n",
       "...                ...                          ...   \n",
       "1699                 1                            0   \n",
       "47766                0                            0   \n",
       "16576                1                            0   \n",
       "24121                0                            0   \n",
       "48943                0                            0   \n",
       "\n",
       "       ethnicity_white - eastern european  ethnicity_white - other european  \\\n",
       "19692                                   0                                 0   \n",
       "4046                                    0                                 0   \n",
       "39366                                   0                                 0   \n",
       "7578                                    0                                 0   \n",
       "41771                                   0                                 0   \n",
       "...                                   ...                               ...   \n",
       "1699                                    0                                 0   \n",
       "47766                                   0                                 0   \n",
       "16576                                   0                                 0   \n",
       "24121                                   0                                 0   \n",
       "48943                                   0                                 0   \n",
       "\n",
       "       ethnicity_white - russian  \n",
       "19692                          0  \n",
       "4046                           0  \n",
       "39366                          0  \n",
       "7578                           0  \n",
       "41771                          0  \n",
       "...                          ...  \n",
       "1699                           0  \n",
       "47766                          0  \n",
       "16576                          0  \n",
       "24121                          0  \n",
       "48943                          0  \n",
       "\n",
       "[11473 rows x 258 columns]"
      ]
     },
     "execution_count": 390,
     "metadata": {},
     "output_type": "execute_result"
    }
   ],
   "source": []
  }
 ],
 "metadata": {
  "kernelspec": {
   "display_name": "Python 3 (ipykernel)",
   "language": "python",
   "name": "python3"
  },
  "language_info": {
   "codemirror_mode": {
    "name": "ipython",
    "version": 3
   },
   "file_extension": ".py",
   "mimetype": "text/x-python",
   "name": "python",
   "nbconvert_exporter": "python",
   "pygments_lexer": "ipython3",
   "version": "3.9.7"
  }
 },
 "nbformat": 4,
 "nbformat_minor": 5
}
